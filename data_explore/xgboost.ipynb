{
 "cells": [
  {
   "cell_type": "code",
   "execution_count": 1,
   "metadata": {
    "collapsed": true
   },
   "outputs": [],
   "source": [
    "import xgboost as xgb\n",
    "import pandas as pd\n"
   ]
  },
  {
   "cell_type": "code",
   "execution_count": 6,
   "metadata": {
    "collapsed": false
   },
   "outputs": [
    {
     "data": {
      "text/plain": [
       "0    1\n",
       "1    2\n",
       "2    3\n",
       "Name: a, dtype: int64"
      ]
     },
     "execution_count": 6,
     "metadata": {},
     "output_type": "execute_result"
    }
   ],
   "source": [
    "dataframe = pd.DataFrame({\"a\":[1, 2, 3], \"b\":[2, 3, 4]})\n",
    "dataframe.iloc[:, 0]"
   ]
  },
  {
   "cell_type": "code",
   "execution_count": 10,
   "metadata": {
    "collapsed": true
   },
   "outputs": [],
   "source": [
    "train_datasetL = pd.read_csv(\"../data/ori_data/train_process.csv\", header=None, sep=\"\\t\").iloc[:, 0].values\n",
    "dev_datasetL = pd.read_csv(\"../data/ori_data/dev_process.csv\", header=None, sep=\"\\t\").iloc[:, 0].values"
   ]
  },
  {
   "cell_type": "code",
   "execution_count": 11,
   "metadata": {
    "collapsed": false
   },
   "outputs": [
    {
     "name": "stdout",
     "output_type": "stream",
     "text": [
      "===dataset length is=== 81981\n",
      "===example of the dataset label=== [0 0 0 1 0 0 0 0 0 0]\n",
      "===dataset length is=== 20495\n",
      "===example of the dataset label=== [0 0 0 1 1 0 0 0 0 0]\n"
     ]
    }
   ],
   "source": [
    "import numpy as np\n",
    "\n",
    "train_datasetL = np.array(train_datasetL)\n",
    "dev_datasetL = np.array(dev_datasetL)\n",
    "\n",
    "print(\"===dataset length is===\", len(train_datasetL))\n",
    "print(\"===example of the dataset label===\", train_datasetL[:10])\n",
    "\n",
    "print(\"===dataset length is===\", len(dev_datasetL))\n",
    "print(\"===example of the dataset label===\", dev_datasetL[:10])\n"
   ]
  },
  {
   "cell_type": "code",
   "execution_count": 12,
   "metadata": {
    "collapsed": true
   },
   "outputs": [],
   "source": [
    "import pickle\n",
    "import numpy as np\n",
    "import scipy\n",
    "import sklearn"
   ]
  },
  {
   "cell_type": "code",
   "execution_count": 13,
   "metadata": {
    "collapsed": false
   },
   "outputs": [],
   "source": [
    "train_datamatrix = np.load(\"../data/ori_data/train.featurematrix.data\")\n",
    "dev_datamatrix = np.load(\"../data/ori_data/dev.featurematrix.data\")"
   ]
  },
  {
   "cell_type": "code",
   "execution_count": 14,
   "metadata": {
    "collapsed": false
   },
   "outputs": [
    {
     "data": {
      "text/plain": [
       "DictVectorizer(dtype=<class 'numpy.float64'>, separator='=', sort=True,\n",
       "        sparse=False)"
      ]
     },
     "execution_count": 14,
     "metadata": {},
     "output_type": "execute_result"
    }
   ],
   "source": [
    "dict_vectorizer = pickle.load(open(\"../data/m_result/dict_vectorizer.model\", \"rb\"))\n",
    "dict_vectorizer"
   ]
  },
  {
   "cell_type": "code",
   "execution_count": 16,
   "metadata": {
    "collapsed": true
   },
   "outputs": [
    {
     "name": "stdout",
     "output_type": "stream",
     "text": [
      "(81981, 88)\n",
      "(20495, 88)\n"
     ]
    },
    {
     "data": {
      "text/plain": [
       "array([[ 3.69230722,  3.        ,  4.8       , ...,  0.37749976,\n",
       "        17.        , 11.        ],\n",
       "       [ 0.90909041,  0.83333333,  1.        , ...,  0.97673098,\n",
       "        14.        ,  9.        ],\n",
       "       [ 1.49999953,  2.        ,  1.2       , ...,  0.55877043,\n",
       "         9.        ,  6.        ],\n",
       "       ...,\n",
       "       [ 1.7999995 ,  1.8       ,  1.8       , ...,  0.80712203,\n",
       "        12.        ,  8.        ],\n",
       "       [ 4.86956473,  4.30769231,  5.6       , ...,  0.28273682,\n",
       "        21.        , 15.        ],\n",
       "       [ 3.06666619,  2.55555556,  3.83333333, ...,  0.53632542,\n",
       "        18.        , 12.        ]])"
      ]
     },
     "execution_count": 16,
     "metadata": {},
     "output_type": "execute_result"
    }
   ],
   "source": [
    "print(train_datamatrix.shape)\n",
    "print(dev_datamatrix.shape)\n",
    "train_datamatrix"
   ]
  },
  {
   "cell_type": "code",
   "execution_count": 88,
   "metadata": {
    "collapsed": true
   },
   "outputs": [],
   "source": [
    "# ---------------------now no use---------------------\n",
    "def get_label_indices(label):\n",
    "    \"\"\"\n",
    "    \"\"\"\n",
    "    pos_indices = []\n",
    "    neg_indices = []\n",
    "    for index, label in enumerate(label):\n",
    "        if label == 1:\n",
    "            pos_indices.append(index)\n",
    "        else:\n",
    "            neg_indices.append(index)\n",
    "    return pos_indices, neg_indices\n",
    "\n",
    "def split(datasetM, label, train_ratio=0.8):\n",
    "    \"\"\"\n",
    "    split the dataset into train test, 10% for test 10% for valid(make the train test label )\n",
    "    \"\"\"\n",
    "    pos_indices, neg_indices = get_label_indices(label)\n",
    "    \n",
    "    pos_permutaion_indices = np.random.permutation(len(pos_indices))\n",
    "    neg_permutation_indices = np.random.permutation(len(neg_indices))\n",
    "    \n",
    "    train_pos_len = int(len(pos_indices) * train_ratio)\n",
    "    train_neg_len = int(len(neg_indices) * train_ratio)\n",
    "    \n",
    "    train_pos_indices = pos_permutaion_indices[:train_pos_len]\n",
    "    train_neg_indices = neg_permutation_indices[:train_neg_len]\n",
    "    train_indices = np.concatenate((train_pos_indices, train_neg_indices))\n",
    "    np.random.shuffle(train_indices)\n",
    "    train_datasetM = datasetM[train_indices]\n",
    "    train_datasetL = label[train_indices]\n",
    "    \n",
    "    test_pos_indices =pos_permutaion_indices[train_pos_len:]\n",
    "    test_neg_indices = neg_permutation_indices[train_neg_len:]\n",
    "    test_indices = np.concatenate((test_pos_indices, test_neg_indices))\n",
    "    np.random.shuffle(test_indices)\n",
    "    test_datasetM = datasetM[test_indices]\n",
    "    test_datasetL = label[test_indices]\n",
    "    \n",
    "    return train_datasetM, train_datasetL, test_datasetM, test_datasetL\n",
    "\n",
    "train_datasetM, train_datasetL, test_datasetM, test_datasetL = split(datamatrix, datasetL)\n",
    "\n",
    "assert(train_datasetM.shape[0] == len(train_datasetL))\n",
    "assert(test_datasetM.shape[0] == len(test_datasetL))\n",
    "\n",
    "print(\"===train dataset shape====\", train_datasetM.shape)\n",
    "print(\"===test dataset shape====\", test_datasetM.shape)"
   ]
  },
  {
   "cell_type": "code",
   "execution_count": 90,
   "metadata": {
    "collapsed": true
   },
   "outputs": [],
   "source": [
    "dtrain = xgb.DMatrix(train_datamatrix, train_datasetL)\n",
    "dtest = xgb.DMatrix(dev_datamatrix, dev_datasetL)"
   ]
  },
  {
   "cell_type": "code",
   "execution_count": 63,
   "metadata": {
    "collapsed": false,
    "scrolled": true
   },
   "outputs": [
    {
     "name": "stdout",
     "output_type": "stream",
     "text": [
      "[0]\tvalidation_0-error:0.262161\n",
      "[1]\tvalidation_0-error:0.28485\n",
      "[2]\tvalidation_0-error:0.286216\n",
      "[3]\tvalidation_0-error:0.274018\n",
      "[4]\tvalidation_0-error:0.278361\n",
      "[5]\tvalidation_0-error:0.278165\n",
      "[6]\tvalidation_0-error:0.280459\n",
      "[7]\tvalidation_0-error:0.277824\n",
      "[8]\tvalidation_0-error:0.274799\n",
      "[9]\tvalidation_0-error:0.274799\n",
      "[10]\tvalidation_0-error:0.275726\n",
      "[11]\tvalidation_0-error:0.275726\n",
      "[12]\tvalidation_0-error:0.274896\n",
      "[13]\tvalidation_0-error:0.275921\n",
      "[14]\tvalidation_0-error:0.276506\n",
      "[15]\tvalidation_0-error:0.27636\n",
      "[16]\tvalidation_0-error:0.276994\n",
      "[17]\tvalidation_0-error:0.276702\n",
      "[18]\tvalidation_0-error:0.276116\n",
      "[19]\tvalidation_0-error:0.275628\n",
      "[20]\tvalidation_0-error:0.276458\n",
      "[21]\tvalidation_0-error:0.276946\n",
      "[22]\tvalidation_0-error:0.277921\n",
      "[23]\tvalidation_0-error:0.277775\n",
      "[24]\tvalidation_0-error:0.277238\n",
      "[25]\tvalidation_0-error:0.277531\n",
      "[26]\tvalidation_0-error:0.276799\n",
      "[27]\tvalidation_0-error:0.276555\n",
      "[28]\tvalidation_0-error:0.276214\n",
      "[29]\tvalidation_0-error:0.276116\n",
      "[30]\tvalidation_0-error:0.276409\n",
      "[31]\tvalidation_0-error:0.276165\n",
      "[32]\tvalidation_0-error:0.27675\n",
      "[33]\tvalidation_0-error:0.276506\n",
      "[34]\tvalidation_0-error:0.276604\n",
      "[35]\tvalidation_0-error:0.277629\n",
      "[36]\tvalidation_0-error:0.277531\n",
      "[37]\tvalidation_0-error:0.276653\n",
      "[38]\tvalidation_0-error:0.275872\n",
      "[39]\tvalidation_0-error:0.275287\n",
      "[40]\tvalidation_0-error:0.275091\n",
      "[41]\tvalidation_0-error:0.275433\n",
      "[42]\tvalidation_0-error:0.275579\n",
      "[43]\tvalidation_0-error:0.276116\n",
      "[44]\tvalidation_0-error:0.276116\n",
      "[45]\tvalidation_0-error:0.276409\n",
      "[46]\tvalidation_0-error:0.276897\n",
      "[47]\tvalidation_0-error:0.276946\n",
      "[48]\tvalidation_0-error:0.276555\n",
      "[49]\tvalidation_0-error:0.276946\n",
      "[50]\tvalidation_0-error:0.27675\n",
      "[51]\tvalidation_0-error:0.276653\n",
      "[52]\tvalidation_0-error:0.277141\n",
      "[53]\tvalidation_0-error:0.277531\n",
      "[54]\tvalidation_0-error:0.278019\n",
      "[55]\tvalidation_0-error:0.278068\n",
      "[56]\tvalidation_0-error:0.278361\n",
      "[57]\tvalidation_0-error:0.278458\n",
      "[58]\tvalidation_0-error:0.277824\n",
      "[59]\tvalidation_0-error:0.276897\n",
      "[60]\tvalidation_0-error:0.276848\n",
      "[61]\tvalidation_0-error:0.276897\n",
      "[62]\tvalidation_0-error:0.276702\n",
      "[63]\tvalidation_0-error:0.276506\n",
      "[64]\tvalidation_0-error:0.277238\n",
      "[65]\tvalidation_0-error:0.277287\n",
      "[66]\tvalidation_0-error:0.277336\n",
      "[67]\tvalidation_0-error:0.277043\n",
      "[68]\tvalidation_0-error:0.276994\n",
      "[69]\tvalidation_0-error:0.27675\n",
      "[70]\tvalidation_0-error:0.277287\n",
      "[71]\tvalidation_0-error:0.276653\n",
      "[72]\tvalidation_0-error:0.276604\n",
      "[73]\tvalidation_0-error:0.27675\n",
      "[74]\tvalidation_0-error:0.276946\n",
      "[75]\tvalidation_0-error:0.276946\n",
      "[76]\tvalidation_0-error:0.277482\n",
      "[77]\tvalidation_0-error:0.277726\n",
      "[78]\tvalidation_0-error:0.277921\n",
      "[79]\tvalidation_0-error:0.277287\n",
      "[80]\tvalidation_0-error:0.277629\n",
      "[81]\tvalidation_0-error:0.277921\n",
      "[82]\tvalidation_0-error:0.27797\n",
      "[83]\tvalidation_0-error:0.277092\n",
      "[84]\tvalidation_0-error:0.277092\n",
      "[85]\tvalidation_0-error:0.276946\n",
      "[86]\tvalidation_0-error:0.276848\n",
      "[87]\tvalidation_0-error:0.276311\n",
      "[88]\tvalidation_0-error:0.276702\n",
      "[89]\tvalidation_0-error:0.276262\n",
      "[90]\tvalidation_0-error:0.275921\n",
      "[91]\tvalidation_0-error:0.27597\n",
      "[92]\tvalidation_0-error:0.276262\n",
      "[93]\tvalidation_0-error:0.276214\n",
      "[94]\tvalidation_0-error:0.276214\n",
      "[95]\tvalidation_0-error:0.276262\n",
      "[96]\tvalidation_0-error:0.276506\n",
      "[97]\tvalidation_0-error:0.276409\n",
      "[98]\tvalidation_0-error:0.27636\n",
      "[99]\tvalidation_0-error:0.276409\n"
     ]
    }
   ],
   "source": [
    "# specify parameters via map\n",
    "xgb_classifier = xgb.XGBClassifier(max_depth=3, learning_rate=0.1, n_estimators=500, \n",
    "                                   silent=True, objective='binary:logistic', booster='gbtree', \n",
    "                                   n_jobs=1, nthread=None, gamma=0, min_child_weight=2, max_delta_step=0, subsample=1, \n",
    "                                   colsample_bytree=1, colsample_bylevel=1, reg_alpha=0, \n",
    "                                   reg_lambda=0, scale_pos_weight=4, \n",
    "                                   base_score=0.5, random_state=0, seed=None, missing=None)\n",
    "\n",
    "bst = xgb_classifier.fit(train_datamatrix, train_datasetL, eval_set=[(dev_datamatrix, dev_datasetL)])"
   ]
  },
  {
   "cell_type": "code",
   "execution_count": 62,
   "metadata": {
    "collapsed": false
   },
   "outputs": [
    {
     "name": "stdout",
     "output_type": "stream",
     "text": [
      "             precision    recall  f1-score   support\n",
      "\n",
      "          0       0.85      0.91      0.88     16751\n",
      "          1       0.43      0.30      0.35      3744\n",
      "\n",
      "avg / total       0.78      0.80      0.78     20495\n",
      "\n"
     ]
    },
    {
     "name": "stderr",
     "output_type": "stream",
     "text": [
      "/home/xueyunzhe/anaconda3/lib/python3.5/site-packages/sklearn/preprocessing/label.py:151: DeprecationWarning: The truth value of an empty array is ambiguous. Returning False, but in future this will result in an error. Use `array.size > 0` to check that an array is not empty.\n",
      "  if diff:\n"
     ]
    }
   ],
   "source": [
    "# make prediction\n",
    "preds = bst.predict(dev_datamatrix)\n",
    "\n",
    "pred_label = preds >= 0.5\n",
    "pred_label = pred_label.astype(int)\n",
    "from sklearn.metrics import classification_report\n",
    "print(classification_report(dev_datasetL, pred_label))"
   ]
  },
  {
   "cell_type": "code",
   "execution_count": 51,
   "metadata": {
    "collapsed": true
   },
   "outputs": [],
   "source": [
    "import pickle\n",
    "pickle.dump(xgb_classifier, open(\"../data/m_result/xgb_0.model\", \"wb\"), 2)"
   ]
  },
  {
   "cell_type": "code",
   "execution_count": 118,
   "metadata": {
    "collapsed": true
   },
   "outputs": [
    {
     "name": "stderr",
     "output_type": "stream",
     "text": [
      "Exception ignored in: <bound method DMatrix.__del__ of <xgboost.core.DMatrix object at 0x7fccdef956a0>>\n",
      "Traceback (most recent call last):\n",
      "  File \"/home/xueyunzhe/anaconda3/lib/python3.5/site-packages/xgboost-0.6-py3.5.egg/xgboost/core.py\", line 368, in __del__\n",
      "    if self.handle is not None:\n",
      "AttributeError: 'DMatrix' object has no attribute 'handle'\n"
     ]
    },
    {
     "data": {
      "image/png": "[encoded data removed]",
      "text/plain": [
       "<matplotlib.figure.Figure at 0x7fcce207bdd8>"
      ]
     },
     "metadata": {},
     "output_type": "display_data"
    }
   ],
   "source": [
    "import matplotlib.pyplot as plt\n",
    "fig, ax = plt.subplots(figsize=(12,18))\n",
    "xgb.plot_importance(xgb_classifier, max_num_features=50, height=0.8, ax=ax)\n",
    "plt.show()"
   ]
  },
  {
   "cell_type": "code",
   "execution_count": 33,
   "metadata": {
    "collapsed": false
   },
   "outputs": [
    {
     "data": {
      "text/plain": [
       "<scipy.stats._distn_infrastructure.rv_frozen at 0x7f97246e1898>"
      ]
     },
     "execution_count": 33,
     "metadata": {},
     "output_type": "execute_result"
    }
   ],
   "source": [
    "scipy.stats.uniform(0.01, 0.07)"
   ]
  },
  {
   "cell_type": "code",
   "execution_count": 45,
   "metadata": {
    "collapsed": true
   },
   "outputs": [
    {
     "name": "stdout",
     "output_type": "stream",
     "text": [
      "Fitting 3 folds for each of 25 candidates, totalling 75 fits\n",
      "[CV] n_estimators=1000, max_depth=11, min_child_weight=2, scale_pos_weight=2, subsample=0.8, learning_rate=0.07 \n",
      "[CV] n_estimators=1000, max_depth=11, min_child_weight=2, scale_pos_weight=2, subsample=0.8, learning_rate=0.07 \n",
      "[CV] n_estimators=1000, max_depth=11, min_child_weight=2, scale_pos_weight=2, subsample=0.8, learning_rate=0.07 \n",
      "[CV] n_estimators=100, max_depth=9, min_child_weight=2, scale_pos_weight=3, subsample=1.0, learning_rate=0.07 \n"
     ]
    },
    {
     "name": "stderr",
     "output_type": "stream",
     "text": [
      "/home/xueyunzhe/anaconda3/lib/python3.5/site-packages/sklearn/preprocessing/label.py:151: DeprecationWarning: The truth value of an empty array is ambiguous. Returning False, but in future this will result in an error. Use `array.size > 0` to check that an array is not empty.\n",
      "  if diff:\n",
      "/home/xueyunzhe/anaconda3/lib/python3.5/site-packages/sklearn/preprocessing/label.py:151: DeprecationWarning: The truth value of an empty array is ambiguous. Returning False, but in future this will result in an error. Use `array.size > 0` to check that an array is not empty.\n",
      "  if diff:\n"
     ]
    },
    {
     "name": "stdout",
     "output_type": "stream",
     "text": [
      "[CV]  n_estimators=100, max_depth=9, min_child_weight=2, scale_pos_weight=3, subsample=1.0, learning_rate=0.07, score=0.4528593508500772, total=  53.0s\n",
      "[CV] n_estimators=100, max_depth=9, min_child_weight=2, scale_pos_weight=3, subsample=1.0, learning_rate=0.07 \n"
     ]
    },
    {
     "name": "stderr",
     "output_type": "stream",
     "text": [
      "/home/xueyunzhe/anaconda3/lib/python3.5/site-packages/sklearn/preprocessing/label.py:151: DeprecationWarning: The truth value of an empty array is ambiguous. Returning False, but in future this will result in an error. Use `array.size > 0` to check that an array is not empty.\n",
      "  if diff:\n",
      "/home/xueyunzhe/anaconda3/lib/python3.5/site-packages/sklearn/preprocessing/label.py:151: DeprecationWarning: The truth value of an empty array is ambiguous. Returning False, but in future this will result in an error. Use `array.size > 0` to check that an array is not empty.\n",
      "  if diff:\n"
     ]
    },
    {
     "name": "stdout",
     "output_type": "stream",
     "text": [
      "[CV]  n_estimators=100, max_depth=9, min_child_weight=2, scale_pos_weight=3, subsample=1.0, learning_rate=0.07, score=0.4394627691092238, total=  52.9s\n",
      "[CV] n_estimators=100, max_depth=9, min_child_weight=2, scale_pos_weight=3, subsample=1.0, learning_rate=0.07 \n"
     ]
    },
    {
     "name": "stderr",
     "output_type": "stream",
     "text": [
      "/home/xueyunzhe/anaconda3/lib/python3.5/site-packages/sklearn/preprocessing/label.py:151: DeprecationWarning: The truth value of an empty array is ambiguous. Returning False, but in future this will result in an error. Use `array.size > 0` to check that an array is not empty.\n",
      "  if diff:\n",
      "/home/xueyunzhe/anaconda3/lib/python3.5/site-packages/sklearn/preprocessing/label.py:151: DeprecationWarning: The truth value of an empty array is ambiguous. Returning False, but in future this will result in an error. Use `array.size > 0` to check that an array is not empty.\n",
      "  if diff:\n"
     ]
    },
    {
     "name": "stdout",
     "output_type": "stream",
     "text": [
      "[CV]  n_estimators=100, max_depth=9, min_child_weight=2, scale_pos_weight=3, subsample=1.0, learning_rate=0.07, score=0.4402874864625382, total=  53.0s\n",
      "[CV] n_estimators=400, max_depth=7, min_child_weight=3, scale_pos_weight=4, subsample=0.9, learning_rate=0.09 \n"
     ]
    },
    {
     "name": "stderr",
     "output_type": "stream",
     "text": [
      "/home/xueyunzhe/anaconda3/lib/python3.5/site-packages/sklearn/preprocessing/label.py:151: DeprecationWarning: The truth value of an empty array is ambiguous. Returning False, but in future this will result in an error. Use `array.size > 0` to check that an array is not empty.\n",
      "  if diff:\n",
      "/home/xueyunzhe/anaconda3/lib/python3.5/site-packages/sklearn/preprocessing/label.py:151: DeprecationWarning: The truth value of an empty array is ambiguous. Returning False, but in future this will result in an error. Use `array.size > 0` to check that an array is not empty.\n",
      "  if diff:\n"
     ]
    },
    {
     "name": "stdout",
     "output_type": "stream",
     "text": [
      "[CV]  n_estimators=400, max_depth=7, min_child_weight=3, scale_pos_weight=4, subsample=0.9, learning_rate=0.09, score=0.44688644688644685, total= 2.7min\n",
      "[CV] n_estimators=400, max_depth=7, min_child_weight=3, scale_pos_weight=4, subsample=0.9, learning_rate=0.09 \n"
     ]
    },
    {
     "name": "stderr",
     "output_type": "stream",
     "text": [
      "/home/xueyunzhe/anaconda3/lib/python3.5/site-packages/sklearn/preprocessing/label.py:151: DeprecationWarning: The truth value of an empty array is ambiguous. Returning False, but in future this will result in an error. Use `array.size > 0` to check that an array is not empty.\n",
      "  if diff:\n",
      "/home/xueyunzhe/anaconda3/lib/python3.5/site-packages/sklearn/preprocessing/label.py:151: DeprecationWarning: The truth value of an empty array is ambiguous. Returning False, but in future this will result in an error. Use `array.size > 0` to check that an array is not empty.\n",
      "  if diff:\n"
     ]
    },
    {
     "name": "stdout",
     "output_type": "stream",
     "text": [
      "[CV]  n_estimators=400, max_depth=7, min_child_weight=3, scale_pos_weight=4, subsample=0.9, learning_rate=0.09, score=0.4358182620202911, total= 2.6min\n",
      "[CV] n_estimators=400, max_depth=7, min_child_weight=3, scale_pos_weight=4, subsample=0.9, learning_rate=0.09 \n"
     ]
    },
    {
     "name": "stderr",
     "output_type": "stream",
     "text": [
      "/home/xueyunzhe/anaconda3/lib/python3.5/site-packages/sklearn/preprocessing/label.py:151: DeprecationWarning: The truth value of an empty array is ambiguous. Returning False, but in future this will result in an error. Use `array.size > 0` to check that an array is not empty.\n",
      "  if diff:\n",
      "/home/xueyunzhe/anaconda3/lib/python3.5/site-packages/sklearn/preprocessing/label.py:151: DeprecationWarning: The truth value of an empty array is ambiguous. Returning False, but in future this will result in an error. Use `array.size > 0` to check that an array is not empty.\n",
      "  if diff:\n"
     ]
    },
    {
     "name": "stdout",
     "output_type": "stream",
     "text": [
      "[CV]  n_estimators=400, max_depth=7, min_child_weight=3, scale_pos_weight=4, subsample=0.9, learning_rate=0.09, score=0.44311688311688313, total= 2.8min\n",
      "[CV] n_estimators=1000, max_depth=9, min_child_weight=2, scale_pos_weight=3, subsample=0.9, learning_rate=0.01 \n"
     ]
    },
    {
     "name": "stderr",
     "output_type": "stream",
     "text": [
      "/home/xueyunzhe/anaconda3/lib/python3.5/site-packages/sklearn/preprocessing/label.py:151: DeprecationWarning: The truth value of an empty array is ambiguous. Returning False, but in future this will result in an error. Use `array.size > 0` to check that an array is not empty.\n",
      "  if diff:\n",
      "/home/xueyunzhe/anaconda3/lib/python3.5/site-packages/sklearn/preprocessing/label.py:151: DeprecationWarning: The truth value of an empty array is ambiguous. Returning False, but in future this will result in an error. Use `array.size > 0` to check that an array is not empty.\n",
      "  if diff:\n",
      "/home/xueyunzhe/anaconda3/lib/python3.5/site-packages/sklearn/preprocessing/label.py:151: DeprecationWarning: The truth value of an empty array is ambiguous. Returning False, but in future this will result in an error. Use `array.size > 0` to check that an array is not empty.\n",
      "  if diff:\n",
      "/home/xueyunzhe/anaconda3/lib/python3.5/site-packages/sklearn/preprocessing/label.py:151: DeprecationWarning: The truth value of an empty array is ambiguous. Returning False, but in future this will result in an error. Use `array.size > 0` to check that an array is not empty.\n",
      "  if diff:\n"
     ]
    },
    {
     "name": "stdout",
     "output_type": "stream",
     "text": [
      "[CV]  n_estimators=1000, max_depth=11, min_child_weight=2, scale_pos_weight=2, subsample=0.8, learning_rate=0.07, score=0.3459003427366201, total=11.7min\n",
      "[CV] n_estimators=1000, max_depth=9, min_child_weight=2, scale_pos_weight=3, subsample=0.9, learning_rate=0.01 \n"
     ]
    },
    {
     "name": "stderr",
     "output_type": "stream",
     "text": [
      "/home/xueyunzhe/anaconda3/lib/python3.5/site-packages/sklearn/preprocessing/label.py:151: DeprecationWarning: The truth value of an empty array is ambiguous. Returning False, but in future this will result in an error. Use `array.size > 0` to check that an array is not empty.\n",
      "  if diff:\n"
     ]
    },
    {
     "name": "stdout",
     "output_type": "stream",
     "text": [
      "[CV]  n_estimators=1000, max_depth=11, min_child_weight=2, scale_pos_weight=2, subsample=0.8, learning_rate=0.07, score=0.3370816245535123, total=11.9min\n",
      "[CV] n_estimators=1000, max_depth=9, min_child_weight=2, scale_pos_weight=3, subsample=0.9, learning_rate=0.01 \n"
     ]
    },
    {
     "name": "stderr",
     "output_type": "stream",
     "text": [
      "/home/xueyunzhe/anaconda3/lib/python3.5/site-packages/sklearn/preprocessing/label.py:151: DeprecationWarning: The truth value of an empty array is ambiguous. Returning False, but in future this will result in an error. Use `array.size > 0` to check that an array is not empty.\n",
      "  if diff:\n"
     ]
    },
    {
     "name": "stdout",
     "output_type": "stream",
     "text": [
      "[CV]  n_estimators=1000, max_depth=11, min_child_weight=2, scale_pos_weight=2, subsample=0.8, learning_rate=0.07, score=0.33430079155672826, total=12.1min\n",
      "[CV] n_estimators=600, max_depth=3, min_child_weight=1, scale_pos_weight=1, subsample=0.8, learning_rate=0.1 \n"
     ]
    },
    {
     "name": "stderr",
     "output_type": "stream",
     "text": [
      "/home/xueyunzhe/anaconda3/lib/python3.5/site-packages/sklearn/preprocessing/label.py:151: DeprecationWarning: The truth value of an empty array is ambiguous. Returning False, but in future this will result in an error. Use `array.size > 0` to check that an array is not empty.\n",
      "  if diff:\n",
      "/home/xueyunzhe/anaconda3/lib/python3.5/site-packages/sklearn/preprocessing/label.py:151: DeprecationWarning: The truth value of an empty array is ambiguous. Returning False, but in future this will result in an error. Use `array.size > 0` to check that an array is not empty.\n",
      "  if diff:\n"
     ]
    },
    {
     "name": "stdout",
     "output_type": "stream",
     "text": [
      "[CV]  n_estimators=600, max_depth=3, min_child_weight=1, scale_pos_weight=1, subsample=0.8, learning_rate=0.1, score=0.2989911342097218, total= 1.8min\n",
      "[CV] n_estimators=600, max_depth=3, min_child_weight=1, scale_pos_weight=1, subsample=0.8, learning_rate=0.1 \n"
     ]
    },
    {
     "name": "stderr",
     "output_type": "stream",
     "text": [
      "/home/xueyunzhe/anaconda3/lib/python3.5/site-packages/sklearn/preprocessing/label.py:151: DeprecationWarning: The truth value of an empty array is ambiguous. Returning False, but in future this will result in an error. Use `array.size > 0` to check that an array is not empty.\n",
      "  if diff:\n",
      "/home/xueyunzhe/anaconda3/lib/python3.5/site-packages/sklearn/preprocessing/label.py:151: DeprecationWarning: The truth value of an empty array is ambiguous. Returning False, but in future this will result in an error. Use `array.size > 0` to check that an array is not empty.\n",
      "  if diff:\n"
     ]
    },
    {
     "name": "stdout",
     "output_type": "stream",
     "text": [
      "[CV]  n_estimators=600, max_depth=3, min_child_weight=1, scale_pos_weight=1, subsample=0.8, learning_rate=0.1, score=0.2892223738062756, total= 1.8min\n",
      "[CV] n_estimators=600, max_depth=3, min_child_weight=1, scale_pos_weight=1, subsample=0.8, learning_rate=0.1 \n"
     ]
    },
    {
     "name": "stderr",
     "output_type": "stream",
     "text": [
      "/home/xueyunzhe/anaconda3/lib/python3.5/site-packages/sklearn/preprocessing/label.py:151: DeprecationWarning: The truth value of an empty array is ambiguous. Returning False, but in future this will result in an error. Use `array.size > 0` to check that an array is not empty.\n",
      "  if diff:\n",
      "/home/xueyunzhe/anaconda3/lib/python3.5/site-packages/sklearn/preprocessing/label.py:151: DeprecationWarning: The truth value of an empty array is ambiguous. Returning False, but in future this will result in an error. Use `array.size > 0` to check that an array is not empty.\n",
      "  if diff:\n"
     ]
    },
    {
     "name": "stdout",
     "output_type": "stream",
     "text": [
      "[CV]  n_estimators=600, max_depth=3, min_child_weight=1, scale_pos_weight=1, subsample=0.8, learning_rate=0.1, score=0.2898462475262597, total= 1.9min\n",
      "[CV] n_estimators=800, max_depth=11, min_child_weight=3, scale_pos_weight=4, subsample=0.8, learning_rate=0.07 \n"
     ]
    },
    {
     "name": "stderr",
     "output_type": "stream",
     "text": [
      "/home/xueyunzhe/anaconda3/lib/python3.5/site-packages/sklearn/preprocessing/label.py:151: DeprecationWarning: The truth value of an empty array is ambiguous. Returning False, but in future this will result in an error. Use `array.size > 0` to check that an array is not empty.\n",
      "  if diff:\n",
      "/home/xueyunzhe/anaconda3/lib/python3.5/site-packages/sklearn/preprocessing/label.py:151: DeprecationWarning: The truth value of an empty array is ambiguous. Returning False, but in future this will result in an error. Use `array.size > 0` to check that an array is not empty.\n",
      "  if diff:\n"
     ]
    },
    {
     "name": "stdout",
     "output_type": "stream",
     "text": [
      "[CV]  n_estimators=1000, max_depth=9, min_child_weight=2, scale_pos_weight=3, subsample=0.9, learning_rate=0.01, score=0.44256348246674726, total= 9.4min\n",
      "[CV] n_estimators=800, max_depth=11, min_child_weight=3, scale_pos_weight=4, subsample=0.8, learning_rate=0.07 \n"
     ]
    },
    {
     "name": "stderr",
     "output_type": "stream",
     "text": [
      "/home/xueyunzhe/anaconda3/lib/python3.5/site-packages/sklearn/preprocessing/label.py:151: DeprecationWarning: The truth value of an empty array is ambiguous. Returning False, but in future this will result in an error. Use `array.size > 0` to check that an array is not empty.\n",
      "  if diff:\n",
      "/home/xueyunzhe/anaconda3/lib/python3.5/site-packages/sklearn/preprocessing/label.py:151: DeprecationWarning: The truth value of an empty array is ambiguous. Returning False, but in future this will result in an error. Use `array.size > 0` to check that an array is not empty.\n",
      "  if diff:\n",
      "/home/xueyunzhe/anaconda3/lib/python3.5/site-packages/sklearn/preprocessing/label.py:151: DeprecationWarning: The truth value of an empty array is ambiguous. Returning False, but in future this will result in an error. Use `array.size > 0` to check that an array is not empty.\n",
      "  if diff:\n"
     ]
    },
    {
     "name": "stdout",
     "output_type": "stream",
     "text": [
      "[CV]  n_estimators=1000, max_depth=9, min_child_weight=2, scale_pos_weight=3, subsample=0.9, learning_rate=0.01, score=0.44066099148723087, total= 9.2min\n",
      "[CV] n_estimators=800, max_depth=11, min_child_weight=3, scale_pos_weight=4, subsample=0.8, learning_rate=0.07 \n"
     ]
    },
    {
     "name": "stderr",
     "output_type": "stream",
     "text": [
      "/home/xueyunzhe/anaconda3/lib/python3.5/site-packages/sklearn/preprocessing/label.py:151: DeprecationWarning: The truth value of an empty array is ambiguous. Returning False, but in future this will result in an error. Use `array.size > 0` to check that an array is not empty.\n",
      "  if diff:\n"
     ]
    },
    {
     "name": "stdout",
     "output_type": "stream",
     "text": [
      "[CV]  n_estimators=1000, max_depth=9, min_child_weight=2, scale_pos_weight=3, subsample=0.9, learning_rate=0.01, score=0.43534921604561194, total= 9.3min\n",
      "[CV] n_estimators=800, max_depth=9, min_child_weight=3, scale_pos_weight=4, subsample=0.9, learning_rate=0.07 \n"
     ]
    },
    {
     "name": "stderr",
     "output_type": "stream",
     "text": [
      "/home/xueyunzhe/anaconda3/lib/python3.5/site-packages/sklearn/preprocessing/label.py:151: DeprecationWarning: The truth value of an empty array is ambiguous. Returning False, but in future this will result in an error. Use `array.size > 0` to check that an array is not empty.\n",
      "  if diff:\n",
      "/home/xueyunzhe/anaconda3/lib/python3.5/site-packages/sklearn/preprocessing/label.py:151: DeprecationWarning: The truth value of an empty array is ambiguous. Returning False, but in future this will result in an error. Use `array.size > 0` to check that an array is not empty.\n",
      "  if diff:\n"
     ]
    },
    {
     "name": "stdout",
     "output_type": "stream",
     "text": [
      "[CV]  n_estimators=800, max_depth=11, min_child_weight=3, scale_pos_weight=4, subsample=0.8, learning_rate=0.07, score=0.3789197567664242, total= 9.5min\n",
      "[CV] n_estimators=800, max_depth=9, min_child_weight=3, scale_pos_weight=4, subsample=0.9, learning_rate=0.07 \n"
     ]
    },
    {
     "name": "stderr",
     "output_type": "stream",
     "text": [
      "/home/xueyunzhe/anaconda3/lib/python3.5/site-packages/sklearn/preprocessing/label.py:151: DeprecationWarning: The truth value of an empty array is ambiguous. Returning False, but in future this will result in an error. Use `array.size > 0` to check that an array is not empty.\n",
      "  if diff:\n",
      "/home/xueyunzhe/anaconda3/lib/python3.5/site-packages/sklearn/preprocessing/label.py:151: DeprecationWarning: The truth value of an empty array is ambiguous. Returning False, but in future this will result in an error. Use `array.size > 0` to check that an array is not empty.\n",
      "  if diff:\n"
     ]
    },
    {
     "name": "stdout",
     "output_type": "stream",
     "text": [
      "[CV]  n_estimators=800, max_depth=9, min_child_weight=3, scale_pos_weight=4, subsample=0.9, learning_rate=0.07, score=0.4004343105320304, total= 6.8min\n",
      "[CV] n_estimators=800, max_depth=9, min_child_weight=3, scale_pos_weight=4, subsample=0.9, learning_rate=0.07 \n"
     ]
    },
    {
     "name": "stderr",
     "output_type": "stream",
     "text": [
      "/home/xueyunzhe/anaconda3/lib/python3.5/site-packages/sklearn/preprocessing/label.py:151: DeprecationWarning: The truth value of an empty array is ambiguous. Returning False, but in future this will result in an error. Use `array.size > 0` to check that an array is not empty.\n",
      "  if diff:\n",
      "/home/xueyunzhe/anaconda3/lib/python3.5/site-packages/sklearn/preprocessing/label.py:151: DeprecationWarning: The truth value of an empty array is ambiguous. Returning False, but in future this will result in an error. Use `array.size > 0` to check that an array is not empty.\n",
      "  if diff:\n"
     ]
    },
    {
     "name": "stdout",
     "output_type": "stream",
     "text": [
      "[CV]  n_estimators=800, max_depth=11, min_child_weight=3, scale_pos_weight=4, subsample=0.8, learning_rate=0.07, score=0.3715509039010466, total= 9.1min\n",
      "[CV] n_estimators=600, max_depth=3, min_child_weight=3, scale_pos_weight=3, subsample=0.8, learning_rate=0.03 \n"
     ]
    },
    {
     "name": "stderr",
     "output_type": "stream",
     "text": [
      "/home/xueyunzhe/anaconda3/lib/python3.5/site-packages/sklearn/preprocessing/label.py:151: DeprecationWarning: The truth value of an empty array is ambiguous. Returning False, but in future this will result in an error. Use `array.size > 0` to check that an array is not empty.\n",
      "  if diff:\n",
      "/home/xueyunzhe/anaconda3/lib/python3.5/site-packages/sklearn/preprocessing/label.py:151: DeprecationWarning: The truth value of an empty array is ambiguous. Returning False, but in future this will result in an error. Use `array.size > 0` to check that an array is not empty.\n",
      "  if diff:\n"
     ]
    },
    {
     "name": "stdout",
     "output_type": "stream",
     "text": [
      "[CV]  n_estimators=800, max_depth=11, min_child_weight=3, scale_pos_weight=4, subsample=0.8, learning_rate=0.07, score=0.3768531802965089, total= 8.8min\n",
      "[CV] n_estimators=600, max_depth=3, min_child_weight=3, scale_pos_weight=3, subsample=0.8, learning_rate=0.03 \n"
     ]
    },
    {
     "name": "stderr",
     "output_type": "stream",
     "text": [
      "/home/xueyunzhe/anaconda3/lib/python3.5/site-packages/sklearn/preprocessing/label.py:151: DeprecationWarning: The truth value of an empty array is ambiguous. Returning False, but in future this will result in an error. Use `array.size > 0` to check that an array is not empty.\n",
      "  if diff:\n",
      "/home/xueyunzhe/anaconda3/lib/python3.5/site-packages/sklearn/preprocessing/label.py:151: DeprecationWarning: The truth value of an empty array is ambiguous. Returning False, but in future this will result in an error. Use `array.size > 0` to check that an array is not empty.\n",
      "  if diff:\n"
     ]
    },
    {
     "name": "stdout",
     "output_type": "stream",
     "text": [
      "[CV]  n_estimators=600, max_depth=3, min_child_weight=3, scale_pos_weight=3, subsample=0.8, learning_rate=0.03, score=0.4629960672148731, total= 1.4min\n",
      "[CV] n_estimators=600, max_depth=3, min_child_weight=3, scale_pos_weight=3, subsample=0.8, learning_rate=0.03 \n"
     ]
    },
    {
     "name": "stderr",
     "output_type": "stream",
     "text": [
      "/home/xueyunzhe/anaconda3/lib/python3.5/site-packages/sklearn/preprocessing/label.py:151: DeprecationWarning: The truth value of an empty array is ambiguous. Returning False, but in future this will result in an error. Use `array.size > 0` to check that an array is not empty.\n",
      "  if diff:\n",
      "/home/xueyunzhe/anaconda3/lib/python3.5/site-packages/sklearn/preprocessing/label.py:151: DeprecationWarning: The truth value of an empty array is ambiguous. Returning False, but in future this will result in an error. Use `array.size > 0` to check that an array is not empty.\n",
      "  if diff:\n"
     ]
    },
    {
     "name": "stdout",
     "output_type": "stream",
     "text": [
      "[CV]  n_estimators=600, max_depth=3, min_child_weight=3, scale_pos_weight=3, subsample=0.8, learning_rate=0.03, score=0.45098924925467526, total= 1.4min\n",
      "[CV] n_estimators=400, max_depth=9, min_child_weight=1, scale_pos_weight=1, subsample=0.9, learning_rate=0.07 \n"
     ]
    },
    {
     "name": "stderr",
     "output_type": "stream",
     "text": [
      "/home/xueyunzhe/anaconda3/lib/python3.5/site-packages/sklearn/preprocessing/label.py:151: DeprecationWarning: The truth value of an empty array is ambiguous. Returning False, but in future this will result in an error. Use `array.size > 0` to check that an array is not empty.\n",
      "  if diff:\n",
      "/home/xueyunzhe/anaconda3/lib/python3.5/site-packages/sklearn/preprocessing/label.py:151: DeprecationWarning: The truth value of an empty array is ambiguous. Returning False, but in future this will result in an error. Use `array.size > 0` to check that an array is not empty.\n",
      "  if diff:\n"
     ]
    },
    {
     "name": "stdout",
     "output_type": "stream",
     "text": [
      "[CV]  n_estimators=600, max_depth=3, min_child_weight=3, scale_pos_weight=3, subsample=0.8, learning_rate=0.03, score=0.45657612580414586, total= 1.4min\n",
      "[CV] n_estimators=400, max_depth=9, min_child_weight=1, scale_pos_weight=1, subsample=0.9, learning_rate=0.07 \n"
     ]
    },
    {
     "name": "stderr",
     "output_type": "stream",
     "text": [
      "/home/xueyunzhe/anaconda3/lib/python3.5/site-packages/sklearn/preprocessing/label.py:151: DeprecationWarning: The truth value of an empty array is ambiguous. Returning False, but in future this will result in an error. Use `array.size > 0` to check that an array is not empty.\n",
      "  if diff:\n",
      "/home/xueyunzhe/anaconda3/lib/python3.5/site-packages/sklearn/preprocessing/label.py:151: DeprecationWarning: The truth value of an empty array is ambiguous. Returning False, but in future this will result in an error. Use `array.size > 0` to check that an array is not empty.\n",
      "  if diff:\n"
     ]
    },
    {
     "name": "stdout",
     "output_type": "stream",
     "text": [
      "[CV]  n_estimators=800, max_depth=9, min_child_weight=3, scale_pos_weight=4, subsample=0.9, learning_rate=0.07, score=0.4037875489769265, total= 5.6min\n",
      "[CV] n_estimators=400, max_depth=9, min_child_weight=1, scale_pos_weight=1, subsample=0.9, learning_rate=0.07 \n"
     ]
    },
    {
     "name": "stderr",
     "output_type": "stream",
     "text": [
      "/home/xueyunzhe/anaconda3/lib/python3.5/site-packages/sklearn/preprocessing/label.py:151: DeprecationWarning: The truth value of an empty array is ambiguous. Returning False, but in future this will result in an error. Use `array.size > 0` to check that an array is not empty.\n",
      "  if diff:\n",
      "/home/xueyunzhe/anaconda3/lib/python3.5/site-packages/sklearn/preprocessing/label.py:151: DeprecationWarning: The truth value of an empty array is ambiguous. Returning False, but in future this will result in an error. Use `array.size > 0` to check that an array is not empty.\n",
      "  if diff:\n"
     ]
    },
    {
     "name": "stdout",
     "output_type": "stream",
     "text": [
      "[CV]  n_estimators=800, max_depth=9, min_child_weight=3, scale_pos_weight=4, subsample=0.9, learning_rate=0.07, score=0.4015594541910331, total= 5.6min\n",
      "[CV] n_estimators=600, max_depth=7, min_child_weight=2, scale_pos_weight=1, subsample=0.9, learning_rate=0.01 \n"
     ]
    },
    {
     "name": "stderr",
     "output_type": "stream",
     "text": [
      "[Parallel(n_jobs=-1)]: Done  24 tasks      | elapsed: 34.4min\n",
      "/home/xueyunzhe/anaconda3/lib/python3.5/site-packages/sklearn/preprocessing/label.py:151: DeprecationWarning: The truth value of an empty array is ambiguous. Returning False, but in future this will result in an error. Use `array.size > 0` to check that an array is not empty.\n",
      "  if diff:\n",
      "/home/xueyunzhe/anaconda3/lib/python3.5/site-packages/sklearn/preprocessing/label.py:151: DeprecationWarning: The truth value of an empty array is ambiguous. Returning False, but in future this will result in an error. Use `array.size > 0` to check that an array is not empty.\n",
      "  if diff:\n"
     ]
    },
    {
     "name": "stdout",
     "output_type": "stream",
     "text": [
      "[CV]  n_estimators=400, max_depth=9, min_child_weight=1, scale_pos_weight=1, subsample=0.9, learning_rate=0.07, score=0.3103957471943296, total= 2.9min\n",
      "[CV] n_estimators=600, max_depth=7, min_child_weight=2, scale_pos_weight=1, subsample=0.9, learning_rate=0.01 \n"
     ]
    },
    {
     "name": "stderr",
     "output_type": "stream",
     "text": [
      "/home/xueyunzhe/anaconda3/lib/python3.5/site-packages/sklearn/preprocessing/label.py:151: DeprecationWarning: The truth value of an empty array is ambiguous. Returning False, but in future this will result in an error. Use `array.size > 0` to check that an array is not empty.\n",
      "  if diff:\n",
      "/home/xueyunzhe/anaconda3/lib/python3.5/site-packages/sklearn/preprocessing/label.py:151: DeprecationWarning: The truth value of an empty array is ambiguous. Returning False, but in future this will result in an error. Use `array.size > 0` to check that an array is not empty.\n",
      "  if diff:\n"
     ]
    },
    {
     "name": "stdout",
     "output_type": "stream",
     "text": [
      "[CV]  n_estimators=400, max_depth=9, min_child_weight=1, scale_pos_weight=1, subsample=0.9, learning_rate=0.07, score=0.2986305404211456, total= 2.8min\n",
      "[CV] n_estimators=600, max_depth=7, min_child_weight=2, scale_pos_weight=1, subsample=0.9, learning_rate=0.01 \n"
     ]
    },
    {
     "name": "stderr",
     "output_type": "stream",
     "text": [
      "/home/xueyunzhe/anaconda3/lib/python3.5/site-packages/sklearn/preprocessing/label.py:151: DeprecationWarning: The truth value of an empty array is ambiguous. Returning False, but in future this will result in an error. Use `array.size > 0` to check that an array is not empty.\n",
      "  if diff:\n",
      "/home/xueyunzhe/anaconda3/lib/python3.5/site-packages/sklearn/preprocessing/label.py:151: DeprecationWarning: The truth value of an empty array is ambiguous. Returning False, but in future this will result in an error. Use `array.size > 0` to check that an array is not empty.\n",
      "  if diff:\n"
     ]
    },
    {
     "name": "stdout",
     "output_type": "stream",
     "text": [
      "[CV]  n_estimators=400, max_depth=9, min_child_weight=1, scale_pos_weight=1, subsample=0.9, learning_rate=0.07, score=0.3015030946065429, total= 2.8min\n",
      "[CV] n_estimators=600, max_depth=3, min_child_weight=2, scale_pos_weight=4, subsample=0.9, learning_rate=0.1 \n"
     ]
    },
    {
     "name": "stderr",
     "output_type": "stream",
     "text": [
      "/home/xueyunzhe/anaconda3/lib/python3.5/site-packages/sklearn/preprocessing/label.py:151: DeprecationWarning: The truth value of an empty array is ambiguous. Returning False, but in future this will result in an error. Use `array.size > 0` to check that an array is not empty.\n",
      "  if diff:\n",
      "/home/xueyunzhe/anaconda3/lib/python3.5/site-packages/sklearn/preprocessing/label.py:151: DeprecationWarning: The truth value of an empty array is ambiguous. Returning False, but in future this will result in an error. Use `array.size > 0` to check that an array is not empty.\n",
      "  if diff:\n"
     ]
    },
    {
     "name": "stdout",
     "output_type": "stream",
     "text": [
      "[CV]  n_estimators=600, max_depth=7, min_child_weight=2, scale_pos_weight=1, subsample=0.9, learning_rate=0.01, score=0.2775778438429041, total= 3.3min\n",
      "[CV] n_estimators=600, max_depth=3, min_child_weight=2, scale_pos_weight=4, subsample=0.9, learning_rate=0.1 \n"
     ]
    },
    {
     "name": "stderr",
     "output_type": "stream",
     "text": [
      "/home/xueyunzhe/anaconda3/lib/python3.5/site-packages/sklearn/preprocessing/label.py:151: DeprecationWarning: The truth value of an empty array is ambiguous. Returning False, but in future this will result in an error. Use `array.size > 0` to check that an array is not empty.\n",
      "  if diff:\n",
      "/home/xueyunzhe/anaconda3/lib/python3.5/site-packages/sklearn/preprocessing/label.py:151: DeprecationWarning: The truth value of an empty array is ambiguous. Returning False, but in future this will result in an error. Use `array.size > 0` to check that an array is not empty.\n",
      "  if diff:\n"
     ]
    },
    {
     "name": "stdout",
     "output_type": "stream",
     "text": [
      "[CV]  n_estimators=600, max_depth=3, min_child_weight=2, scale_pos_weight=4, subsample=0.9, learning_rate=0.1, score=0.46142322097378274, total= 1.4min\n",
      "[CV] n_estimators=600, max_depth=3, min_child_weight=2, scale_pos_weight=4, subsample=0.9, learning_rate=0.1 \n"
     ]
    },
    {
     "name": "stderr",
     "output_type": "stream",
     "text": [
      "/home/xueyunzhe/anaconda3/lib/python3.5/site-packages/sklearn/preprocessing/label.py:151: DeprecationWarning: The truth value of an empty array is ambiguous. Returning False, but in future this will result in an error. Use `array.size > 0` to check that an array is not empty.\n",
      "  if diff:\n",
      "/home/xueyunzhe/anaconda3/lib/python3.5/site-packages/sklearn/preprocessing/label.py:151: DeprecationWarning: The truth value of an empty array is ambiguous. Returning False, but in future this will result in an error. Use `array.size > 0` to check that an array is not empty.\n",
      "  if diff:\n"
     ]
    },
    {
     "name": "stdout",
     "output_type": "stream",
     "text": [
      "[CV]  n_estimators=600, max_depth=7, min_child_weight=2, scale_pos_weight=1, subsample=0.9, learning_rate=0.01, score=0.28136998924896334, total= 3.3min\n",
      "[CV] n_estimators=100, max_depth=3, min_child_weight=1, scale_pos_weight=2, subsample=0.9, learning_rate=0.05 \n"
     ]
    },
    {
     "name": "stderr",
     "output_type": "stream",
     "text": [
      "/home/xueyunzhe/anaconda3/lib/python3.5/site-packages/sklearn/preprocessing/label.py:151: DeprecationWarning: The truth value of an empty array is ambiguous. Returning False, but in future this will result in an error. Use `array.size > 0` to check that an array is not empty.\n",
      "  if diff:\n",
      "/home/xueyunzhe/anaconda3/lib/python3.5/site-packages/sklearn/preprocessing/label.py:151: DeprecationWarning: The truth value of an empty array is ambiguous. Returning False, but in future this will result in an error. Use `array.size > 0` to check that an array is not empty.\n",
      "  if diff:\n"
     ]
    },
    {
     "name": "stdout",
     "output_type": "stream",
     "text": [
      "[CV]  n_estimators=100, max_depth=3, min_child_weight=1, scale_pos_weight=2, subsample=0.9, learning_rate=0.05, score=0.4189891355692017, total=  13.5s\n",
      "[CV] n_estimators=100, max_depth=3, min_child_weight=1, scale_pos_weight=2, subsample=0.9, learning_rate=0.05 \n"
     ]
    },
    {
     "name": "stderr",
     "output_type": "stream",
     "text": [
      "/home/xueyunzhe/anaconda3/lib/python3.5/site-packages/sklearn/preprocessing/label.py:151: DeprecationWarning: The truth value of an empty array is ambiguous. Returning False, but in future this will result in an error. Use `array.size > 0` to check that an array is not empty.\n",
      "  if diff:\n",
      "/home/xueyunzhe/anaconda3/lib/python3.5/site-packages/sklearn/preprocessing/label.py:151: DeprecationWarning: The truth value of an empty array is ambiguous. Returning False, but in future this will result in an error. Use `array.size > 0` to check that an array is not empty.\n",
      "  if diff:\n",
      "/home/xueyunzhe/anaconda3/lib/python3.5/site-packages/sklearn/preprocessing/label.py:151: DeprecationWarning: The truth value of an empty array is ambiguous. Returning False, but in future this will result in an error. Use `array.size > 0` to check that an array is not empty.\n",
      "  if diff:\n"
     ]
    },
    {
     "name": "stdout",
     "output_type": "stream",
     "text": [
      "[CV]  n_estimators=100, max_depth=3, min_child_weight=1, scale_pos_weight=2, subsample=0.9, learning_rate=0.05, score=0.40402366863905326, total=  14.2s\n",
      "[CV] n_estimators=100, max_depth=3, min_child_weight=1, scale_pos_weight=2, subsample=0.9, learning_rate=0.05 \n"
     ]
    },
    {
     "name": "stderr",
     "output_type": "stream",
     "text": [
      "/home/xueyunzhe/anaconda3/lib/python3.5/site-packages/sklearn/preprocessing/label.py:151: DeprecationWarning: The truth value of an empty array is ambiguous. Returning False, but in future this will result in an error. Use `array.size > 0` to check that an array is not empty.\n",
      "  if diff:\n"
     ]
    },
    {
     "name": "stdout",
     "output_type": "stream",
     "text": [
      "[CV]  n_estimators=600, max_depth=7, min_child_weight=2, scale_pos_weight=1, subsample=0.9, learning_rate=0.01, score=0.2880074085507022, total= 3.3min\n",
      "[CV] n_estimators=200, max_depth=5, min_child_weight=3, scale_pos_weight=1, subsample=0.8, learning_rate=0.07 \n"
     ]
    },
    {
     "name": "stderr",
     "output_type": "stream",
     "text": [
      "/home/xueyunzhe/anaconda3/lib/python3.5/site-packages/sklearn/preprocessing/label.py:151: DeprecationWarning: The truth value of an empty array is ambiguous. Returning False, but in future this will result in an error. Use `array.size > 0` to check that an array is not empty.\n",
      "  if diff:\n",
      "/home/xueyunzhe/anaconda3/lib/python3.5/site-packages/sklearn/preprocessing/label.py:151: DeprecationWarning: The truth value of an empty array is ambiguous. Returning False, but in future this will result in an error. Use `array.size > 0` to check that an array is not empty.\n",
      "  if diff:\n",
      "/home/xueyunzhe/anaconda3/lib/python3.5/site-packages/sklearn/preprocessing/label.py:151: DeprecationWarning: The truth value of an empty array is ambiguous. Returning False, but in future this will result in an error. Use `array.size > 0` to check that an array is not empty.\n",
      "  if diff:\n"
     ]
    },
    {
     "name": "stdout",
     "output_type": "stream",
     "text": [
      "[CV]  n_estimators=600, max_depth=3, min_child_weight=2, scale_pos_weight=4, subsample=0.9, learning_rate=0.1, score=0.45156889495225105, total= 1.4min\n",
      "[CV] n_estimators=200, max_depth=5, min_child_weight=3, scale_pos_weight=1, subsample=0.8, learning_rate=0.07 \n"
     ]
    },
    {
     "name": "stderr",
     "output_type": "stream",
     "text": [
      "/home/xueyunzhe/anaconda3/lib/python3.5/site-packages/sklearn/preprocessing/label.py:151: DeprecationWarning: The truth value of an empty array is ambiguous. Returning False, but in future this will result in an error. Use `array.size > 0` to check that an array is not empty.\n",
      "  if diff:\n"
     ]
    },
    {
     "name": "stdout",
     "output_type": "stream",
     "text": [
      "[CV]  n_estimators=600, max_depth=3, min_child_weight=2, scale_pos_weight=4, subsample=0.9, learning_rate=0.1, score=0.4590827338129497, total= 1.3min\n",
      "[CV] n_estimators=200, max_depth=5, min_child_weight=3, scale_pos_weight=1, subsample=0.8, learning_rate=0.07 \n"
     ]
    },
    {
     "name": "stderr",
     "output_type": "stream",
     "text": [
      "/home/xueyunzhe/anaconda3/lib/python3.5/site-packages/sklearn/preprocessing/label.py:151: DeprecationWarning: The truth value of an empty array is ambiguous. Returning False, but in future this will result in an error. Use `array.size > 0` to check that an array is not empty.\n",
      "  if diff:\n",
      "/home/xueyunzhe/anaconda3/lib/python3.5/site-packages/sklearn/preprocessing/label.py:151: DeprecationWarning: The truth value of an empty array is ambiguous. Returning False, but in future this will result in an error. Use `array.size > 0` to check that an array is not empty.\n",
      "  if diff:\n"
     ]
    },
    {
     "name": "stdout",
     "output_type": "stream",
     "text": [
      "[CV]  n_estimators=100, max_depth=3, min_child_weight=1, scale_pos_weight=2, subsample=0.9, learning_rate=0.05, score=0.4134831460674157, total=  13.6s\n",
      "[CV] n_estimators=200, max_depth=9, min_child_weight=2, scale_pos_weight=2, subsample=0.9, learning_rate=0.03 \n"
     ]
    },
    {
     "name": "stderr",
     "output_type": "stream",
     "text": [
      "/home/xueyunzhe/anaconda3/lib/python3.5/site-packages/sklearn/preprocessing/label.py:151: DeprecationWarning: The truth value of an empty array is ambiguous. Returning False, but in future this will result in an error. Use `array.size > 0` to check that an array is not empty.\n",
      "  if diff:\n",
      "/home/xueyunzhe/anaconda3/lib/python3.5/site-packages/sklearn/preprocessing/label.py:151: DeprecationWarning: The truth value of an empty array is ambiguous. Returning False, but in future this will result in an error. Use `array.size > 0` to check that an array is not empty.\n",
      "  if diff:\n"
     ]
    },
    {
     "name": "stdout",
     "output_type": "stream",
     "text": [
      "[CV]  n_estimators=200, max_depth=5, min_child_weight=3, scale_pos_weight=1, subsample=0.8, learning_rate=0.07, score=0.2867737948084055, total=  46.4s\n",
      "[CV] n_estimators=200, max_depth=9, min_child_weight=2, scale_pos_weight=2, subsample=0.9, learning_rate=0.03 \n"
     ]
    },
    {
     "name": "stderr",
     "output_type": "stream",
     "text": [
      "/home/xueyunzhe/anaconda3/lib/python3.5/site-packages/sklearn/preprocessing/label.py:151: DeprecationWarning: The truth value of an empty array is ambiguous. Returning False, but in future this will result in an error. Use `array.size > 0` to check that an array is not empty.\n",
      "  if diff:\n",
      "/home/xueyunzhe/anaconda3/lib/python3.5/site-packages/sklearn/preprocessing/label.py:151: DeprecationWarning: The truth value of an empty array is ambiguous. Returning False, but in future this will result in an error. Use `array.size > 0` to check that an array is not empty.\n",
      "  if diff:\n",
      "/home/xueyunzhe/anaconda3/lib/python3.5/site-packages/sklearn/preprocessing/label.py:151: DeprecationWarning: The truth value of an empty array is ambiguous. Returning False, but in future this will result in an error. Use `array.size > 0` to check that an array is not empty.\n",
      "  if diff:\n"
     ]
    },
    {
     "name": "stdout",
     "output_type": "stream",
     "text": [
      "[CV]  n_estimators=200, max_depth=5, min_child_weight=3, scale_pos_weight=1, subsample=0.8, learning_rate=0.07, score=0.2859761686526123, total=  47.9s\n",
      "[CV] n_estimators=200, max_depth=9, min_child_weight=2, scale_pos_weight=2, subsample=0.9, learning_rate=0.03 \n"
     ]
    },
    {
     "name": "stderr",
     "output_type": "stream",
     "text": [
      "/home/xueyunzhe/anaconda3/lib/python3.5/site-packages/sklearn/preprocessing/label.py:151: DeprecationWarning: The truth value of an empty array is ambiguous. Returning False, but in future this will result in an error. Use `array.size > 0` to check that an array is not empty.\n",
      "  if diff:\n"
     ]
    },
    {
     "name": "stdout",
     "output_type": "stream",
     "text": [
      "[CV]  n_estimators=200, max_depth=5, min_child_weight=3, scale_pos_weight=1, subsample=0.8, learning_rate=0.07, score=0.29078665442301804, total=  47.4s\n",
      "[CV] n_estimators=600, max_depth=9, min_child_weight=1, scale_pos_weight=2, subsample=0.9, learning_rate=0.05 \n"
     ]
    },
    {
     "name": "stderr",
     "output_type": "stream",
     "text": [
      "/home/xueyunzhe/anaconda3/lib/python3.5/site-packages/sklearn/preprocessing/label.py:151: DeprecationWarning: The truth value of an empty array is ambiguous. Returning False, but in future this will result in an error. Use `array.size > 0` to check that an array is not empty.\n",
      "  if diff:\n",
      "/home/xueyunzhe/anaconda3/lib/python3.5/site-packages/sklearn/preprocessing/label.py:151: DeprecationWarning: The truth value of an empty array is ambiguous. Returning False, but in future this will result in an error. Use `array.size > 0` to check that an array is not empty.\n",
      "  if diff:\n"
     ]
    },
    {
     "name": "stdout",
     "output_type": "stream",
     "text": [
      "[CV]  n_estimators=200, max_depth=9, min_child_weight=2, scale_pos_weight=2, subsample=0.9, learning_rate=0.03, score=0.417723018599692, total= 1.6min\n",
      "[CV] n_estimators=600, max_depth=9, min_child_weight=1, scale_pos_weight=2, subsample=0.9, learning_rate=0.05 \n"
     ]
    },
    {
     "name": "stderr",
     "output_type": "stream",
     "text": [
      "/home/xueyunzhe/anaconda3/lib/python3.5/site-packages/sklearn/preprocessing/label.py:151: DeprecationWarning: The truth value of an empty array is ambiguous. Returning False, but in future this will result in an error. Use `array.size > 0` to check that an array is not empty.\n",
      "  if diff:\n",
      "/home/xueyunzhe/anaconda3/lib/python3.5/site-packages/sklearn/preprocessing/label.py:151: DeprecationWarning: The truth value of an empty array is ambiguous. Returning False, but in future this will result in an error. Use `array.size > 0` to check that an array is not empty.\n",
      "  if diff:\n"
     ]
    },
    {
     "name": "stdout",
     "output_type": "stream",
     "text": [
      "[CV]  n_estimators=200, max_depth=9, min_child_weight=2, scale_pos_weight=2, subsample=0.9, learning_rate=0.03, score=0.40291204200978636, total= 1.6min\n",
      "[CV] n_estimators=600, max_depth=9, min_child_weight=1, scale_pos_weight=2, subsample=0.9, learning_rate=0.05 \n"
     ]
    },
    {
     "name": "stderr",
     "output_type": "stream",
     "text": [
      "/home/xueyunzhe/anaconda3/lib/python3.5/site-packages/sklearn/preprocessing/label.py:151: DeprecationWarning: The truth value of an empty array is ambiguous. Returning False, but in future this will result in an error. Use `array.size > 0` to check that an array is not empty.\n",
      "  if diff:\n",
      "/home/xueyunzhe/anaconda3/lib/python3.5/site-packages/sklearn/preprocessing/label.py:151: DeprecationWarning: The truth value of an empty array is ambiguous. Returning False, but in future this will result in an error. Use `array.size > 0` to check that an array is not empty.\n",
      "  if diff:\n"
     ]
    },
    {
     "name": "stdout",
     "output_type": "stream",
     "text": [
      "[CV]  n_estimators=200, max_depth=9, min_child_weight=2, scale_pos_weight=2, subsample=0.9, learning_rate=0.03, score=0.4054827175208582, total= 1.6min\n",
      "[CV] n_estimators=100, max_depth=7, min_child_weight=2, scale_pos_weight=2, subsample=0.8, learning_rate=0.03 \n"
     ]
    },
    {
     "name": "stderr",
     "output_type": "stream",
     "text": [
      "/home/xueyunzhe/anaconda3/lib/python3.5/site-packages/sklearn/preprocessing/label.py:151: DeprecationWarning: The truth value of an empty array is ambiguous. Returning False, but in future this will result in an error. Use `array.size > 0` to check that an array is not empty.\n",
      "  if diff:\n",
      "/home/xueyunzhe/anaconda3/lib/python3.5/site-packages/sklearn/preprocessing/label.py:151: DeprecationWarning: The truth value of an empty array is ambiguous. Returning False, but in future this will result in an error. Use `array.size > 0` to check that an array is not empty.\n",
      "  if diff:\n"
     ]
    },
    {
     "name": "stdout",
     "output_type": "stream",
     "text": [
      "[CV]  n_estimators=100, max_depth=7, min_child_weight=2, scale_pos_weight=2, subsample=0.8, learning_rate=0.03, score=0.4179174484052533, total=  34.3s\n",
      "[CV] n_estimators=100, max_depth=7, min_child_weight=2, scale_pos_weight=2, subsample=0.8, learning_rate=0.03 \n"
     ]
    },
    {
     "name": "stderr",
     "output_type": "stream",
     "text": [
      "/home/xueyunzhe/anaconda3/lib/python3.5/site-packages/sklearn/preprocessing/label.py:151: DeprecationWarning: The truth value of an empty array is ambiguous. Returning False, but in future this will result in an error. Use `array.size > 0` to check that an array is not empty.\n",
      "  if diff:\n",
      "/home/xueyunzhe/anaconda3/lib/python3.5/site-packages/sklearn/preprocessing/label.py:151: DeprecationWarning: The truth value of an empty array is ambiguous. Returning False, but in future this will result in an error. Use `array.size > 0` to check that an array is not empty.\n",
      "  if diff:\n"
     ]
    },
    {
     "name": "stdout",
     "output_type": "stream",
     "text": [
      "[CV]  n_estimators=100, max_depth=7, min_child_weight=2, scale_pos_weight=2, subsample=0.8, learning_rate=0.03, score=0.41217798594847777, total=  35.6s\n",
      "[CV] n_estimators=100, max_depth=7, min_child_weight=2, scale_pos_weight=2, subsample=0.8, learning_rate=0.03 \n"
     ]
    },
    {
     "name": "stderr",
     "output_type": "stream",
     "text": [
      "/home/xueyunzhe/anaconda3/lib/python3.5/site-packages/sklearn/preprocessing/label.py:151: DeprecationWarning: The truth value of an empty array is ambiguous. Returning False, but in future this will result in an error. Use `array.size > 0` to check that an array is not empty.\n",
      "  if diff:\n",
      "/home/xueyunzhe/anaconda3/lib/python3.5/site-packages/sklearn/preprocessing/label.py:151: DeprecationWarning: The truth value of an empty array is ambiguous. Returning False, but in future this will result in an error. Use `array.size > 0` to check that an array is not empty.\n",
      "  if diff:\n"
     ]
    },
    {
     "name": "stdout",
     "output_type": "stream",
     "text": [
      "[CV]  n_estimators=100, max_depth=7, min_child_weight=2, scale_pos_weight=2, subsample=0.8, learning_rate=0.03, score=0.4139142656359803, total=  36.0s\n",
      "[CV] n_estimators=100, max_depth=5, min_child_weight=3, scale_pos_weight=1, subsample=1.0, learning_rate=0.07 \n"
     ]
    },
    {
     "name": "stderr",
     "output_type": "stream",
     "text": [
      "/home/xueyunzhe/anaconda3/lib/python3.5/site-packages/sklearn/preprocessing/label.py:151: DeprecationWarning: The truth value of an empty array is ambiguous. Returning False, but in future this will result in an error. Use `array.size > 0` to check that an array is not empty.\n",
      "  if diff:\n",
      "/home/xueyunzhe/anaconda3/lib/python3.5/site-packages/sklearn/preprocessing/label.py:151: DeprecationWarning: The truth value of an empty array is ambiguous. Returning False, but in future this will result in an error. Use `array.size > 0` to check that an array is not empty.\n",
      "  if diff:\n"
     ]
    },
    {
     "name": "stdout",
     "output_type": "stream",
     "text": [
      "[CV]  n_estimators=100, max_depth=5, min_child_weight=3, scale_pos_weight=1, subsample=1.0, learning_rate=0.07, score=0.271523178807947, total=  21.2s\n",
      "[CV] n_estimators=100, max_depth=5, min_child_weight=3, scale_pos_weight=1, subsample=1.0, learning_rate=0.07 \n"
     ]
    },
    {
     "name": "stderr",
     "output_type": "stream",
     "text": [
      "/home/xueyunzhe/anaconda3/lib/python3.5/site-packages/sklearn/preprocessing/label.py:151: DeprecationWarning: The truth value of an empty array is ambiguous. Returning False, but in future this will result in an error. Use `array.size > 0` to check that an array is not empty.\n",
      "  if diff:\n",
      "/home/xueyunzhe/anaconda3/lib/python3.5/site-packages/sklearn/preprocessing/label.py:151: DeprecationWarning: The truth value of an empty array is ambiguous. Returning False, but in future this will result in an error. Use `array.size > 0` to check that an array is not empty.\n",
      "  if diff:\n"
     ]
    },
    {
     "name": "stdout",
     "output_type": "stream",
     "text": [
      "[CV]  n_estimators=100, max_depth=5, min_child_weight=3, scale_pos_weight=1, subsample=1.0, learning_rate=0.07, score=0.278932671424139, total=  21.5s\n",
      "[CV] n_estimators=100, max_depth=5, min_child_weight=3, scale_pos_weight=1, subsample=1.0, learning_rate=0.07 \n"
     ]
    },
    {
     "name": "stderr",
     "output_type": "stream",
     "text": [
      "/home/xueyunzhe/anaconda3/lib/python3.5/site-packages/sklearn/preprocessing/label.py:151: DeprecationWarning: The truth value of an empty array is ambiguous. Returning False, but in future this will result in an error. Use `array.size > 0` to check that an array is not empty.\n",
      "  if diff:\n",
      "/home/xueyunzhe/anaconda3/lib/python3.5/site-packages/sklearn/preprocessing/label.py:151: DeprecationWarning: The truth value of an empty array is ambiguous. Returning False, but in future this will result in an error. Use `array.size > 0` to check that an array is not empty.\n",
      "  if diff:\n"
     ]
    },
    {
     "name": "stdout",
     "output_type": "stream",
     "text": [
      "[CV]  n_estimators=600, max_depth=9, min_child_weight=1, scale_pos_weight=2, subsample=0.9, learning_rate=0.05, score=0.3792712142226705, total= 4.3min\n",
      "[CV] n_estimators=200, max_depth=7, min_child_weight=3, scale_pos_weight=4, subsample=0.8, learning_rate=0.05 \n"
     ]
    },
    {
     "name": "stderr",
     "output_type": "stream",
     "text": [
      "/home/xueyunzhe/anaconda3/lib/python3.5/site-packages/sklearn/preprocessing/label.py:151: DeprecationWarning: The truth value of an empty array is ambiguous. Returning False, but in future this will result in an error. Use `array.size > 0` to check that an array is not empty.\n",
      "  if diff:\n",
      "/home/xueyunzhe/anaconda3/lib/python3.5/site-packages/sklearn/preprocessing/label.py:151: DeprecationWarning: The truth value of an empty array is ambiguous. Returning False, but in future this will result in an error. Use `array.size > 0` to check that an array is not empty.\n",
      "  if diff:\n"
     ]
    },
    {
     "name": "stdout",
     "output_type": "stream",
     "text": [
      "[CV]  n_estimators=100, max_depth=5, min_child_weight=3, scale_pos_weight=1, subsample=1.0, learning_rate=0.07, score=0.28069630090146097, total=  21.5s\n",
      "[CV] n_estimators=200, max_depth=7, min_child_weight=3, scale_pos_weight=4, subsample=0.8, learning_rate=0.05 \n"
     ]
    },
    {
     "name": "stderr",
     "output_type": "stream",
     "text": [
      "/home/xueyunzhe/anaconda3/lib/python3.5/site-packages/sklearn/preprocessing/label.py:151: DeprecationWarning: The truth value of an empty array is ambiguous. Returning False, but in future this will result in an error. Use `array.size > 0` to check that an array is not empty.\n",
      "  if diff:\n",
      "/home/xueyunzhe/anaconda3/lib/python3.5/site-packages/sklearn/preprocessing/label.py:151: DeprecationWarning: The truth value of an empty array is ambiguous. Returning False, but in future this will result in an error. Use `array.size > 0` to check that an array is not empty.\n",
      "  if diff:\n"
     ]
    },
    {
     "name": "stdout",
     "output_type": "stream",
     "text": [
      "[CV]  n_estimators=600, max_depth=9, min_child_weight=1, scale_pos_weight=2, subsample=0.9, learning_rate=0.05, score=0.37063989962358845, total= 4.3min\n",
      "[CV] n_estimators=200, max_depth=7, min_child_weight=3, scale_pos_weight=4, subsample=0.8, learning_rate=0.05 \n"
     ]
    },
    {
     "name": "stderr",
     "output_type": "stream",
     "text": [
      "/home/xueyunzhe/anaconda3/lib/python3.5/site-packages/sklearn/preprocessing/label.py:151: DeprecationWarning: The truth value of an empty array is ambiguous. Returning False, but in future this will result in an error. Use `array.size > 0` to check that an array is not empty.\n",
      "  if diff:\n",
      "/home/xueyunzhe/anaconda3/lib/python3.5/site-packages/sklearn/preprocessing/label.py:151: DeprecationWarning: The truth value of an empty array is ambiguous. Returning False, but in future this will result in an error. Use `array.size > 0` to check that an array is not empty.\n",
      "  if diff:\n",
      "/home/xueyunzhe/anaconda3/lib/python3.5/site-packages/sklearn/preprocessing/label.py:151: DeprecationWarning: The truth value of an empty array is ambiguous. Returning False, but in future this will result in an error. Use `array.size > 0` to check that an array is not empty.\n",
      "  if diff:\n"
     ]
    },
    {
     "name": "stdout",
     "output_type": "stream",
     "text": [
      "[CV]  n_estimators=200, max_depth=7, min_child_weight=3, scale_pos_weight=4, subsample=0.8, learning_rate=0.05, score=0.459497645211931, total= 1.4min\n",
      "[CV] n_estimators=800, max_depth=7, min_child_weight=3, scale_pos_weight=3, subsample=0.8, learning_rate=0.09 \n"
     ]
    },
    {
     "name": "stderr",
     "output_type": "stream",
     "text": [
      "/home/xueyunzhe/anaconda3/lib/python3.5/site-packages/sklearn/preprocessing/label.py:151: DeprecationWarning: The truth value of an empty array is ambiguous. Returning False, but in future this will result in an error. Use `array.size > 0` to check that an array is not empty.\n",
      "  if diff:\n"
     ]
    },
    {
     "name": "stdout",
     "output_type": "stream",
     "text": [
      "[CV]  n_estimators=200, max_depth=7, min_child_weight=3, scale_pos_weight=4, subsample=0.8, learning_rate=0.05, score=0.44976, total= 1.3min\n",
      "[CV] n_estimators=800, max_depth=7, min_child_weight=3, scale_pos_weight=3, subsample=0.8, learning_rate=0.09 \n"
     ]
    },
    {
     "name": "stderr",
     "output_type": "stream",
     "text": [
      "/home/xueyunzhe/anaconda3/lib/python3.5/site-packages/sklearn/preprocessing/label.py:151: DeprecationWarning: The truth value of an empty array is ambiguous. Returning False, but in future this will result in an error. Use `array.size > 0` to check that an array is not empty.\n",
      "  if diff:\n",
      "/home/xueyunzhe/anaconda3/lib/python3.5/site-packages/sklearn/preprocessing/label.py:151: DeprecationWarning: The truth value of an empty array is ambiguous. Returning False, but in future this will result in an error. Use `array.size > 0` to check that an array is not empty.\n",
      "  if diff:\n"
     ]
    },
    {
     "name": "stdout",
     "output_type": "stream",
     "text": [
      "[CV]  n_estimators=600, max_depth=9, min_child_weight=1, scale_pos_weight=2, subsample=0.9, learning_rate=0.05, score=0.3758305127240818, total= 4.6min\n",
      "[CV] n_estimators=800, max_depth=7, min_child_weight=3, scale_pos_weight=3, subsample=0.8, learning_rate=0.09 \n"
     ]
    },
    {
     "name": "stderr",
     "output_type": "stream",
     "text": [
      "/home/xueyunzhe/anaconda3/lib/python3.5/site-packages/sklearn/preprocessing/label.py:151: DeprecationWarning: The truth value of an empty array is ambiguous. Returning False, but in future this will result in an error. Use `array.size > 0` to check that an array is not empty.\n",
      "  if diff:\n",
      "/home/xueyunzhe/anaconda3/lib/python3.5/site-packages/sklearn/preprocessing/label.py:151: DeprecationWarning: The truth value of an empty array is ambiguous. Returning False, but in future this will result in an error. Use `array.size > 0` to check that an array is not empty.\n",
      "  if diff:\n"
     ]
    },
    {
     "name": "stdout",
     "output_type": "stream",
     "text": [
      "[CV]  n_estimators=200, max_depth=7, min_child_weight=3, scale_pos_weight=4, subsample=0.8, learning_rate=0.05, score=0.45618171814823544, total= 1.4min\n",
      "[CV] n_estimators=200, max_depth=9, min_child_weight=2, scale_pos_weight=1, subsample=0.8, learning_rate=0.05 \n"
     ]
    },
    {
     "name": "stderr",
     "output_type": "stream",
     "text": [
      "/home/xueyunzhe/anaconda3/lib/python3.5/site-packages/sklearn/preprocessing/label.py:151: DeprecationWarning: The truth value of an empty array is ambiguous. Returning False, but in future this will result in an error. Use `array.size > 0` to check that an array is not empty.\n",
      "  if diff:\n",
      "/home/xueyunzhe/anaconda3/lib/python3.5/site-packages/sklearn/preprocessing/label.py:151: DeprecationWarning: The truth value of an empty array is ambiguous. Returning False, but in future this will result in an error. Use `array.size > 0` to check that an array is not empty.\n",
      "  if diff:\n"
     ]
    },
    {
     "name": "stdout",
     "output_type": "stream",
     "text": [
      "[CV]  n_estimators=200, max_depth=9, min_child_weight=2, scale_pos_weight=1, subsample=0.8, learning_rate=0.05, score=0.29366165070679434, total= 1.9min\n",
      "[CV] n_estimators=200, max_depth=9, min_child_weight=2, scale_pos_weight=1, subsample=0.8, learning_rate=0.05 \n"
     ]
    },
    {
     "name": "stderr",
     "output_type": "stream",
     "text": [
      "/home/xueyunzhe/anaconda3/lib/python3.5/site-packages/sklearn/preprocessing/label.py:151: DeprecationWarning: The truth value of an empty array is ambiguous. Returning False, but in future this will result in an error. Use `array.size > 0` to check that an array is not empty.\n",
      "  if diff:\n",
      "/home/xueyunzhe/anaconda3/lib/python3.5/site-packages/sklearn/preprocessing/label.py:151: DeprecationWarning: The truth value of an empty array is ambiguous. Returning False, but in future this will result in an error. Use `array.size > 0` to check that an array is not empty.\n",
      "  if diff:\n"
     ]
    },
    {
     "name": "stdout",
     "output_type": "stream",
     "text": [
      "[CV]  n_estimators=200, max_depth=9, min_child_weight=2, scale_pos_weight=1, subsample=0.8, learning_rate=0.05, score=0.29395070948469004, total= 2.0min\n",
      "[CV] n_estimators=200, max_depth=9, min_child_weight=2, scale_pos_weight=1, subsample=0.8, learning_rate=0.05 \n"
     ]
    },
    {
     "name": "stderr",
     "output_type": "stream",
     "text": [
      "/home/xueyunzhe/anaconda3/lib/python3.5/site-packages/sklearn/preprocessing/label.py:151: DeprecationWarning: The truth value of an empty array is ambiguous. Returning False, but in future this will result in an error. Use `array.size > 0` to check that an array is not empty.\n",
      "  if diff:\n",
      "/home/xueyunzhe/anaconda3/lib/python3.5/site-packages/sklearn/preprocessing/label.py:151: DeprecationWarning: The truth value of an empty array is ambiguous. Returning False, but in future this will result in an error. Use `array.size > 0` to check that an array is not empty.\n",
      "  if diff:\n",
      "/home/xueyunzhe/anaconda3/lib/python3.5/site-packages/sklearn/preprocessing/label.py:151: DeprecationWarning: The truth value of an empty array is ambiguous. Returning False, but in future this will result in an error. Use `array.size > 0` to check that an array is not empty.\n",
      "  if diff:\n"
     ]
    },
    {
     "name": "stdout",
     "output_type": "stream",
     "text": [
      "[CV]  n_estimators=800, max_depth=7, min_child_weight=3, scale_pos_weight=3, subsample=0.8, learning_rate=0.09, score=0.4033559212649242, total= 5.5min\n",
      "[CV] n_estimators=600, max_depth=3, min_child_weight=2, scale_pos_weight=2, subsample=0.8, learning_rate=0.05 \n"
     ]
    },
    {
     "name": "stderr",
     "output_type": "stream",
     "text": [
      "/home/xueyunzhe/anaconda3/lib/python3.5/site-packages/sklearn/preprocessing/label.py:151: DeprecationWarning: The truth value of an empty array is ambiguous. Returning False, but in future this will result in an error. Use `array.size > 0` to check that an array is not empty.\n",
      "  if diff:\n"
     ]
    },
    {
     "name": "stdout",
     "output_type": "stream",
     "text": [
      "[CV]  n_estimators=800, max_depth=7, min_child_weight=3, scale_pos_weight=3, subsample=0.8, learning_rate=0.09, score=0.41274593669803256, total= 5.7min\n",
      "[CV] n_estimators=600, max_depth=3, min_child_weight=2, scale_pos_weight=2, subsample=0.8, learning_rate=0.05 \n"
     ]
    },
    {
     "name": "stderr",
     "output_type": "stream",
     "text": [
      "/home/xueyunzhe/anaconda3/lib/python3.5/site-packages/sklearn/preprocessing/label.py:151: DeprecationWarning: The truth value of an empty array is ambiguous. Returning False, but in future this will result in an error. Use `array.size > 0` to check that an array is not empty.\n",
      "  if diff:\n",
      "/home/xueyunzhe/anaconda3/lib/python3.5/site-packages/sklearn/preprocessing/label.py:151: DeprecationWarning: The truth value of an empty array is ambiguous. Returning False, but in future this will result in an error. Use `array.size > 0` to check that an array is not empty.\n",
      "  if diff:\n"
     ]
    },
    {
     "name": "stdout",
     "output_type": "stream",
     "text": [
      "[CV]  n_estimators=800, max_depth=7, min_child_weight=3, scale_pos_weight=3, subsample=0.8, learning_rate=0.09, score=0.40938441670253983, total= 5.7min\n",
      "[CV] n_estimators=600, max_depth=3, min_child_weight=2, scale_pos_weight=2, subsample=0.8, learning_rate=0.05 \n"
     ]
    },
    {
     "name": "stderr",
     "output_type": "stream",
     "text": [
      "/home/xueyunzhe/anaconda3/lib/python3.5/site-packages/sklearn/preprocessing/label.py:151: DeprecationWarning: The truth value of an empty array is ambiguous. Returning False, but in future this will result in an error. Use `array.size > 0` to check that an array is not empty.\n",
      "  if diff:\n",
      "/home/xueyunzhe/anaconda3/lib/python3.5/site-packages/sklearn/preprocessing/label.py:151: DeprecationWarning: The truth value of an empty array is ambiguous. Returning False, but in future this will result in an error. Use `array.size > 0` to check that an array is not empty.\n",
      "  if diff:\n"
     ]
    },
    {
     "name": "stdout",
     "output_type": "stream",
     "text": [
      "[CV]  n_estimators=200, max_depth=9, min_child_weight=2, scale_pos_weight=1, subsample=0.8, learning_rate=0.05, score=0.30145623780213177, total= 1.9min\n",
      "[CV] n_estimators=400, max_depth=3, min_child_weight=3, scale_pos_weight=4, subsample=1.0, learning_rate=0.09 \n"
     ]
    },
    {
     "name": "stderr",
     "output_type": "stream",
     "text": [
      "/home/xueyunzhe/anaconda3/lib/python3.5/site-packages/sklearn/preprocessing/label.py:151: DeprecationWarning: The truth value of an empty array is ambiguous. Returning False, but in future this will result in an error. Use `array.size > 0` to check that an array is not empty.\n",
      "  if diff:\n",
      "/home/xueyunzhe/anaconda3/lib/python3.5/site-packages/sklearn/preprocessing/label.py:151: DeprecationWarning: The truth value of an empty array is ambiguous. Returning False, but in future this will result in an error. Use `array.size > 0` to check that an array is not empty.\n",
      "  if diff:\n"
     ]
    },
    {
     "name": "stdout",
     "output_type": "stream",
     "text": [
      "[CV]  n_estimators=600, max_depth=3, min_child_weight=2, scale_pos_weight=2, subsample=0.8, learning_rate=0.05, score=0.4336827711941659, total= 1.7min\n",
      "[CV] n_estimators=400, max_depth=3, min_child_weight=3, scale_pos_weight=4, subsample=1.0, learning_rate=0.09 \n"
     ]
    },
    {
     "name": "stderr",
     "output_type": "stream",
     "text": [
      "/home/xueyunzhe/anaconda3/lib/python3.5/site-packages/sklearn/preprocessing/label.py:151: DeprecationWarning: The truth value of an empty array is ambiguous. Returning False, but in future this will result in an error. Use `array.size > 0` to check that an array is not empty.\n",
      "  if diff:\n",
      "/home/xueyunzhe/anaconda3/lib/python3.5/site-packages/sklearn/preprocessing/label.py:151: DeprecationWarning: The truth value of an empty array is ambiguous. Returning False, but in future this will result in an error. Use `array.size > 0` to check that an array is not empty.\n",
      "  if diff:\n"
     ]
    },
    {
     "name": "stdout",
     "output_type": "stream",
     "text": [
      "[CV]  n_estimators=600, max_depth=3, min_child_weight=2, scale_pos_weight=2, subsample=0.8, learning_rate=0.05, score=0.4197839681637294, total= 1.8min\n",
      "[CV] n_estimators=400, max_depth=3, min_child_weight=3, scale_pos_weight=4, subsample=1.0, learning_rate=0.09 \n"
     ]
    },
    {
     "name": "stderr",
     "output_type": "stream",
     "text": [
      "/home/xueyunzhe/anaconda3/lib/python3.5/site-packages/sklearn/preprocessing/label.py:151: DeprecationWarning: The truth value of an empty array is ambiguous. Returning False, but in future this will result in an error. Use `array.size > 0` to check that an array is not empty.\n",
      "  if diff:\n",
      "/home/xueyunzhe/anaconda3/lib/python3.5/site-packages/sklearn/preprocessing/label.py:151: DeprecationWarning: The truth value of an empty array is ambiguous. Returning False, but in future this will result in an error. Use `array.size > 0` to check that an array is not empty.\n",
      "  if diff:\n"
     ]
    },
    {
     "name": "stdout",
     "output_type": "stream",
     "text": [
      "[CV]  n_estimators=600, max_depth=3, min_child_weight=2, scale_pos_weight=2, subsample=0.8, learning_rate=0.05, score=0.43, total= 1.8min\n",
      "[CV] n_estimators=1000, max_depth=7, min_child_weight=1, scale_pos_weight=3, subsample=0.8, learning_rate=0.1 \n"
     ]
    },
    {
     "name": "stderr",
     "output_type": "stream",
     "text": [
      "/home/xueyunzhe/anaconda3/lib/python3.5/site-packages/sklearn/preprocessing/label.py:151: DeprecationWarning: The truth value of an empty array is ambiguous. Returning False, but in future this will result in an error. Use `array.size > 0` to check that an array is not empty.\n",
      "  if diff:\n",
      "/home/xueyunzhe/anaconda3/lib/python3.5/site-packages/sklearn/preprocessing/label.py:151: DeprecationWarning: The truth value of an empty array is ambiguous. Returning False, but in future this will result in an error. Use `array.size > 0` to check that an array is not empty.\n",
      "  if diff:\n"
     ]
    },
    {
     "name": "stdout",
     "output_type": "stream",
     "text": [
      "[CV]  n_estimators=400, max_depth=3, min_child_weight=3, scale_pos_weight=4, subsample=1.0, learning_rate=0.09, score=0.45918519623936727, total= 1.1min\n",
      "[CV] n_estimators=1000, max_depth=7, min_child_weight=1, scale_pos_weight=3, subsample=0.8, learning_rate=0.1 \n"
     ]
    },
    {
     "name": "stderr",
     "output_type": "stream",
     "text": [
      "/home/xueyunzhe/anaconda3/lib/python3.5/site-packages/sklearn/preprocessing/label.py:151: DeprecationWarning: The truth value of an empty array is ambiguous. Returning False, but in future this will result in an error. Use `array.size > 0` to check that an array is not empty.\n",
      "  if diff:\n",
      "/home/xueyunzhe/anaconda3/lib/python3.5/site-packages/sklearn/preprocessing/label.py:151: DeprecationWarning: The truth value of an empty array is ambiguous. Returning False, but in future this will result in an error. Use `array.size > 0` to check that an array is not empty.\n",
      "  if diff:\n"
     ]
    },
    {
     "name": "stdout",
     "output_type": "stream",
     "text": [
      "[CV]  n_estimators=400, max_depth=3, min_child_weight=3, scale_pos_weight=4, subsample=1.0, learning_rate=0.09, score=0.45370440015043245, total= 1.1min\n",
      "[CV] n_estimators=1000, max_depth=7, min_child_weight=1, scale_pos_weight=3, subsample=0.8, learning_rate=0.1 \n"
     ]
    },
    {
     "name": "stderr",
     "output_type": "stream",
     "text": [
      "/home/xueyunzhe/anaconda3/lib/python3.5/site-packages/sklearn/preprocessing/label.py:151: DeprecationWarning: The truth value of an empty array is ambiguous. Returning False, but in future this will result in an error. Use `array.size > 0` to check that an array is not empty.\n",
      "  if diff:\n",
      "/home/xueyunzhe/anaconda3/lib/python3.5/site-packages/sklearn/preprocessing/label.py:151: DeprecationWarning: The truth value of an empty array is ambiguous. Returning False, but in future this will result in an error. Use `array.size > 0` to check that an array is not empty.\n",
      "  if diff:\n"
     ]
    },
    {
     "name": "stdout",
     "output_type": "stream",
     "text": [
      "[CV]  n_estimators=400, max_depth=3, min_child_weight=3, scale_pos_weight=4, subsample=1.0, learning_rate=0.09, score=0.4584565345949142, total= 1.1min\n",
      "[CV] n_estimators=100, max_depth=9, min_child_weight=1, scale_pos_weight=1, subsample=1.0, learning_rate=0.05 \n"
     ]
    },
    {
     "name": "stderr",
     "output_type": "stream",
     "text": [
      "/home/xueyunzhe/anaconda3/lib/python3.5/site-packages/sklearn/preprocessing/label.py:151: DeprecationWarning: The truth value of an empty array is ambiguous. Returning False, but in future this will result in an error. Use `array.size > 0` to check that an array is not empty.\n",
      "  if diff:\n",
      "/home/xueyunzhe/anaconda3/lib/python3.5/site-packages/sklearn/preprocessing/label.py:151: DeprecationWarning: The truth value of an empty array is ambiguous. Returning False, but in future this will result in an error. Use `array.size > 0` to check that an array is not empty.\n",
      "  if diff:\n"
     ]
    },
    {
     "name": "stdout",
     "output_type": "stream",
     "text": [
      "[CV]  n_estimators=100, max_depth=9, min_child_weight=1, scale_pos_weight=1, subsample=1.0, learning_rate=0.05, score=0.2744063324538259, total=  56.6s\n",
      "[CV] n_estimators=100, max_depth=9, min_child_weight=1, scale_pos_weight=1, subsample=1.0, learning_rate=0.05 \n"
     ]
    },
    {
     "name": "stderr",
     "output_type": "stream",
     "text": [
      "/home/xueyunzhe/anaconda3/lib/python3.5/site-packages/sklearn/preprocessing/label.py:151: DeprecationWarning: The truth value of an empty array is ambiguous. Returning False, but in future this will result in an error. Use `array.size > 0` to check that an array is not empty.\n",
      "  if diff:\n",
      "/home/xueyunzhe/anaconda3/lib/python3.5/site-packages/sklearn/preprocessing/label.py:151: DeprecationWarning: The truth value of an empty array is ambiguous. Returning False, but in future this will result in an error. Use `array.size > 0` to check that an array is not empty.\n",
      "  if diff:\n"
     ]
    },
    {
     "name": "stdout",
     "output_type": "stream",
     "text": [
      "[CV]  n_estimators=100, max_depth=9, min_child_weight=1, scale_pos_weight=1, subsample=1.0, learning_rate=0.05, score=0.2843271127294796, total=  56.4s\n",
      "[CV] n_estimators=100, max_depth=9, min_child_weight=1, scale_pos_weight=1, subsample=1.0, learning_rate=0.05 \n"
     ]
    },
    {
     "name": "stderr",
     "output_type": "stream",
     "text": [
      "/home/xueyunzhe/anaconda3/lib/python3.5/site-packages/sklearn/preprocessing/label.py:151: DeprecationWarning: The truth value of an empty array is ambiguous. Returning False, but in future this will result in an error. Use `array.size > 0` to check that an array is not empty.\n",
      "  if diff:\n",
      "/home/xueyunzhe/anaconda3/lib/python3.5/site-packages/sklearn/preprocessing/label.py:151: DeprecationWarning: The truth value of an empty array is ambiguous. Returning False, but in future this will result in an error. Use `array.size > 0` to check that an array is not empty.\n",
      "  if diff:\n"
     ]
    },
    {
     "name": "stdout",
     "output_type": "stream",
     "text": [
      "[CV]  n_estimators=100, max_depth=9, min_child_weight=1, scale_pos_weight=1, subsample=1.0, learning_rate=0.05, score=0.2865434550175653, total=  56.5s\n",
      "[CV] n_estimators=600, max_depth=5, min_child_weight=2, scale_pos_weight=2, subsample=0.8, learning_rate=0.03 \n"
     ]
    },
    {
     "name": "stderr",
     "output_type": "stream",
     "text": [
      "/home/xueyunzhe/anaconda3/lib/python3.5/site-packages/sklearn/preprocessing/label.py:151: DeprecationWarning: The truth value of an empty array is ambiguous. Returning False, but in future this will result in an error. Use `array.size > 0` to check that an array is not empty.\n",
      "  if diff:\n",
      "/home/xueyunzhe/anaconda3/lib/python3.5/site-packages/sklearn/preprocessing/label.py:151: DeprecationWarning: The truth value of an empty array is ambiguous. Returning False, but in future this will result in an error. Use `array.size > 0` to check that an array is not empty.\n",
      "  if diff:\n"
     ]
    },
    {
     "name": "stdout",
     "output_type": "stream",
     "text": [
      "[CV]  n_estimators=600, max_depth=5, min_child_weight=2, scale_pos_weight=2, subsample=0.8, learning_rate=0.03, score=0.4340289656745353, total= 3.0min\n",
      "[CV] n_estimators=600, max_depth=5, min_child_weight=2, scale_pos_weight=2, subsample=0.8, learning_rate=0.03 \n"
     ]
    },
    {
     "name": "stderr",
     "output_type": "stream",
     "text": [
      "/home/xueyunzhe/anaconda3/lib/python3.5/site-packages/sklearn/preprocessing/label.py:151: DeprecationWarning: The truth value of an empty array is ambiguous. Returning False, but in future this will result in an error. Use `array.size > 0` to check that an array is not empty.\n",
      "  if diff:\n",
      "/home/xueyunzhe/anaconda3/lib/python3.5/site-packages/sklearn/preprocessing/label.py:151: DeprecationWarning: The truth value of an empty array is ambiguous. Returning False, but in future this will result in an error. Use `array.size > 0` to check that an array is not empty.\n",
      "  if diff:\n",
      "/home/xueyunzhe/anaconda3/lib/python3.5/site-packages/sklearn/preprocessing/label.py:151: DeprecationWarning: The truth value of an empty array is ambiguous. Returning False, but in future this will result in an error. Use `array.size > 0` to check that an array is not empty.\n",
      "  if diff:\n"
     ]
    },
    {
     "name": "stdout",
     "output_type": "stream",
     "text": [
      "[CV]  n_estimators=1000, max_depth=7, min_child_weight=1, scale_pos_weight=3, subsample=0.8, learning_rate=0.1, score=0.3839744321424495, total= 7.2min\n",
      "[CV] n_estimators=600, max_depth=5, min_child_weight=2, scale_pos_weight=2, subsample=0.8, learning_rate=0.03 \n"
     ]
    },
    {
     "name": "stderr",
     "output_type": "stream",
     "text": [
      "/home/xueyunzhe/anaconda3/lib/python3.5/site-packages/sklearn/preprocessing/label.py:151: DeprecationWarning: The truth value of an empty array is ambiguous. Returning False, but in future this will result in an error. Use `array.size > 0` to check that an array is not empty.\n",
      "  if diff:\n"
     ]
    },
    {
     "name": "stdout",
     "output_type": "stream",
     "text": [
      "[CV]  n_estimators=1000, max_depth=7, min_child_weight=1, scale_pos_weight=3, subsample=0.8, learning_rate=0.1, score=0.3837638376383764, total= 7.2min\n"
     ]
    },
    {
     "name": "stderr",
     "output_type": "stream",
     "text": [
      "/home/xueyunzhe/anaconda3/lib/python3.5/site-packages/sklearn/preprocessing/label.py:151: DeprecationWarning: The truth value of an empty array is ambiguous. Returning False, but in future this will result in an error. Use `array.size > 0` to check that an array is not empty.\n",
      "  if diff:\n",
      "/home/xueyunzhe/anaconda3/lib/python3.5/site-packages/sklearn/preprocessing/label.py:151: DeprecationWarning: The truth value of an empty array is ambiguous. Returning False, but in future this will result in an error. Use `array.size > 0` to check that an array is not empty.\n",
      "  if diff:\n"
     ]
    },
    {
     "name": "stdout",
     "output_type": "stream",
     "text": [
      "[CV]  n_estimators=1000, max_depth=7, min_child_weight=1, scale_pos_weight=3, subsample=0.8, learning_rate=0.1, score=0.3841350601295097, total= 7.1min\n"
     ]
    },
    {
     "name": "stderr",
     "output_type": "stream",
     "text": [
      "/home/xueyunzhe/anaconda3/lib/python3.5/site-packages/sklearn/preprocessing/label.py:151: DeprecationWarning: The truth value of an empty array is ambiguous. Returning False, but in future this will result in an error. Use `array.size > 0` to check that an array is not empty.\n",
      "  if diff:\n",
      "/home/xueyunzhe/anaconda3/lib/python3.5/site-packages/sklearn/preprocessing/label.py:151: DeprecationWarning: The truth value of an empty array is ambiguous. Returning False, but in future this will result in an error. Use `array.size > 0` to check that an array is not empty.\n",
      "  if diff:\n"
     ]
    },
    {
     "name": "stdout",
     "output_type": "stream",
     "text": [
      "[CV]  n_estimators=600, max_depth=5, min_child_weight=2, scale_pos_weight=2, subsample=0.8, learning_rate=0.03, score=0.41850371216447746, total= 2.2min\n"
     ]
    },
    {
     "name": "stderr",
     "output_type": "stream",
     "text": [
      "/home/xueyunzhe/anaconda3/lib/python3.5/site-packages/sklearn/preprocessing/label.py:151: DeprecationWarning: The truth value of an empty array is ambiguous. Returning False, but in future this will result in an error. Use `array.size > 0` to check that an array is not empty.\n",
      "  if diff:\n",
      "/home/xueyunzhe/anaconda3/lib/python3.5/site-packages/sklearn/preprocessing/label.py:151: DeprecationWarning: The truth value of an empty array is ambiguous. Returning False, but in future this will result in an error. Use `array.size > 0` to check that an array is not empty.\n",
      "  if diff:\n"
     ]
    },
    {
     "name": "stdout",
     "output_type": "stream",
     "text": [
      "[CV]  n_estimators=600, max_depth=5, min_child_weight=2, scale_pos_weight=2, subsample=0.8, learning_rate=0.03, score=0.42563399588759426, total= 1.9min\n"
     ]
    },
    {
     "name": "stderr",
     "output_type": "stream",
     "text": [
      "[Parallel(n_jobs=-1)]: Done  75 out of  75 | elapsed: 63.1min finished\n"
     ]
    },
    {
     "data": {
      "text/plain": [
       "RandomizedSearchCV(cv=None, error_score=0,\n",
       "          estimator=XGBClassifier(base_score=0.5, booster='gbtree', colsample_bylevel=1,\n",
       "       colsample_bytree=1, gamma=0, learning_rate=0.1, max_delta_step=0,\n",
       "       max_depth=3, min_child_weight=1, missing=None, n_estimators=100,\n",
       "       n_jobs=1, nthread=None, objective='binary:logistic', random_state=0,\n",
       "       reg_alpha=0, reg_lambda=1, scale_pos_weight=1, seed=None,\n",
       "       silent=True, subsample=1),\n",
       "          fit_params=None, iid=True, n_iter=25, n_jobs=-1,\n",
       "          param_distributions={'n_estimators': [100, 200, 400, 600, 800, 1000], 'max_depth': [3, 5, 7, 9, 11], 'min_child_weight': [1, 2, 3], 'scale_pos_weight': [4, 3, 2, 1], 'subsample': [1.0, 0.9, 0.8], 'learning_rate': [0.01, 0.03, 0.05, 0.07, 0.09, 0.1]},\n",
       "          pre_dispatch='2*n_jobs', random_state=None, refit=True,\n",
       "          return_train_score='warn', scoring='f1', verbose=3)"
      ]
     },
     "execution_count": 45,
     "metadata": {},
     "output_type": "execute_result"
    }
   ],
   "source": [
    "from sklearn.model_selection import RandomizedSearchCV\n",
    "from sklearn.model_selection import cross_validate\n",
    "\n",
    "X = train_datamatrix\n",
    "y = train_datasetL\n",
    "\n",
    "clf_xgb = xgb.XGBClassifier(objective = 'binary:logistic')\n",
    "\n",
    "param_dist = {'n_estimators': [100, 200, 400, 600, 800, 1000],\n",
    "              'learning_rate': [0.01, 0.03, 0.05, 0.07, 0.09, 0.1],\n",
    "              'subsample': [1.0, 0.9, 0.8],\n",
    "              'max_depth': [3, 5, 7, 9, 11],\n",
    "              'min_child_weight': [1, 2, 3],\n",
    "              'scale_pos_weight': [4, 3, 2, 1]\n",
    "             }\n",
    "\n",
    "clf = RandomizedSearchCV(clf_xgb, param_distributions = param_dist, n_iter = 25, scoring = 'f1', error_score = 0, verbose = 3, n_jobs = -1)\n",
    "\n",
    "clf.fit(X, y)"
   ]
  },
  {
   "cell_type": "code",
   "execution_count": 47,
   "metadata": {
    "collapsed": false
   },
   "outputs": [
    {
     "name": "stdout",
     "output_type": "stream",
     "text": [
      "             precision    recall  f1-score   support\n",
      "\n",
      "          0       0.90      0.75      0.82     16751\n",
      "          1       0.35      0.61      0.45      3744\n",
      "\n",
      "avg / total       0.80      0.73      0.75     20495\n",
      "\n"
     ]
    },
    {
     "name": "stderr",
     "output_type": "stream",
     "text": [
      "/home/xueyunzhe/anaconda3/lib/python3.5/site-packages/sklearn/preprocessing/label.py:151: DeprecationWarning: The truth value of an empty array is ambiguous. Returning False, but in future this will result in an error. Use `array.size > 0` to check that an array is not empty.\n",
      "  if diff:\n"
     ]
    }
   ],
   "source": [
    "best_xgb = clf.best_estimator_\n",
    "\n",
    "# make prediction\n",
    "preds = best_xgb.predict(dev_datamatrix)\n",
    "\n",
    "pred_label = preds >= 0.5\n",
    "pred_label = pred_label.astype(int)\n",
    "from sklearn.metrics import classification_report\n",
    "print(classification_report(dev_datasetL, pred_label))"
   ]
  },
  {
   "cell_type": "code",
   "execution_count": 48,
   "metadata": {
    "collapsed": false
   },
   "outputs": [
    {
     "data": {
      "text/plain": [
       "{'base_score': 0.5,\n",
       " 'booster': 'gbtree',\n",
       " 'colsample_bylevel': 1,\n",
       " 'colsample_bytree': 1,\n",
       " 'gamma': 0,\n",
       " 'learning_rate': 0.1,\n",
       " 'max_delta_step': 0,\n",
       " 'max_depth': 3,\n",
       " 'min_child_weight': 2,\n",
       " 'missing': None,\n",
       " 'n_estimators': 600,\n",
       " 'nthread': 1,\n",
       " 'objective': 'binary:logistic',\n",
       " 'reg_alpha': 0,\n",
       " 'reg_lambda': 1,\n",
       " 'scale_pos_weight': 4,\n",
       " 'seed': 0,\n",
       " 'silent': 1,\n",
       " 'subsample': 0.9}"
      ]
     },
     "execution_count": 48,
     "metadata": {},
     "output_type": "execute_result"
    }
   ],
   "source": [
    "best_xgb.get_xgb_params()"
   ]
  },
  {
   "cell_type": "code",
   "execution_count": 52,
   "metadata": {
    "collapsed": true
   },
   "outputs": [],
   "source": [
    "pickle.dump(clf.best_estimator_, open(\"../data/m_result/xgboost_1.model\", \"wb\"), 2)"
   ]
  },
  {
   "cell_type": "code",
   "execution_count": 53,
   "metadata": {
    "collapsed": false
   },
   "outputs": [
    {
     "data": {
      "text/plain": [
       "array([1, 6])"
      ]
     },
     "execution_count": 53,
     "metadata": {},
     "output_type": "execute_result"
    }
   ],
   "source": [
    "arr = np.array([[1, 2], [0, 4]])\n",
    "np.sum(arr, axis=0)"
   ]
  },
  {
   "cell_type": "code",
   "execution_count": null,
   "metadata": {
    "collapsed": true
   },
   "outputs": [],
   "source": []
  }
 ],
 "metadata": {
  "anaconda-cloud": {},
  "kernelspec": {
   "display_name": "Python [conda env:anaconda3]",
   "language": "python",
   "name": "conda-env-anaconda3-py"
  },
  "language_info": {
   "codemirror_mode": {
    "name": "ipython",
    "version": 3
   },
   "file_extension": ".py",
   "mimetype": "text/x-python",
   "name": "python",
   "nbconvert_exporter": "python",
   "pygments_lexer": "ipython3",
   "version": "3.5.2"
  }
 },
 "nbformat": 4,
 "nbformat_minor": 2
}
