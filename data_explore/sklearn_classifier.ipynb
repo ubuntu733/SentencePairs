{
 "cells": [
  {
   "cell_type": "code",
   "execution_count": 1,
   "metadata": {
    "collapsed": true
   },
   "outputs": [],
   "source": [
    "from sklearn.model_selection import RandomizedSearchCV\n",
    "from sklearn.model_selection import cross_validate\n",
    "import numpy as np\n",
    "import xgboost as xgb\n",
    "import pandas as pd"
   ]
  },
  {
   "cell_type": "code",
   "execution_count": 2,
   "metadata": {
    "collapsed": true
   },
   "outputs": [],
   "source": [
    "train_datasetL = pd.read_csv(\"../data/ori_data/train_process.csv\", header=None, sep=\"\\t\").iloc[:, 0].values\n",
    "dev_datasetL = pd.read_csv(\"../data/ori_data/dev_process.csv\", header=None, sep=\"\\t\").iloc[:, 0].values"
   ]
  },
  {
   "cell_type": "code",
   "execution_count": 3,
   "metadata": {
    "collapsed": true
   },
   "outputs": [],
   "source": [
    "train_datamatrix = np.load(\"../data/ori_data/train.featurematrix.data\")\n",
    "dev_datamatrix = np.load(\"../data/ori_data/dev.featurematrix.data\")"
   ]
  },
  {
   "cell_type": "code",
   "execution_count": 21,
   "metadata": {
    "collapsed": false
   },
   "outputs": [
    {
     "data": {
      "text/plain": [
       "RandomForestClassifier(bootstrap=True, class_weight='balanced',\n",
       "            criterion='gini', max_depth=None, max_features='auto',\n",
       "            max_leaf_nodes=None, min_impurity_decrease=0.0,\n",
       "            min_impurity_split=None, min_samples_leaf=1,\n",
       "            min_samples_split=2, min_weight_fraction_leaf=0.0,\n",
       "            n_estimators=10, n_jobs=1, oob_score=False, random_state=None,\n",
       "            verbose=0, warm_start=False)"
      ]
     },
     "execution_count": 21,
     "metadata": {},
     "output_type": "execute_result"
    }
   ],
   "source": [
    "from sklearn.ensemble import RandomForestClassifier\n",
    "\n",
    "randomforest_classifier = RandomForestClassifier(n_estimators=10, criterion='gini', max_depth=None, \n",
    "                                                 min_samples_split=2, min_samples_leaf=1, \n",
    "                                                 min_weight_fraction_leaf=0.0, max_features='auto', \n",
    "                                                 max_leaf_nodes=None, min_impurity_decrease=0.0, \n",
    "                                                 min_impurity_split=None, bootstrap=True, oob_score=False, n_jobs=1, \n",
    "                                                 random_state=None, verbose=0, warm_start=False, class_weight=\"balanced\")\n",
    "randomforest_classifier.fit(train_datamatrix, train_datasetL)"
   ]
  },
  {
   "cell_type": "code",
   "execution_count": 22,
   "metadata": {
    "collapsed": false
   },
   "outputs": [
    {
     "name": "stdout",
     "output_type": "stream",
     "text": [
      "             precision    recall  f1-score   support\n",
      "\n",
      "          0       0.83      0.97      0.90     16751\n",
      "          1       0.52      0.14      0.22      3744\n",
      "\n",
      "avg / total       0.78      0.82      0.77     20495\n",
      "\n"
     ]
    }
   ],
   "source": [
    "preds = randomforest_classifier.predict(dev_datamatrix)\n",
    "pred_label = preds >= 0.5\n",
    "pred_label = pred_label.astype(int)\n",
    "from sklearn.metrics import classification_report\n",
    "print(classification_report(dev_datasetL, pred_label))"
   ]
  },
  {
   "cell_type": "code",
   "execution_count": 23,
   "metadata": {
    "collapsed": false
   },
   "outputs": [
    {
     "data": {
      "text/plain": [
       "LogisticRegression(C=1.0, class_weight='balanced', dual=False,\n",
       "          fit_intercept=True, intercept_scaling=1, max_iter=1000,\n",
       "          multi_class='ovr', n_jobs=1, penalty='l2', random_state=None,\n",
       "          solver='liblinear', tol=0.0001, verbose=0, warm_start=False)"
      ]
     },
     "execution_count": 23,
     "metadata": {},
     "output_type": "execute_result"
    }
   ],
   "source": [
    "from sklearn.linear_model import LogisticRegression\n",
    "linear_classifier = LogisticRegression(class_weight=\"balanced\", max_iter=1000)\n",
    "linear_classifier.fit(train_datamatrix, train_datasetL)"
   ]
  },
  {
   "cell_type": "code",
   "execution_count": 24,
   "metadata": {
    "collapsed": false
   },
   "outputs": [
    {
     "name": "stdout",
     "output_type": "stream",
     "text": [
      "             precision    recall  f1-score   support\n",
      "\n",
      "          0       0.90      0.68      0.78     16751\n",
      "          1       0.32      0.67      0.44      3744\n",
      "\n",
      "avg / total       0.80      0.68      0.72     20495\n",
      "\n"
     ]
    }
   ],
   "source": [
    "preds = linear_classifier.predict(dev_datamatrix)\n",
    "pred_label = preds >= 0.5\n",
    "pred_label = pred_label.astype(int)\n",
    "from sklearn.metrics import classification_report\n",
    "print(classification_report(dev_datasetL, pred_label))"
   ]
  },
  {
   "cell_type": "code",
   "execution_count": 25,
   "metadata": {
    "collapsed": true
   },
   "outputs": [],
   "source": [
    "import pickle\n",
    "pickle.dump(linear_classifier, open(\"../data/m_result/linear_classifier.model\", \"wb\"), 2)"
   ]
  },
  {
   "cell_type": "code",
   "execution_count": 43,
   "metadata": {
    "collapsed": true
   },
   "outputs": [],
   "source": [
    "# specify parameters via map\n",
    "xgb_classifier = xgb.XGBClassifier(max_depth=11, learning_rate=0.01, n_estimators=1000, \n",
    "                                   silent=0, objective='binary:logistic', booster='gbtree', \n",
    "                                   n_jobs=1, nthread=None, gamma=0, min_child_weight=2, max_delta_step=0, subsample=1, \n",
    "                                   colsample_bytree=1, colsample_bylevel=1, reg_alpha=0, \n",
    "                                   reg_lambda=1, scale_pos_weight=4, \n",
    "                                   base_score=0.5, random_state=0, seed=None, missing=None)\n",
    "\n",
    "xgb_classifier.fit(train_datamatrix, train_datasetL)"
   ]
  },
  {
   "cell_type": "code",
   "execution_count": 44,
   "metadata": {
    "collapsed": false
   },
   "outputs": [
    {
     "name": "stdout",
     "output_type": "stream",
     "text": [
      "             precision    recall  f1-score   support\n",
      "\n",
      "          0       0.88      0.84      0.86     16751\n",
      "          1       0.40      0.48      0.44      3744\n",
      "\n",
      "avg / total       0.79      0.78      0.78     20495\n",
      "\n"
     ]
    },
    {
     "name": "stderr",
     "output_type": "stream",
     "text": [
      "/home/xueyunzhe/anaconda3/lib/python3.5/site-packages/sklearn/preprocessing/label.py:151: DeprecationWarning: The truth value of an empty array is ambiguous. Returning False, but in future this will result in an error. Use `array.size > 0` to check that an array is not empty.\n",
      "  if diff:\n"
     ]
    }
   ],
   "source": [
    "# make prediction\n",
    "preds = xgb_classifier.predict(dev_datamatrix)\n",
    "\n",
    "pred_label = preds >= 0.5\n",
    "pred_label = pred_label.astype(int)\n",
    "from sklearn.metrics import classification_report\n",
    "print(classification_report(dev_datasetL, pred_label))"
   ]
  },
  {
   "cell_type": "code",
   "execution_count": 42,
   "metadata": {
    "collapsed": false
   },
   "outputs": [],
   "source": [
    "pickle.dump(bst, open(\"../data/m_result/xgboost_3.model\", \"wb\"), 2)"
   ]
  },
  {
   "cell_type": "code",
   "execution_count": 46,
   "metadata": {
    "collapsed": false
   },
   "outputs": [
    {
     "data": {
      "text/plain": [
       "KNeighborsClassifier(algorithm='auto', leaf_size=30, metric='minkowski',\n",
       "           metric_params=None, n_jobs=1, n_neighbors=5, p=2,\n",
       "           weights='uniform')"
      ]
     },
     "execution_count": 46,
     "metadata": {},
     "output_type": "execute_result"
    }
   ],
   "source": [
    "from sklearn.neighbors import KNeighborsClassifier\n",
    "\n",
    "knn_classifier = KNeighborsClassifier(n_neighbors=5, weights='uniform', \n",
    "                                      algorithm='auto', leaf_size=30, \n",
    "                                      p=2, metric='minkowski', \n",
    "                                      metric_params=None, n_jobs=1)\n",
    "knn_classifier.fit(train_datamatrix, train_datasetL)"
   ]
  },
  {
   "cell_type": "code",
   "execution_count": 47,
   "metadata": {
    "collapsed": false
   },
   "outputs": [
    {
     "name": "stdout",
     "output_type": "stream",
     "text": [
      "             precision    recall  f1-score   support\n",
      "\n",
      "          0       0.83      0.94      0.89     16751\n",
      "          1       0.40      0.16      0.23      3744\n",
      "\n",
      "avg / total       0.75      0.80      0.77     20495\n",
      "\n"
     ]
    }
   ],
   "source": [
    "# make prediction\n",
    "preds = knn_classifier.predict(dev_datamatrix)\n",
    "\n",
    "pred_label = preds >= 0.5\n",
    "pred_label = pred_label.astype(int)\n",
    "from sklearn.metrics import classification_report\n",
    "print(classification_report(dev_datasetL, pred_label))"
   ]
  },
  {
   "cell_type": "code",
   "execution_count": 57,
   "metadata": {
    "collapsed": false
   },
   "outputs": [],
   "source": [
    "# select same number of pos and neg example\n",
    "\n",
    "def select_trainset(datasetM, datasetL, neg_ratio=1):\n",
    "    \n",
    "    pos_index_list = []\n",
    "    for index, val in enumerate(datasetL):\n",
    "        if val == 1:\n",
    "            pos_index_list.append(index)\n",
    "    \n",
    "    pos_trainM =  datasetM[pos_index_list, :]\n",
    "    pos_trainL =  datasetL[pos_index_list]\n",
    "    \n",
    "    neg_index_list = [index for index in range(len(datasetL)) if index not in pos_index_list]\n",
    "    \n",
    "    \n",
    "    neg_len = len(pos_index_list) * neg_ratio\n",
    "    permuation_index = np.random.permutation(len(neg_index_list))\n",
    "    neg_index_selected = permuation_index[:neg_len]\n",
    "    \n",
    "    neg_trainM = datasetM[neg_index_selected, :]\n",
    "    neg_trainL = datasetL[neg_index_selected]\n",
    "    \n",
    "    return np.concatenate((pos_trainM, neg_trainM)), np.concatenate((pos_trainL, neg_trainL))"
   ]
  },
  {
   "cell_type": "code",
   "execution_count": 58,
   "metadata": {
    "collapsed": false
   },
   "outputs": [
    {
     "name": "stdout",
     "output_type": "stream",
     "text": [
      "(29882, 88)\n",
      "(29882,)\n"
     ]
    }
   ],
   "source": [
    "selected_trainM, selected_trainL = select_trainset(train_datamatrix, train_datasetL, neg_ratio=1)\n",
    "\n",
    "print(selected_trainM.shape) \n",
    "print(selected_trainL.shape)"
   ]
  },
  {
   "cell_type": "code",
   "execution_count": 84,
   "metadata": {
    "collapsed": false
   },
   "outputs": [
    {
     "name": "stdout",
     "output_type": "stream",
     "text": [
      "[0]\tvalidation_0-auc:0.775401\tvalidation_1-auc:0.718834\n",
      "Multiple eval metrics have been passed: 'validation_1-auc' will be used for early stopping.\n",
      "\n",
      "Will train until validation_1-auc hasn't improved in 100 rounds.\n",
      "[1]\tvalidation_0-auc:0.783165\tvalidation_1-auc:0.727415\n",
      "[2]\tvalidation_0-auc:0.787075\tvalidation_1-auc:0.728952\n",
      "[3]\tvalidation_0-auc:0.790219\tvalidation_1-auc:0.731008\n",
      "[4]\tvalidation_0-auc:0.794188\tvalidation_1-auc:0.733995\n",
      "[5]\tvalidation_0-auc:0.796786\tvalidation_1-auc:0.735321\n",
      "[6]\tvalidation_0-auc:0.79857\tvalidation_1-auc:0.735897\n",
      "[7]\tvalidation_0-auc:0.801264\tvalidation_1-auc:0.737186\n",
      "[8]\tvalidation_0-auc:0.802788\tvalidation_1-auc:0.737104\n",
      "[9]\tvalidation_0-auc:0.804593\tvalidation_1-auc:0.73783\n",
      "[10]\tvalidation_0-auc:0.805867\tvalidation_1-auc:0.738461\n",
      "[11]\tvalidation_0-auc:0.807701\tvalidation_1-auc:0.739517\n",
      "[12]\tvalidation_0-auc:0.808946\tvalidation_1-auc:0.740406\n",
      "[13]\tvalidation_0-auc:0.810856\tvalidation_1-auc:0.740869\n",
      "[14]\tvalidation_0-auc:0.813216\tvalidation_1-auc:0.741451\n",
      "[15]\tvalidation_0-auc:0.814749\tvalidation_1-auc:0.74203\n",
      "[16]\tvalidation_0-auc:0.816466\tvalidation_1-auc:0.742224\n",
      "[17]\tvalidation_0-auc:0.817764\tvalidation_1-auc:0.742711\n",
      "[18]\tvalidation_0-auc:0.819885\tvalidation_1-auc:0.743076\n",
      "[19]\tvalidation_0-auc:0.821756\tvalidation_1-auc:0.743363\n",
      "[20]\tvalidation_0-auc:0.82311\tvalidation_1-auc:0.743783\n",
      "[21]\tvalidation_0-auc:0.824243\tvalidation_1-auc:0.743945\n",
      "[22]\tvalidation_0-auc:0.825347\tvalidation_1-auc:0.744339\n",
      "[23]\tvalidation_0-auc:0.826601\tvalidation_1-auc:0.744607\n",
      "[24]\tvalidation_0-auc:0.827962\tvalidation_1-auc:0.744886\n",
      "[25]\tvalidation_0-auc:0.829376\tvalidation_1-auc:0.744901\n",
      "[26]\tvalidation_0-auc:0.830542\tvalidation_1-auc:0.745246\n",
      "[27]\tvalidation_0-auc:0.831513\tvalidation_1-auc:0.745402\n",
      "[28]\tvalidation_0-auc:0.833043\tvalidation_1-auc:0.745661\n",
      "[29]\tvalidation_0-auc:0.833811\tvalidation_1-auc:0.7456\n",
      "[30]\tvalidation_0-auc:0.834992\tvalidation_1-auc:0.745668\n",
      "[31]\tvalidation_0-auc:0.836206\tvalidation_1-auc:0.745617\n",
      "[32]\tvalidation_0-auc:0.837281\tvalidation_1-auc:0.745663\n",
      "[33]\tvalidation_0-auc:0.838158\tvalidation_1-auc:0.745486\n",
      "[34]\tvalidation_0-auc:0.839253\tvalidation_1-auc:0.745464\n",
      "[35]\tvalidation_0-auc:0.84004\tvalidation_1-auc:0.745529\n",
      "[36]\tvalidation_0-auc:0.841688\tvalidation_1-auc:0.745628\n",
      "[37]\tvalidation_0-auc:0.842579\tvalidation_1-auc:0.745739\n",
      "[38]\tvalidation_0-auc:0.84376\tvalidation_1-auc:0.746009\n",
      "[39]\tvalidation_0-auc:0.844589\tvalidation_1-auc:0.746067\n",
      "[40]\tvalidation_0-auc:0.845488\tvalidation_1-auc:0.746098\n",
      "[41]\tvalidation_0-auc:0.846669\tvalidation_1-auc:0.746428\n",
      "[42]\tvalidation_0-auc:0.847253\tvalidation_1-auc:0.746575\n",
      "[43]\tvalidation_0-auc:0.847934\tvalidation_1-auc:0.746567\n",
      "[44]\tvalidation_0-auc:0.849411\tvalidation_1-auc:0.746765\n",
      "[45]\tvalidation_0-auc:0.850004\tvalidation_1-auc:0.746704\n",
      "[46]\tvalidation_0-auc:0.850954\tvalidation_1-auc:0.746762\n",
      "[47]\tvalidation_0-auc:0.852005\tvalidation_1-auc:0.746786\n",
      "[48]\tvalidation_0-auc:0.852651\tvalidation_1-auc:0.74686\n",
      "[49]\tvalidation_0-auc:0.85297\tvalidation_1-auc:0.746896\n",
      "[50]\tvalidation_0-auc:0.853991\tvalidation_1-auc:0.746777\n",
      "[51]\tvalidation_0-auc:0.854521\tvalidation_1-auc:0.746862\n",
      "[52]\tvalidation_0-auc:0.85493\tvalidation_1-auc:0.746867\n",
      "[53]\tvalidation_0-auc:0.856394\tvalidation_1-auc:0.746851\n",
      "[54]\tvalidation_0-auc:0.857076\tvalidation_1-auc:0.746836\n",
      "[55]\tvalidation_0-auc:0.858238\tvalidation_1-auc:0.746718\n",
      "[56]\tvalidation_0-auc:0.858373\tvalidation_1-auc:0.746741\n",
      "[57]\tvalidation_0-auc:0.85918\tvalidation_1-auc:0.746666\n",
      "[58]\tvalidation_0-auc:0.860837\tvalidation_1-auc:0.746592\n",
      "[59]\tvalidation_0-auc:0.861073\tvalidation_1-auc:0.746594\n",
      "[60]\tvalidation_0-auc:0.86139\tvalidation_1-auc:0.746576\n",
      "[61]\tvalidation_0-auc:0.862258\tvalidation_1-auc:0.746442\n",
      "[62]\tvalidation_0-auc:0.862731\tvalidation_1-auc:0.746344\n",
      "[63]\tvalidation_0-auc:0.86366\tvalidation_1-auc:0.746462\n",
      "[64]\tvalidation_0-auc:0.864399\tvalidation_1-auc:0.746353\n",
      "[65]\tvalidation_0-auc:0.865072\tvalidation_1-auc:0.746441\n",
      "[66]\tvalidation_0-auc:0.865733\tvalidation_1-auc:0.746522\n",
      "[67]\tvalidation_0-auc:0.86622\tvalidation_1-auc:0.746463\n",
      "[68]\tvalidation_0-auc:0.866435\tvalidation_1-auc:0.746527\n",
      "[69]\tvalidation_0-auc:0.867475\tvalidation_1-auc:0.746469\n",
      "[70]\tvalidation_0-auc:0.867699\tvalidation_1-auc:0.746438\n",
      "[71]\tvalidation_0-auc:0.868432\tvalidation_1-auc:0.746332\n",
      "[72]\tvalidation_0-auc:0.868669\tvalidation_1-auc:0.746312\n",
      "[73]\tvalidation_0-auc:0.869229\tvalidation_1-auc:0.746321\n",
      "[74]\tvalidation_0-auc:0.869645\tvalidation_1-auc:0.746385\n",
      "[75]\tvalidation_0-auc:0.87021\tvalidation_1-auc:0.746187\n",
      "[76]\tvalidation_0-auc:0.871386\tvalidation_1-auc:0.746173\n",
      "[77]\tvalidation_0-auc:0.871867\tvalidation_1-auc:0.746223\n",
      "[78]\tvalidation_0-auc:0.872598\tvalidation_1-auc:0.746156\n",
      "[79]\tvalidation_0-auc:0.872669\tvalidation_1-auc:0.746183\n",
      "[80]\tvalidation_0-auc:0.873707\tvalidation_1-auc:0.74626\n",
      "[81]\tvalidation_0-auc:0.873803\tvalidation_1-auc:0.746231\n",
      "[82]\tvalidation_0-auc:0.873925\tvalidation_1-auc:0.746172\n",
      "[83]\tvalidation_0-auc:0.874423\tvalidation_1-auc:0.746065\n",
      "[84]\tvalidation_0-auc:0.875459\tvalidation_1-auc:0.745961\n",
      "[85]\tvalidation_0-auc:0.876655\tvalidation_1-auc:0.746064\n",
      "[86]\tvalidation_0-auc:0.877957\tvalidation_1-auc:0.746068\n",
      "[87]\tvalidation_0-auc:0.878203\tvalidation_1-auc:0.74603\n",
      "[88]\tvalidation_0-auc:0.879098\tvalidation_1-auc:0.746078\n",
      "[89]\tvalidation_0-auc:0.879307\tvalidation_1-auc:0.746033\n",
      "[90]\tvalidation_0-auc:0.879613\tvalidation_1-auc:0.746051\n",
      "[91]\tvalidation_0-auc:0.880505\tvalidation_1-auc:0.74618\n",
      "[92]\tvalidation_0-auc:0.881457\tvalidation_1-auc:0.746253\n",
      "[93]\tvalidation_0-auc:0.881937\tvalidation_1-auc:0.746425\n",
      "[94]\tvalidation_0-auc:0.882173\tvalidation_1-auc:0.746444\n",
      "[95]\tvalidation_0-auc:0.882326\tvalidation_1-auc:0.746396\n",
      "[96]\tvalidation_0-auc:0.882498\tvalidation_1-auc:0.74642\n",
      "[97]\tvalidation_0-auc:0.883239\tvalidation_1-auc:0.746381\n",
      "[98]\tvalidation_0-auc:0.883471\tvalidation_1-auc:0.746249\n",
      "[99]\tvalidation_0-auc:0.883845\tvalidation_1-auc:0.746098\n",
      "[100]\tvalidation_0-auc:0.884082\tvalidation_1-auc:0.746095\n",
      "[101]\tvalidation_0-auc:0.884163\tvalidation_1-auc:0.746031\n",
      "[102]\tvalidation_0-auc:0.88422\tvalidation_1-auc:0.746029\n",
      "[103]\tvalidation_0-auc:0.884906\tvalidation_1-auc:0.746043\n",
      "[104]\tvalidation_0-auc:0.885747\tvalidation_1-auc:0.74577\n",
      "[105]\tvalidation_0-auc:0.8863\tvalidation_1-auc:0.745881\n",
      "[106]\tvalidation_0-auc:0.887298\tvalidation_1-auc:0.745885\n",
      "[107]\tvalidation_0-auc:0.88781\tvalidation_1-auc:0.745889\n",
      "[108]\tvalidation_0-auc:0.888821\tvalidation_1-auc:0.745904\n",
      "[109]\tvalidation_0-auc:0.889342\tvalidation_1-auc:0.745814\n",
      "[110]\tvalidation_0-auc:0.889943\tvalidation_1-auc:0.745897\n",
      "[111]\tvalidation_0-auc:0.891229\tvalidation_1-auc:0.745459\n",
      "[112]\tvalidation_0-auc:0.892381\tvalidation_1-auc:0.745423\n",
      "[113]\tvalidation_0-auc:0.89251\tvalidation_1-auc:0.745353\n",
      "[114]\tvalidation_0-auc:0.892645\tvalidation_1-auc:0.745344\n",
      "[115]\tvalidation_0-auc:0.892947\tvalidation_1-auc:0.745313\n",
      "[116]\tvalidation_0-auc:0.893612\tvalidation_1-auc:0.745288\n",
      "[117]\tvalidation_0-auc:0.894667\tvalidation_1-auc:0.745294\n",
      "[118]\tvalidation_0-auc:0.894853\tvalidation_1-auc:0.745262\n",
      "[119]\tvalidation_0-auc:0.894985\tvalidation_1-auc:0.74526\n",
      "[120]\tvalidation_0-auc:0.895107\tvalidation_1-auc:0.745287\n",
      "[121]\tvalidation_0-auc:0.895787\tvalidation_1-auc:0.745386\n",
      "[122]\tvalidation_0-auc:0.896611\tvalidation_1-auc:0.745496\n",
      "[123]\tvalidation_0-auc:0.897448\tvalidation_1-auc:0.74565\n",
      "[124]\tvalidation_0-auc:0.898428\tvalidation_1-auc:0.745659\n",
      "[125]\tvalidation_0-auc:0.899063\tvalidation_1-auc:0.745469\n",
      "[126]\tvalidation_0-auc:0.89982\tvalidation_1-auc:0.74554\n",
      "[127]\tvalidation_0-auc:0.899973\tvalidation_1-auc:0.745495\n",
      "[128]\tvalidation_0-auc:0.900056\tvalidation_1-auc:0.745526\n",
      "[129]\tvalidation_0-auc:0.900175\tvalidation_1-auc:0.745505\n",
      "[130]\tvalidation_0-auc:0.90042\tvalidation_1-auc:0.745481\n",
      "[131]\tvalidation_0-auc:0.90069\tvalidation_1-auc:0.745502\n",
      "[132]\tvalidation_0-auc:0.901315\tvalidation_1-auc:0.745226\n",
      "[133]\tvalidation_0-auc:0.901657\tvalidation_1-auc:0.745113\n",
      "[134]\tvalidation_0-auc:0.901722\tvalidation_1-auc:0.745137\n",
      "[135]\tvalidation_0-auc:0.902804\tvalidation_1-auc:0.745073\n",
      "[136]\tvalidation_0-auc:0.903429\tvalidation_1-auc:0.745049\n",
      "[137]\tvalidation_0-auc:0.903879\tvalidation_1-auc:0.744799\n",
      "[138]\tvalidation_0-auc:0.904009\tvalidation_1-auc:0.744754\n",
      "[139]\tvalidation_0-auc:0.904312\tvalidation_1-auc:0.744603\n",
      "[140]\tvalidation_0-auc:0.904664\tvalidation_1-auc:0.744552\n",
      "[141]\tvalidation_0-auc:0.90506\tvalidation_1-auc:0.744479\n",
      "[142]\tvalidation_0-auc:0.905558\tvalidation_1-auc:0.744362\n",
      "[143]\tvalidation_0-auc:0.905725\tvalidation_1-auc:0.744383\n",
      "[144]\tvalidation_0-auc:0.906095\tvalidation_1-auc:0.744262\n",
      "[145]\tvalidation_0-auc:0.90618\tvalidation_1-auc:0.744225\n",
      "[146]\tvalidation_0-auc:0.906627\tvalidation_1-auc:0.744335\n",
      "[147]\tvalidation_0-auc:0.907566\tvalidation_1-auc:0.744205\n",
      "[148]\tvalidation_0-auc:0.90808\tvalidation_1-auc:0.744276\n",
      "[149]\tvalidation_0-auc:0.908778\tvalidation_1-auc:0.744196\n",
      "Stopping. Best iteration:\n",
      "[49]\tvalidation_0-auc:0.85297\tvalidation_1-auc:0.746896\n",
      "\n"
     ]
    },
    {
     "data": {
      "text/plain": [
       "XGBClassifier(base_score=0.5, booster='gbtree', colsample_bylevel=1,\n",
       "       colsample_bytree=1, gamma=0, learning_rate=0.1, max_delta_step=0,\n",
       "       max_depth=7, min_child_weight=2, missing=None, n_estimators=1000,\n",
       "       n_jobs=1, nthread=None, objective='binary:logistic', random_state=0,\n",
       "       reg_alpha=0, reg_lambda=1, scale_pos_weight=1, seed=None, silent=0,\n",
       "       subsample=1)"
      ]
     },
     "execution_count": 84,
     "metadata": {},
     "output_type": "execute_result"
    }
   ],
   "source": [
    "# specify parameters via map\n",
    "xgb_classifier = xgb.XGBClassifier(max_depth=7, learning_rate=0.1, n_estimators=1000, \n",
    "                                   silent=0, objective='binary:logistic', booster='gbtree', \n",
    "                                   n_jobs=1, nthread=None, gamma=0, min_child_weight=2, max_delta_step=0, subsample=1, \n",
    "                                   colsample_bytree=1, colsample_bylevel=1, reg_alpha=0, \n",
    "                                   reg_lambda=1, scale_pos_weight=1, \n",
    "                                   base_score=0.5, random_state=0, seed=None, missing=None)\n",
    "\n",
    "xgb_classifier.fit(selected_trainM, selected_trainL, \n",
    "                         eval_set=[(selected_trainM, selected_trainL), (dev_datamatrix, dev_datasetL)],\n",
    "                         early_stopping_rounds=100, eval_metric=\"auc\")"
   ]
  },
  {
   "cell_type": "code",
   "execution_count": 85,
   "metadata": {
    "collapsed": false
   },
   "outputs": [
    {
     "name": "stderr",
     "output_type": "stream",
     "text": [
      "/home/xueyunzhe/anaconda3/lib/python3.5/site-packages/sklearn/preprocessing/label.py:151: DeprecationWarning: The truth value of an empty array is ambiguous. Returning False, but in future this will result in an error. Use `array.size > 0` to check that an array is not empty.\n",
      "  if diff:\n"
     ]
    },
    {
     "name": "stdout",
     "output_type": "stream",
     "text": [
      "             precision    recall  f1-score   support\n",
      "\n",
      "          0       0.92      0.57      0.70     16751\n",
      "          1       0.28      0.77      0.42      3744\n",
      "\n",
      "avg / total       0.80      0.60      0.65     20495\n",
      "\n"
     ]
    }
   ],
   "source": [
    "# make prediction\n",
    "preds = xgb_classifier.predict(dev_datamatrix)\n",
    "\n",
    "pred_label = preds >= 0.5\n",
    "pred_label = pred_label.astype(int)\n",
    "from sklearn.metrics import classification_report\n",
    "print(classification_report(dev_datasetL, pred_label))"
   ]
  },
  {
   "cell_type": "code",
   "execution_count": 86,
   "metadata": {
    "collapsed": true
   },
   "outputs": [],
   "source": [
    "pickle.dump(bst, open(\"../data/m_result/1_1_ratio_xgboost.model\", \"wb\"), 2)"
   ]
  },
  {
   "cell_type": "code",
   "execution_count": null,
   "metadata": {
    "collapsed": true
   },
   "outputs": [],
   "source": []
  }
 ],
 "metadata": {
  "anaconda-cloud": {},
  "kernelspec": {
   "display_name": "Python [conda env:anaconda3]",
   "language": "python",
   "name": "conda-env-anaconda3-py"
  },
  "language_info": {
   "codemirror_mode": {
    "name": "ipython",
    "version": 3
   },
   "file_extension": ".py",
   "mimetype": "text/x-python",
   "name": "python",
   "nbconvert_exporter": "python",
   "pygments_lexer": "ipython3",
   "version": "3.5.2"
  }
 },
 "nbformat": 4,
 "nbformat_minor": 2
}
