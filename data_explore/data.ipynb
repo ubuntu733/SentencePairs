{
 "cells": [
  {
   "cell_type": "code",
   "execution_count": 2,
   "metadata": {
    "collapsed": true
   },
   "outputs": [],
   "source": [
    "import jieba\n",
    "import pandas as pd\n",
    "import sklearn\n",
    "import numpy as np"
   ]
  },
  {
   "cell_type": "code",
   "execution_count": 3,
   "metadata": {
    "collapsed": false
   },
   "outputs": [],
   "source": [
    "data = pd.read_csv(\"../data/atec_nlp_sim_train.csv\", encoding=\"utf-8\", delimiter=\"\\t\", header=None)"
   ]
  },
  {
   "cell_type": "code",
   "execution_count": 4,
   "metadata": {
    "collapsed": true
   },
   "outputs": [],
   "source": [
    "data_add = pd.read_csv(\"../data/atec_nlp_sim_train_add.csv\", encoding=\"utf-8\", delimiter=\"\\t\", header=None)"
   ]
  },
  {
   "cell_type": "code",
   "execution_count": 5,
   "metadata": {
    "collapsed": false
   },
   "outputs": [
    {
     "name": "stdout",
     "output_type": "stream",
     "text": [
      "(63131, 4)\n"
     ]
    },
    {
     "data": {
      "text/html": [
       "<div>\n",
       "<table border=\"1\" class=\"dataframe\">\n",
       "  <thead>\n",
       "    <tr style=\"text-align: right;\">\n",
       "      <th></th>\n",
       "      <th>0</th>\n",
       "      <th>1</th>\n",
       "      <th>2</th>\n",
       "      <th>3</th>\n",
       "    </tr>\n",
       "  </thead>\n",
       "  <tbody>\n",
       "    <tr>\n",
       "      <th>0</th>\n",
       "      <td>1</td>\n",
       "      <td>为何我无法申请开通花呗信用卡收款</td>\n",
       "      <td>支付宝开通信用卡花呗收款不符合条件怎么回事</td>\n",
       "      <td>1</td>\n",
       "    </tr>\n",
       "    <tr>\n",
       "      <th>1</th>\n",
       "      <td>2</td>\n",
       "      <td>花呗分期付款会影响使用吗</td>\n",
       "      <td>花呗分期有什么影响吗</td>\n",
       "      <td>0</td>\n",
       "    </tr>\n",
       "  </tbody>\n",
       "</table>\n",
       "</div>"
      ],
      "text/plain": [
       "   0                 1                      2  3\n",
       "0  1  为何我无法申请开通花呗信用卡收款  支付宝开通信用卡花呗收款不符合条件怎么回事  1\n",
       "1  2      花呗分期付款会影响使用吗             花呗分期有什么影响吗  0"
      ]
     },
     "execution_count": 5,
     "metadata": {},
     "output_type": "execute_result"
    }
   ],
   "source": [
    "print(data_add.shape)\n",
    "data_add.head(2)"
   ]
  },
  {
   "cell_type": "code",
   "execution_count": 6,
   "metadata": {
    "collapsed": false
   },
   "outputs": [
    {
     "name": "stdout",
     "output_type": "stream",
     "text": [
      "(39346, 4)\n"
     ]
    },
    {
     "data": {
      "text/html": [
       "<div>\n",
       "<table border=\"1\" class=\"dataframe\">\n",
       "  <thead>\n",
       "    <tr style=\"text-align: right;\">\n",
       "      <th></th>\n",
       "      <th>0</th>\n",
       "      <th>1</th>\n",
       "      <th>2</th>\n",
       "      <th>3</th>\n",
       "    </tr>\n",
       "  </thead>\n",
       "  <tbody>\n",
       "    <tr>\n",
       "      <th>0</th>\n",
       "      <td>﻿1</td>\n",
       "      <td>﻿怎么更改花呗手机号码</td>\n",
       "      <td>我的花呗是以前的手机号码，怎么更改成现在的支付宝的号码手机号</td>\n",
       "      <td>1</td>\n",
       "    </tr>\n",
       "    <tr>\n",
       "      <th>1</th>\n",
       "      <td>2</td>\n",
       "      <td>也开不了花呗，就这样了？完事了</td>\n",
       "      <td>真的嘛？就是花呗付款</td>\n",
       "      <td>0</td>\n",
       "    </tr>\n",
       "  </tbody>\n",
       "</table>\n",
       "</div>"
      ],
      "text/plain": [
       "    0                1                               2  3\n",
       "0  ﻿1      ﻿怎么更改花呗手机号码  我的花呗是以前的手机号码，怎么更改成现在的支付宝的号码手机号  1\n",
       "1   2  也开不了花呗，就这样了？完事了                      真的嘛？就是花呗付款  0"
      ]
     },
     "execution_count": 6,
     "metadata": {},
     "output_type": "execute_result"
    }
   ],
   "source": [
    "print(data.shape)\n",
    "data.head(2)"
   ]
  },
  {
   "cell_type": "code",
   "execution_count": 7,
   "metadata": {
    "collapsed": false
   },
   "outputs": [
    {
     "name": "stdout",
     "output_type": "stream",
     "text": [
      "(102477, 4)\n"
     ]
    },
    {
     "data": {
      "text/html": [
       "<div>\n",
       "<table border=\"1\" class=\"dataframe\">\n",
       "  <thead>\n",
       "    <tr style=\"text-align: right;\">\n",
       "      <th></th>\n",
       "      <th>0</th>\n",
       "      <th>1</th>\n",
       "      <th>2</th>\n",
       "      <th>3</th>\n",
       "    </tr>\n",
       "  </thead>\n",
       "  <tbody>\n",
       "    <tr>\n",
       "      <th>0</th>\n",
       "      <td>﻿1</td>\n",
       "      <td>﻿怎么更改花呗手机号码</td>\n",
       "      <td>我的花呗是以前的手机号码，怎么更改成现在的支付宝的号码手机号</td>\n",
       "      <td>1</td>\n",
       "    </tr>\n",
       "    <tr>\n",
       "      <th>1</th>\n",
       "      <td>2</td>\n",
       "      <td>也开不了花呗，就这样了？完事了</td>\n",
       "      <td>真的嘛？就是花呗付款</td>\n",
       "      <td>0</td>\n",
       "    </tr>\n",
       "  </tbody>\n",
       "</table>\n",
       "</div>"
      ],
      "text/plain": [
       "    0                1                               2  3\n",
       "0  ﻿1      ﻿怎么更改花呗手机号码  我的花呗是以前的手机号码，怎么更改成现在的支付宝的号码手机号  1\n",
       "1   2  也开不了花呗，就这样了？完事了                      真的嘛？就是花呗付款  0"
      ]
     },
     "execution_count": 7,
     "metadata": {},
     "output_type": "execute_result"
    }
   ],
   "source": [
    "data = pd.concat([data, data_add])\n",
    "\n",
    "print(data.shape)\n",
    "data.head(2)"
   ]
  },
  {
   "cell_type": "code",
   "execution_count": 8,
   "metadata": {
    "collapsed": false
   },
   "outputs": [],
   "source": [
    "data.columns = [\"sent_id\", \"sent_1\", \"sent_2\", \"label\"]\n",
    "data = data[[\"sent_1\", \"sent_2\", \"label\"]]"
   ]
  },
  {
   "cell_type": "code",
   "execution_count": 9,
   "metadata": {
    "collapsed": false
   },
   "outputs": [],
   "source": [
    "data.index = list(range(data.shape[0]))"
   ]
  },
  {
   "cell_type": "code",
   "execution_count": 63,
   "metadata": {
    "collapsed": true
   },
   "outputs": [],
   "source": [
    "data.to_csv(\"../data/sim_train.csv\", sep=\"\\t\")"
   ]
  },
  {
   "cell_type": "code",
   "execution_count": 64,
   "metadata": {
    "collapsed": false
   },
   "outputs": [
    {
     "data": {
      "text/html": [
       "<div>\n",
       "<table border=\"1\" class=\"dataframe\">\n",
       "  <thead>\n",
       "    <tr style=\"text-align: right;\">\n",
       "      <th></th>\n",
       "      <th>sent_1</th>\n",
       "      <th>sent_2</th>\n",
       "      <th>label</th>\n",
       "    </tr>\n",
       "  </thead>\n",
       "  <tbody>\n",
       "    <tr>\n",
       "      <th>0</th>\n",
       "      <td>﻿怎么更改花呗手机号码</td>\n",
       "      <td>我的花呗是以前的手机号码，怎么更改成现在的支付宝的号码手机号</td>\n",
       "      <td>1</td>\n",
       "    </tr>\n",
       "    <tr>\n",
       "      <th>1</th>\n",
       "      <td>也开不了花呗，就这样了？完事了</td>\n",
       "      <td>真的嘛？就是花呗付款</td>\n",
       "      <td>0</td>\n",
       "    </tr>\n",
       "  </tbody>\n",
       "</table>\n",
       "</div>"
      ],
      "text/plain": [
       "            sent_1                          sent_2  label\n",
       "0      ﻿怎么更改花呗手机号码  我的花呗是以前的手机号码，怎么更改成现在的支付宝的号码手机号      1\n",
       "1  也开不了花呗，就这样了？完事了                      真的嘛？就是花呗付款      0"
      ]
     },
     "execution_count": 64,
     "metadata": {},
     "output_type": "execute_result"
    }
   ],
   "source": [
    "data.head(2)"
   ]
  },
  {
   "cell_type": "code",
   "execution_count": 65,
   "metadata": {
    "collapsed": false
   },
   "outputs": [
    {
     "name": "stdout",
     "output_type": "stream",
     "text": [
      "(18685, 3)\n"
     ]
    },
    {
     "data": {
      "text/html": [
       "<div>\n",
       "<table border=\"1\" class=\"dataframe\">\n",
       "  <thead>\n",
       "    <tr style=\"text-align: right;\">\n",
       "      <th></th>\n",
       "      <th>sent_1</th>\n",
       "      <th>sent_2</th>\n",
       "      <th>label</th>\n",
       "    </tr>\n",
       "  </thead>\n",
       "  <tbody>\n",
       "    <tr>\n",
       "      <th>0</th>\n",
       "      <td>﻿怎么更改花呗手机号码</td>\n",
       "      <td>我的花呗是以前的手机号码，怎么更改成现在的支付宝的号码手机号</td>\n",
       "      <td>1</td>\n",
       "    </tr>\n",
       "    <tr>\n",
       "      <th>15</th>\n",
       "      <td>花呗的安全没有验证成功</td>\n",
       "      <td>花呗安全验证没通过怎么回事</td>\n",
       "      <td>1</td>\n",
       "    </tr>\n",
       "    <tr>\n",
       "      <th>17</th>\n",
       "      <td>借呗还款了，额度未恢复</td>\n",
       "      <td>借呗还款后额度没有恢复还显示借款</td>\n",
       "      <td>1</td>\n",
       "    </tr>\n",
       "    <tr>\n",
       "      <th>21</th>\n",
       "      <td>闲鱼可以使用花呗吗</td>\n",
       "      <td>花呗可以在闲鱼上面交易吗</td>\n",
       "      <td>1</td>\n",
       "    </tr>\n",
       "    <tr>\n",
       "      <th>24</th>\n",
       "      <td>花呗更改绑定银行卡</td>\n",
       "      <td>如何更换花呗绑定银行卡</td>\n",
       "      <td>1</td>\n",
       "    </tr>\n",
       "    <tr>\n",
       "      <th>31</th>\n",
       "      <td>花呗***期免息</td>\n",
       "      <td>蚂蚁花呗***期免息什么意思</td>\n",
       "      <td>1</td>\n",
       "    </tr>\n",
       "    <tr>\n",
       "      <th>33</th>\n",
       "      <td>开通花呗不用的话会有费用吗</td>\n",
       "      <td>开通花呗不用，会不会产生费用</td>\n",
       "      <td>1</td>\n",
       "    </tr>\n",
       "    <tr>\n",
       "      <th>41</th>\n",
       "      <td>我蚂蚁借呗放款没有到账</td>\n",
       "      <td>借呗还款为什么没有到帐</td>\n",
       "      <td>1</td>\n",
       "    </tr>\n",
       "    <tr>\n",
       "      <th>47</th>\n",
       "      <td>花呗怎么付款不鸟了</td>\n",
       "      <td>帮忙看一下我花呗怎么用不了</td>\n",
       "      <td>1</td>\n",
       "    </tr>\n",
       "    <tr>\n",
       "      <th>57</th>\n",
       "      <td>支付宝花呗分期还款怎么提前还清</td>\n",
       "      <td>蚂蚁花呗分期付款可以全部提前还款吗</td>\n",
       "      <td>1</td>\n",
       "    </tr>\n",
       "    <tr>\n",
       "      <th>58</th>\n",
       "      <td>注销了一个花呗账号，新账号是否还能再开通花呗了</td>\n",
       "      <td>把以前的帐号注销，现在这个能开通花呗吗</td>\n",
       "      <td>1</td>\n",
       "    </tr>\n",
       "    <tr>\n",
       "      <th>61</th>\n",
       "      <td>为何蚂蚁借呗不能使用了</td>\n",
       "      <td>我的借呗***年能有***年怎么不能用了</td>\n",
       "      <td>1</td>\n",
       "    </tr>\n",
       "    <tr>\n",
       "      <th>63</th>\n",
       "      <td>用了这么久的支付宝也不给开通借呗，哼</td>\n",
       "      <td>我用支付宝三四年了也不见给我开通借呗</td>\n",
       "      <td>1</td>\n",
       "    </tr>\n",
       "    <tr>\n",
       "      <th>66</th>\n",
       "      <td>蚂蚁借呗的额度为什么会下降</td>\n",
       "      <td>为什么借呗额度被降低了，没有不良记录</td>\n",
       "      <td>1</td>\n",
       "    </tr>\n",
       "    <tr>\n",
       "      <th>73</th>\n",
       "      <td>我***月份花呗消费是***元，怎么要我还***元</td>\n",
       "      <td>我原本这个月总的花呗需要还***元，我还了一次***，又还了一个***，剩余的应该是***，...</td>\n",
       "      <td>1</td>\n",
       "    </tr>\n",
       "    <tr>\n",
       "      <th>87</th>\n",
       "      <td>怎么花呗不能支付</td>\n",
       "      <td>花呗付款不了怎么回事</td>\n",
       "      <td>1</td>\n",
       "    </tr>\n",
       "    <tr>\n",
       "      <th>99</th>\n",
       "      <td>花呗支付可以使用购物津贴吗</td>\n",
       "      <td>使用购物津贴的费用可以用花呗吗</td>\n",
       "      <td>1</td>\n",
       "    </tr>\n",
       "    <tr>\n",
       "      <th>101</th>\n",
       "      <td>为什么每个人的借呗日息不一样</td>\n",
       "      <td>为什么借呗利息有的高有的底</td>\n",
       "      <td>1</td>\n",
       "    </tr>\n",
       "    <tr>\n",
       "      <th>108</th>\n",
       "      <td>怎么开通，花呗收款</td>\n",
       "      <td>怎么注册可以花呗收钱的</td>\n",
       "      <td>1</td>\n",
       "    </tr>\n",
       "    <tr>\n",
       "      <th>109</th>\n",
       "      <td>我的花呗怎么用这用这不让用了</td>\n",
       "      <td>我花呗为什么不能用了</td>\n",
       "      <td>1</td>\n",
       "    </tr>\n",
       "  </tbody>\n",
       "</table>\n",
       "</div>"
      ],
      "text/plain": [
       "                        sent_1  \\\n",
       "0                  ﻿怎么更改花呗手机号码   \n",
       "15                 花呗的安全没有验证成功   \n",
       "17                 借呗还款了，额度未恢复   \n",
       "21                   闲鱼可以使用花呗吗   \n",
       "24                   花呗更改绑定银行卡   \n",
       "31                    花呗***期免息   \n",
       "33               开通花呗不用的话会有费用吗   \n",
       "41                 我蚂蚁借呗放款没有到账   \n",
       "47                   花呗怎么付款不鸟了   \n",
       "57             支付宝花呗分期还款怎么提前还清   \n",
       "58     注销了一个花呗账号，新账号是否还能再开通花呗了   \n",
       "61                 为何蚂蚁借呗不能使用了   \n",
       "63          用了这么久的支付宝也不给开通借呗，哼   \n",
       "66               蚂蚁借呗的额度为什么会下降   \n",
       "73   我***月份花呗消费是***元，怎么要我还***元   \n",
       "87                    怎么花呗不能支付   \n",
       "99               花呗支付可以使用购物津贴吗   \n",
       "101             为什么每个人的借呗日息不一样   \n",
       "108                  怎么开通，花呗收款   \n",
       "109             我的花呗怎么用这用这不让用了   \n",
       "\n",
       "                                                sent_2  label  \n",
       "0                       我的花呗是以前的手机号码，怎么更改成现在的支付宝的号码手机号      1  \n",
       "15                                       花呗安全验证没通过怎么回事      1  \n",
       "17                                    借呗还款后额度没有恢复还显示借款      1  \n",
       "21                                        花呗可以在闲鱼上面交易吗      1  \n",
       "24                                         如何更换花呗绑定银行卡      1  \n",
       "31                                      蚂蚁花呗***期免息什么意思      1  \n",
       "33                                      开通花呗不用，会不会产生费用      1  \n",
       "41                                         借呗还款为什么没有到帐      1  \n",
       "47                                       帮忙看一下我花呗怎么用不了      1  \n",
       "57                                   蚂蚁花呗分期付款可以全部提前还款吗      1  \n",
       "58                                 把以前的帐号注销，现在这个能开通花呗吗      1  \n",
       "61                                我的借呗***年能有***年怎么不能用了      1  \n",
       "63                                  我用支付宝三四年了也不见给我开通借呗      1  \n",
       "66                                  为什么借呗额度被降低了，没有不良记录      1  \n",
       "73   我原本这个月总的花呗需要还***元，我还了一次***，又还了一个***，剩余的应该是***，...      1  \n",
       "87                                          花呗付款不了怎么回事      1  \n",
       "99                                     使用购物津贴的费用可以用花呗吗      1  \n",
       "101                                      为什么借呗利息有的高有的底      1  \n",
       "108                                        怎么注册可以花呗收钱的      1  \n",
       "109                                         我花呗为什么不能用了      1  "
      ]
     },
     "execution_count": 65,
     "metadata": {},
     "output_type": "execute_result"
    }
   ],
   "source": [
    "positive_data = data[data[\"label\"] == 1]\n",
    "\n",
    "print(positive_data.shape)\n",
    "positive_data.head(20)"
   ]
  },
  {
   "cell_type": "code",
   "execution_count": 66,
   "metadata": {
    "collapsed": false
   },
   "outputs": [
    {
     "name": "stdout",
     "output_type": "stream",
     "text": [
      "(83792, 3)\n"
     ]
    },
    {
     "data": {
      "text/html": [
       "<div>\n",
       "<table border=\"1\" class=\"dataframe\">\n",
       "  <thead>\n",
       "    <tr style=\"text-align: right;\">\n",
       "      <th></th>\n",
       "      <th>sent_1</th>\n",
       "      <th>sent_2</th>\n",
       "      <th>label</th>\n",
       "    </tr>\n",
       "  </thead>\n",
       "  <tbody>\n",
       "    <tr>\n",
       "      <th>1</th>\n",
       "      <td>也开不了花呗，就这样了？完事了</td>\n",
       "      <td>真的嘛？就是花呗付款</td>\n",
       "      <td>0</td>\n",
       "    </tr>\n",
       "    <tr>\n",
       "      <th>2</th>\n",
       "      <td>花呗冻结以后还能开通吗</td>\n",
       "      <td>我的条件可以开通花呗借款吗</td>\n",
       "      <td>0</td>\n",
       "    </tr>\n",
       "    <tr>\n",
       "      <th>3</th>\n",
       "      <td>如何得知关闭借呗</td>\n",
       "      <td>想永久关闭借呗</td>\n",
       "      <td>0</td>\n",
       "    </tr>\n",
       "    <tr>\n",
       "      <th>4</th>\n",
       "      <td>花呗扫码付钱</td>\n",
       "      <td>二维码扫描可以用花呗吗</td>\n",
       "      <td>0</td>\n",
       "    </tr>\n",
       "    <tr>\n",
       "      <th>5</th>\n",
       "      <td>花呗逾期后不能分期吗</td>\n",
       "      <td>我这个 逾期后还完了 最低还款 后 能分期吗</td>\n",
       "      <td>0</td>\n",
       "    </tr>\n",
       "    <tr>\n",
       "      <th>6</th>\n",
       "      <td>花呗分期清空</td>\n",
       "      <td>花呗分期查询</td>\n",
       "      <td>0</td>\n",
       "    </tr>\n",
       "    <tr>\n",
       "      <th>7</th>\n",
       "      <td>借呗逾期短信通知</td>\n",
       "      <td>如何购买花呗短信通知</td>\n",
       "      <td>0</td>\n",
       "    </tr>\n",
       "    <tr>\n",
       "      <th>8</th>\n",
       "      <td>借呗即将到期要还的账单还能分期吗</td>\n",
       "      <td>借呗要分期还，是吗</td>\n",
       "      <td>0</td>\n",
       "    </tr>\n",
       "    <tr>\n",
       "      <th>9</th>\n",
       "      <td>花呗为什么不能支付手机交易</td>\n",
       "      <td>花呗透支了为什么不可以继续用了</td>\n",
       "      <td>0</td>\n",
       "    </tr>\n",
       "    <tr>\n",
       "      <th>10</th>\n",
       "      <td>在吗，双***有临时花呗额度吗</td>\n",
       "      <td>花呗临时额度到时间怎么办</td>\n",
       "      <td>0</td>\n",
       "    </tr>\n",
       "    <tr>\n",
       "      <th>11</th>\n",
       "      <td>我什么时候开通了花呗</td>\n",
       "      <td>查我什么时候用过，花呗</td>\n",
       "      <td>0</td>\n",
       "    </tr>\n",
       "    <tr>\n",
       "      <th>12</th>\n",
       "      <td>花呗每月还了最低还款后还会有万分之五的利息吗</td>\n",
       "      <td>花呗每个月最低还款怎么算</td>\n",
       "      <td>0</td>\n",
       "    </tr>\n",
       "    <tr>\n",
       "      <th>13</th>\n",
       "      <td>我想用蚂蚁借呗怎么用不了</td>\n",
       "      <td>蚂蚁借呗设置了一次性还款，现在想分期还款，怎么操作</td>\n",
       "      <td>0</td>\n",
       "    </tr>\n",
       "    <tr>\n",
       "      <th>14</th>\n",
       "      <td>花呗也不能用了</td>\n",
       "      <td>花呗没用过</td>\n",
       "      <td>0</td>\n",
       "    </tr>\n",
       "    <tr>\n",
       "      <th>16</th>\n",
       "      <td>我开通不了借呗</td>\n",
       "      <td>我要申请借呗</td>\n",
       "      <td>0</td>\n",
       "    </tr>\n",
       "    <tr>\n",
       "      <th>18</th>\n",
       "      <td>就是我花呗忘记还款了。逾期一天。有事吗</td>\n",
       "      <td>花呗账单在到期当天还款是逾期吗</td>\n",
       "      <td>0</td>\n",
       "    </tr>\n",
       "    <tr>\n",
       "      <th>19</th>\n",
       "      <td>我问你我借呗怎么要还钱</td>\n",
       "      <td>怎么一次性还蚂蚁借呗</td>\n",
       "      <td>0</td>\n",
       "    </tr>\n",
       "    <tr>\n",
       "      <th>20</th>\n",
       "      <td>是否有花呗就不可以借呗</td>\n",
       "      <td>不实用花呗就没有借呗吗</td>\n",
       "      <td>0</td>\n",
       "    </tr>\n",
       "    <tr>\n",
       "      <th>22</th>\n",
       "      <td>花呗可以买手机吗</td>\n",
       "      <td>花呗逾期一天可以么</td>\n",
       "      <td>0</td>\n",
       "    </tr>\n",
       "    <tr>\n",
       "      <th>23</th>\n",
       "      <td>借呗每月还款时间</td>\n",
       "      <td>借呗多少天还款</td>\n",
       "      <td>0</td>\n",
       "    </tr>\n",
       "  </tbody>\n",
       "</table>\n",
       "</div>"
      ],
      "text/plain": [
       "                    sent_1                     sent_2  label\n",
       "1          也开不了花呗，就这样了？完事了                 真的嘛？就是花呗付款      0\n",
       "2              花呗冻结以后还能开通吗              我的条件可以开通花呗借款吗      0\n",
       "3                 如何得知关闭借呗                    想永久关闭借呗      0\n",
       "4                   花呗扫码付钱                二维码扫描可以用花呗吗      0\n",
       "5               花呗逾期后不能分期吗     我这个 逾期后还完了 最低还款 后 能分期吗      0\n",
       "6                   花呗分期清空                     花呗分期查询      0\n",
       "7                 借呗逾期短信通知                 如何购买花呗短信通知      0\n",
       "8         借呗即将到期要还的账单还能分期吗                  借呗要分期还，是吗      0\n",
       "9            花呗为什么不能支付手机交易            花呗透支了为什么不可以继续用了      0\n",
       "10         在吗，双***有临时花呗额度吗               花呗临时额度到时间怎么办      0\n",
       "11              我什么时候开通了花呗                查我什么时候用过，花呗      0\n",
       "12  花呗每月还了最低还款后还会有万分之五的利息吗               花呗每个月最低还款怎么算      0\n",
       "13            我想用蚂蚁借呗怎么用不了  蚂蚁借呗设置了一次性还款，现在想分期还款，怎么操作      0\n",
       "14                 花呗也不能用了                      花呗没用过      0\n",
       "16                 我开通不了借呗                     我要申请借呗      0\n",
       "18     就是我花呗忘记还款了。逾期一天。有事吗            花呗账单在到期当天还款是逾期吗      0\n",
       "19             我问你我借呗怎么要还钱                 怎么一次性还蚂蚁借呗      0\n",
       "20             是否有花呗就不可以借呗                不实用花呗就没有借呗吗      0\n",
       "22                花呗可以买手机吗                  花呗逾期一天可以么      0\n",
       "23                借呗每月还款时间                    借呗多少天还款      0"
      ]
     },
     "execution_count": 66,
     "metadata": {},
     "output_type": "execute_result"
    }
   ],
   "source": [
    "negtive_data = data[data[\"label\"] == 0]\n",
    "\n",
    "print(negtive_data.shape)\n",
    "negtive_data.head(20)"
   ]
  },
  {
   "cell_type": "code",
   "execution_count": 67,
   "metadata": {
    "collapsed": false
   },
   "outputs": [
    {
     "name": "stdout",
     "output_type": "stream",
     "text": [
      "Full Mode:  / 花呗/ 可以/ 付滴/ 车费/ 吗\n",
      "Default Mode:  / 花呗/ 可以/ 付/ 滴/ 车费/ 吗\n",
      "想要, 网商贷, 能, 不能, 切换, 回, 借呗\n",
      "我, 问, 你, 我, 借呗, 怎么, 要, 还, 钱\n"
     ]
    }
   ],
   "source": [
    "jieba.load_userdict(\"../data/dict\")\n",
    "\n",
    "seg_list = jieba.cut(\" 花呗可以付滴车费吗\")\n",
    "print(\"Full Mode: \" + \"/ \".join(seg_list))  # 全模式\n",
    "\n",
    "seg_list = jieba.cut(\" 花呗可以付滴车费吗\", HMM=False)\n",
    "print(\"Default Mode: \" + \"/ \".join(seg_list))  # 精确模式\n",
    "\n",
    "seg_list = jieba.cut(\"想要网商贷能不能切换回借呗\")  # 默认是精确模式\n",
    "print(\", \".join(seg_list))\n",
    "\n",
    "seg_list = jieba.cut_for_search(\"我问你我借呗怎么要还钱\")  # 搜索引擎模式\n",
    "print(\", \".join(seg_list))"
   ]
  },
  {
   "cell_type": "code",
   "execution_count": 74,
   "metadata": {
    "collapsed": true
   },
   "outputs": [],
   "source": [
    "import re\n",
    "\n",
    "def change_sentence(sentence):\n",
    "    # 去除标点符号\n",
    "    sentence = sentence.replace(\",\", \"\")\n",
    "    sentence = sentence.replace(\"，\", \"\")\n",
    "    sentence = sentence.replace(\".\", \"\")\n",
    "    sentence = sentence.replace(\"。\", \"\")\n",
    "    sentence = sentence.replace(\"?\", \"\")\n",
    "    sentence = sentence.replace(\"？\", \"\")\n",
    "    sentence = sentence.replace(\"!\", \"\")\n",
    "    \n",
    "    # 替换某些词语\n",
    "    sentence = sentence.replace(\"借贝\", \"借呗\")\n",
    "    sentence = sentence.replace(\"花贝\", \"花呗\")\n",
    "    sentence = sentence.replace(\"蚂蚁借呗\", \"借呗\")\n",
    "    sentence = sentence.replace(\"蚂蚁花呗\", \"花呗\")\n",
    "    sentence = sentence.replace(\"蚂蚁花呗\", \"花呗\")\n",
    "    sentence = sentence.replace(\"整么\", \"怎么\")\n",
    "    sentence = sentence.replace(\"冻解\", \"冻结\")\n",
    "    sentence = sentence.replace(\"撤掉\", \"撤销\")\n",
    "    sentence = sentence.replace(\"提额\", \"提高额度\")\n",
    "    sentence = sentence.replace(\"买机票\", \"订机票\")\n",
    "    \n",
    "    # 将***替换成N\n",
    "    sentence = re.sub(r'[*]+', \"N\", sentence)\n",
    "    \n",
    "    return sentence"
   ]
  },
  {
   "cell_type": "code",
   "execution_count": 75,
   "metadata": {
    "collapsed": false
   },
   "outputs": [],
   "source": [
    "data[\"sent_1\"] = data[\"sent_1\"].apply(lambda x: change_sentence(x))\n",
    "data[\"sent_2\"] = data[\"sent_2\"].apply(lambda x: change_sentence(x))\n",
    "\n",
    "data[\"sent_1_seg\"] = data[\"sent_1\"].apply(lambda x: \" \".join(jieba.cut(x, HMM=False)))\n",
    "data[\"sent_2_seg\"] = data[\"sent_2\"].apply(lambda x: \" \".join(jieba.cut(x, HMM=False)))"
   ]
  },
  {
   "cell_type": "code",
   "execution_count": 76,
   "metadata": {
    "collapsed": false
   },
   "outputs": [
    {
     "data": {
      "text/html": [
       "<div>\n",
       "<table border=\"1\" class=\"dataframe\">\n",
       "  <thead>\n",
       "    <tr style=\"text-align: right;\">\n",
       "      <th></th>\n",
       "      <th>label</th>\n",
       "      <th>sent_1_seg</th>\n",
       "      <th>sent_2_seg</th>\n",
       "    </tr>\n",
       "  </thead>\n",
       "  <tbody>\n",
       "    <tr>\n",
       "      <th>0</th>\n",
       "      <td>1</td>\n",
       "      <td>﻿ 怎么 更改 花呗 手机号码</td>\n",
       "      <td>我 的 花呗 是 以前 的 手机号码 怎么 更 改成 现在 的 支付宝 的 号码 手机号</td>\n",
       "    </tr>\n",
       "    <tr>\n",
       "      <th>1</th>\n",
       "      <td>0</td>\n",
       "      <td>也 开 不了 花呗 就 这样 了 完事 了</td>\n",
       "      <td>真的 嘛 就是 花呗 付款</td>\n",
       "    </tr>\n",
       "  </tbody>\n",
       "</table>\n",
       "</div>"
      ],
      "text/plain": [
       "   label             sent_1_seg                                    sent_2_seg\n",
       "0      1        ﻿ 怎么 更改 花呗 手机号码  我 的 花呗 是 以前 的 手机号码 怎么 更 改成 现在 的 支付宝 的 号码 手机号\n",
       "1      0  也 开 不了 花呗 就 这样 了 完事 了                                 真的 嘛 就是 花呗 付款"
      ]
     },
     "execution_count": 76,
     "metadata": {},
     "output_type": "execute_result"
    }
   ],
   "source": [
    "data_tfkdl = data[[\"label\", \"sent_1_seg\", \"sent_2_seg\"]]\n",
    "\n",
    "data_tfkdl.to_csv(\"../data/sim_train_seg_process.csv\", sep=\"\\t\", index =False, header=False)\n",
    "\n",
    "data_tfkdl.head(2)"
   ]
  },
  {
   "cell_type": "code",
   "execution_count": 77,
   "metadata": {
    "collapsed": false
   },
   "outputs": [
    {
     "data": {
      "text/html": [
       "<div>\n",
       "<table border=\"1\" class=\"dataframe\">\n",
       "  <thead>\n",
       "    <tr style=\"text-align: right;\">\n",
       "      <th></th>\n",
       "      <th>sent_1</th>\n",
       "      <th>sent_2</th>\n",
       "      <th>label</th>\n",
       "      <th>sent_1_seg</th>\n",
       "      <th>sent_2_seg</th>\n",
       "    </tr>\n",
       "  </thead>\n",
       "  <tbody>\n",
       "    <tr>\n",
       "      <th>0</th>\n",
       "      <td>﻿怎么更改花呗手机号码</td>\n",
       "      <td>我的花呗是以前的手机号码怎么更改成现在的支付宝的号码手机号</td>\n",
       "      <td>1</td>\n",
       "      <td>﻿ 怎么 更改 花呗 手机号码</td>\n",
       "      <td>我 的 花呗 是 以前 的 手机号码 怎么 更 改成 现在 的 支付宝 的 号码 手机号</td>\n",
       "    </tr>\n",
       "    <tr>\n",
       "      <th>1</th>\n",
       "      <td>也开不了花呗就这样了完事了</td>\n",
       "      <td>真的嘛就是花呗付款</td>\n",
       "      <td>0</td>\n",
       "      <td>也 开 不了 花呗 就 这样 了 完事 了</td>\n",
       "      <td>真的 嘛 就是 花呗 付款</td>\n",
       "    </tr>\n",
       "  </tbody>\n",
       "</table>\n",
       "</div>"
      ],
      "text/plain": [
       "          sent_1                         sent_2  label             sent_1_seg  \\\n",
       "0    ﻿怎么更改花呗手机号码  我的花呗是以前的手机号码怎么更改成现在的支付宝的号码手机号      1        ﻿ 怎么 更改 花呗 手机号码   \n",
       "1  也开不了花呗就这样了完事了                      真的嘛就是花呗付款      0  也 开 不了 花呗 就 这样 了 完事 了   \n",
       "\n",
       "                                     sent_2_seg  \n",
       "0  我 的 花呗 是 以前 的 手机号码 怎么 更 改成 现在 的 支付宝 的 号码 手机号  \n",
       "1                                 真的 嘛 就是 花呗 付款  "
      ]
     },
     "execution_count": 77,
     "metadata": {},
     "output_type": "execute_result"
    }
   ],
   "source": [
    "data.to_csv(\"../data/sim_train_seg.csv\", sep=\"\\t\")\n",
    "\n",
    "data.head(2)"
   ]
  },
  {
   "cell_type": "code",
   "execution_count": 78,
   "metadata": {
    "collapsed": true
   },
   "outputs": [],
   "source": [
    "from sklearn.feature_extraction.text import CountVectorizer\n",
    "\n",
    "def my_tokenizer(x):\n",
    "    return x.split()\n",
    "\n",
    "vectorizer = CountVectorizer(tokenizer=my_tokenizer) \n",
    "# Document-term matrix."
   ]
  },
  {
   "cell_type": "code",
   "execution_count": 79,
   "metadata": {
    "collapsed": false
   },
   "outputs": [
    {
     "name": "stdout",
     "output_type": "stream",
     "text": [
      "['也', '开', '不了', '花呗', '，', '就', '这样', '了', '？', '完事', '了']\n"
     ]
    },
    {
     "data": {
      "text/plain": [
       "True"
      ]
     },
     "execution_count": 79,
     "metadata": {},
     "output_type": "execute_result"
    }
   ],
   "source": [
    "\n",
    "analyze = vectorizer.build_analyzer()\n",
    "\n",
    "print(analyze(\"也 开 不了 花呗 ， 就 这样 了 ？ 完事 了\"))\n",
    "\n",
    "analyze(\"也 开 不了 花呗 ， 就 这样 了 ？ 完事 了\") == (\n",
    "     ['也', '开', '不了', '花呗', '，', '就', '这样', '了', '？', '完事', '了'])"
   ]
  }
 ],
 "metadata": {
  "anaconda-cloud": {},
  "kernelspec": {
   "display_name": "Python [default]",
   "language": "python",
   "name": "python3"
  },
  "language_info": {
   "codemirror_mode": {
    "name": "ipython",
    "version": 3
   },
   "file_extension": ".py",
   "mimetype": "text/x-python",
   "name": "python",
   "nbconvert_exporter": "python",
   "pygments_lexer": "ipython3",
   "version": "3.5.2"
  }
 },
 "nbformat": 4,
 "nbformat_minor": 2
}
