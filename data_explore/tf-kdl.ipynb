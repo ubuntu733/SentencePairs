{
 "cells": [
  {
   "cell_type": "code",
   "execution_count": 1,
   "metadata": {
    "collapsed": true
   },
   "outputs": [],
   "source": [
    "import jieba\n",
    "import pandas as pd\n",
    "import sklearn\n",
    "import numpy as np\n",
    "import scipy"
   ]
  },
  {
   "cell_type": "code",
   "execution_count": 13,
   "metadata": {
    "collapsed": true
   },
   "outputs": [],
   "source": [
    "train_tfkdl_matrix = np.load(\"../data/ori_data/tfkdl.train.matrix.npy\")\n",
    "train_tfkdl_ssp_matrix = scipy.sparse.csr_matrix(train_tfkdl_matrix)\n",
    "np.save(\"../data/ori_data/tfkdl.train.matrix.csr\", train_tfkdl_ssp_matrix)"
   ]
  },
  {
   "cell_type": "code",
   "execution_count": 19,
   "metadata": {
    "collapsed": false
   },
   "outputs": [
    {
     "name": "stdout",
     "output_type": "stream",
     "text": [
      "(163962, 7573)\n"
     ]
    }
   ],
   "source": [
    "print(train_tfkdl_ssp_matrix.shape)"
   ]
  },
  {
   "cell_type": "code",
   "execution_count": 15,
   "metadata": {
    "collapsed": true
   },
   "outputs": [],
   "source": [
    "dev_tfkdl_matrix = np.load(\"../data/ori_data/tfkdl.dev.matrix.npy\")\n",
    "dev_tfkdl_ssp_matrix = scipy.sparse.csr_matrix(dev_tfkdl_matrix)\n",
    "np.save(\"../data/ori_data/tfkdl.dev.matrix.csr\", dev_tfkdl_ssp_matrix)"
   ]
  },
  {
   "cell_type": "code",
   "execution_count": 18,
   "metadata": {
    "collapsed": false
   },
   "outputs": [
    {
     "name": "stdout",
     "output_type": "stream",
     "text": [
      "(40990, 7573)\n"
     ]
    }
   ],
   "source": [
    "print(dev_tfkdl_ssp_matrix.shape)"
   ]
  },
  {
   "cell_type": "code",
   "execution_count": 3,
   "metadata": {
    "collapsed": false
   },
   "outputs": [],
   "source": [
    "train_tfkdl_ssp_matrix = np.load(\"../data/ori_data/tfkdl.train.matrix.ssp.npy\")\n",
    "dev_tfkdl_ssp_matrix = np.load(\"../data/ori_data/tfkdl.dev.matrix.ssp.npy\")"
   ]
  },
  {
   "cell_type": "code",
   "execution_count": 16,
   "metadata": {
    "collapsed": false
   },
   "outputs": [],
   "source": [
    "from sklearn.decomposition import TruncatedSVD\n",
    "pca = TruncatedSVD(n_components=100, algorithm='randomized', n_iter=5, random_state=None, tol=0.0)\n",
    "\n",
    "pca_train_corpus = pca.fit_transform(train_tfkdl_ssp_matrix)"
   ]
  },
  {
   "cell_type": "code",
   "execution_count": 22,
   "metadata": {
    "collapsed": true
   },
   "outputs": [],
   "source": [
    "pca_dev_corpus = pca.transform(dev_tfkdl_ssp_matrix)"
   ]
  },
  {
   "cell_type": "code",
   "execution_count": 23,
   "metadata": {
    "collapsed": false
   },
   "outputs": [],
   "source": [
    "def make_matrix(datasetM):\n",
    "    \"\"\"\n",
    "    :param datasetM\n",
    "    \"\"\"\n",
    "    corpus_matrix = []\n",
    "    for index in range(datasetM.shape[0] // 2):\n",
    "        vector_sum = datasetM[index] + datasetM[datasetM.shape[0] // 2 + index]\n",
    "        vector_diff = abs(datasetM[index] - datasetM[datasetM.shape[0] // 2 + index])\n",
    "        \n",
    "        vector = np.concatenate((vector_sum, vector_diff))\n",
    "        \n",
    "        corpus_matrix.append(vector)\n",
    "    \n",
    "    return np.array(corpus_matrix)\n",
    "\n",
    "train_matrix = make_matrix(pca_train_corpus)\n",
    "dev_matrix = make_matrix(pca_dev_corpus)"
   ]
  },
  {
   "cell_type": "code",
   "execution_count": 26,
   "metadata": {
    "collapsed": false
   },
   "outputs": [],
   "source": [
    "import pickle\n",
    "pickle.dump(train_matrix, open(\"../data/ori_data/dr100.tfkdl.train.matrix\", \"wb\"), 2)\n",
    "pickle.dump(dev_matrix, open(\"../data/ori_data/dr100.tfkdl.dev.matrix\", \"wb\"), 2)"
   ]
  },
  {
   "cell_type": "code",
   "execution_count": null,
   "metadata": {
    "collapsed": true
   },
   "outputs": [],
   "source": []
  }
 ],
 "metadata": {
  "anaconda-cloud": {},
  "kernelspec": {
   "display_name": "Python [conda env:anaconda3]",
   "language": "python",
   "name": "conda-env-anaconda3-py"
  },
  "language_info": {
   "codemirror_mode": {
    "name": "ipython",
    "version": 3
   },
   "file_extension": ".py",
   "mimetype": "text/x-python",
   "name": "python",
   "nbconvert_exporter": "python",
   "pygments_lexer": "ipython3",
   "version": "3.5.2"
  }
 },
 "nbformat": 4,
 "nbformat_minor": 2
}
