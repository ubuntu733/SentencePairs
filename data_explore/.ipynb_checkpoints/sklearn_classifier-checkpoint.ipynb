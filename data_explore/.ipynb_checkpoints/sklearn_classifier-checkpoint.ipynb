{
 "cells": [
  {
   "cell_type": "code",
   "execution_count": 1,
   "metadata": {
    "collapsed": true
   },
   "outputs": [],
   "source": [
    "from sklearn.model_selection import RandomizedSearchCV\n",
    "from sklearn.model_selection import cross_validate\n",
    "import numpy as np\n",
    "import xgboost as xgb\n",
    "import pandas as pd"
   ]
  },
  {
   "cell_type": "code",
   "execution_count": 2,
   "metadata": {
    "collapsed": true
   },
   "outputs": [],
   "source": [
    "train_datasetL = pd.read_csv(\"../data/ori_data/train_process.csv\", header=None, sep=\"\\t\").iloc[:, 0].values\n",
    "dev_datasetL = pd.read_csv(\"../data/ori_data/dev_process.csv\", header=None, sep=\"\\t\").iloc[:, 0].values"
   ]
  },
  {
   "cell_type": "code",
   "execution_count": 3,
   "metadata": {
    "collapsed": true
   },
   "outputs": [],
   "source": [
    "train_datamatrix = np.load(\"../data/ori_data/train.featurematrix.data\")\n",
    "dev_datamatrix = np.load(\"../data/ori_data/dev.featurematrix.data\")"
   ]
  },
  {
   "cell_type": "code",
   "execution_count": 21,
   "metadata": {
    "collapsed": false
   },
   "outputs": [
    {
     "data": {
      "text/plain": [
       "RandomForestClassifier(bootstrap=True, class_weight='balanced',\n",
       "            criterion='gini', max_depth=None, max_features='auto',\n",
       "            max_leaf_nodes=None, min_impurity_decrease=0.0,\n",
       "            min_impurity_split=None, min_samples_leaf=1,\n",
       "            min_samples_split=2, min_weight_fraction_leaf=0.0,\n",
       "            n_estimators=10, n_jobs=1, oob_score=False, random_state=None,\n",
       "            verbose=0, warm_start=False)"
      ]
     },
     "execution_count": 21,
     "metadata": {},
     "output_type": "execute_result"
    }
   ],
   "source": [
    "from sklearn.ensemble import RandomForestClassifier\n",
    "\n",
    "randomforest_classifier = RandomForestClassifier(n_estimators=10, criterion='gini', max_depth=None, \n",
    "                                                 min_samples_split=2, min_samples_leaf=1, \n",
    "                                                 min_weight_fraction_leaf=0.0, max_features='auto', \n",
    "                                                 max_leaf_nodes=None, min_impurity_decrease=0.0, \n",
    "                                                 min_impurity_split=None, bootstrap=True, oob_score=False, n_jobs=1, \n",
    "                                                 random_state=None, verbose=0, warm_start=False, class_weight=\"balanced\")\n",
    "randomforest_classifier.fit(train_datamatrix, train_datasetL)"
   ]
  },
  {
   "cell_type": "code",
   "execution_count": 22,
   "metadata": {
    "collapsed": false
   },
   "outputs": [
    {
     "name": "stdout",
     "output_type": "stream",
     "text": [
      "             precision    recall  f1-score   support\n",
      "\n",
      "          0       0.83      0.97      0.90     16751\n",
      "          1       0.52      0.14      0.22      3744\n",
      "\n",
      "avg / total       0.78      0.82      0.77     20495\n",
      "\n"
     ]
    }
   ],
   "source": [
    "preds = randomforest_classifier.predict(dev_datamatrix)\n",
    "pred_label = preds >= 0.5\n",
    "pred_label = pred_label.astype(int)\n",
    "from sklearn.metrics import classification_report\n",
    "print(classification_report(dev_datasetL, pred_label))"
   ]
  },
  {
   "cell_type": "code",
   "execution_count": 23,
   "metadata": {
    "collapsed": false
   },
   "outputs": [
    {
     "data": {
      "text/plain": [
       "LogisticRegression(C=1.0, class_weight='balanced', dual=False,\n",
       "          fit_intercept=True, intercept_scaling=1, max_iter=1000,\n",
       "          multi_class='ovr', n_jobs=1, penalty='l2', random_state=None,\n",
       "          solver='liblinear', tol=0.0001, verbose=0, warm_start=False)"
      ]
     },
     "execution_count": 23,
     "metadata": {},
     "output_type": "execute_result"
    }
   ],
   "source": [
    "from sklearn.linear_model import LogisticRegression\n",
    "linear_classifier = LogisticRegression(class_weight=\"balanced\", max_iter=1000)\n",
    "linear_classifier.fit(train_datamatrix, train_datasetL)"
   ]
  },
  {
   "cell_type": "code",
   "execution_count": 24,
   "metadata": {
    "collapsed": false
   },
   "outputs": [
    {
     "name": "stdout",
     "output_type": "stream",
     "text": [
      "             precision    recall  f1-score   support\n",
      "\n",
      "          0       0.90      0.68      0.78     16751\n",
      "          1       0.32      0.67      0.44      3744\n",
      "\n",
      "avg / total       0.80      0.68      0.72     20495\n",
      "\n"
     ]
    }
   ],
   "source": [
    "preds = linear_classifier.predict(dev_datamatrix)\n",
    "pred_label = preds >= 0.5\n",
    "pred_label = pred_label.astype(int)\n",
    "from sklearn.metrics import classification_report\n",
    "print(classification_report(dev_datasetL, pred_label))"
   ]
  },
  {
   "cell_type": "code",
   "execution_count": 25,
   "metadata": {
    "collapsed": true
   },
   "outputs": [],
   "source": [
    "import pickle\n",
    "pickle.dump(linear_classifier, open(\"../data/m_result/linear_classifier.model\", \"wb\"), 2)"
   ]
  },
  {
   "cell_type": "code",
   "execution_count": 40,
   "metadata": {
    "collapsed": true
   },
   "outputs": [],
   "source": [
    "# specify parameters via map\n",
    "xgb_classifier = xgb.XGBClassifier(max_depth=11, learning_rate=0.01, n_estimators=1000, \n",
    "                                   silent=0, objective='binary:logistic', booster='gbtree', \n",
    "                                   n_jobs=1, nthread=None, gamma=0, min_child_weight=2, max_delta_step=0, subsample=1, \n",
    "                                   colsample_bytree=1, colsample_bylevel=1, reg_alpha=0, \n",
    "                                   reg_lambda=1, scale_pos_weight=4, \n",
    "                                   base_score=0.5, random_state=0, seed=None, missing=None)\n",
    "\n",
    "bst = xgb_classifier.fit(train_datamatrix, train_datasetL)"
   ]
  },
  {
   "cell_type": "code",
   "execution_count": 41,
   "metadata": {
    "collapsed": false
   },
   "outputs": [
    {
     "name": "stdout",
     "output_type": "stream",
     "text": [
      "             precision    recall  f1-score   support\n",
      "\n",
      "          0       0.88      0.84      0.86     16751\n",
      "          1       0.40      0.48      0.44      3744\n",
      "\n",
      "avg / total       0.79      0.78      0.78     20495\n",
      "\n"
     ]
    },
    {
     "name": "stderr",
     "output_type": "stream",
     "text": [
      "/home/xueyunzhe/anaconda3/lib/python3.5/site-packages/sklearn/preprocessing/label.py:151: DeprecationWarning: The truth value of an empty array is ambiguous. Returning False, but in future this will result in an error. Use `array.size > 0` to check that an array is not empty.\n",
      "  if diff:\n"
     ]
    }
   ],
   "source": [
    "# make prediction\n",
    "preds = bst.predict(dev_datamatrix)\n",
    "\n",
    "pred_label = preds >= 0.5\n",
    "pred_label = pred_label.astype(int)\n",
    "from sklearn.metrics import classification_report\n",
    "print(classification_report(dev_datasetL, pred_label))"
   ]
  },
  {
   "cell_type": "code",
   "execution_count": 42,
   "metadata": {
    "collapsed": false
   },
   "outputs": [],
   "source": [
    "pickle.dump(bst, open(\"../data/m_result/xgboost_3.model\", \"wb\"), 2)"
   ]
  },
  {
   "cell_type": "code",
   "execution_count": null,
   "metadata": {
    "collapsed": true
   },
   "outputs": [],
   "source": []
  }
 ],
 "metadata": {
  "kernelspec": {
   "display_name": "Python [conda env:anaconda3]",
   "language": "python",
   "name": "conda-env-anaconda3-py"
  },
  "language_info": {
   "codemirror_mode": {
    "name": "ipython",
    "version": 3
   },
   "file_extension": ".py",
   "mimetype": "text/x-python",
   "name": "python",
   "nbconvert_exporter": "python",
   "pygments_lexer": "ipython3",
   "version": "3.5.2"
  }
 },
 "nbformat": 4,
 "nbformat_minor": 2
}
