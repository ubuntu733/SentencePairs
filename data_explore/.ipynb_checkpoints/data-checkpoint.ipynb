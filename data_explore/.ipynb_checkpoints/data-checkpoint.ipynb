{
 "cells": [
  {
   "cell_type": "code",
   "execution_count": 16,
   "metadata": {
    "collapsed": true
   },
   "outputs": [],
   "source": [
    "import jieba\n",
    "import pandas as pd\n",
    "import sklearn\n",
    "import numpy as np"
   ]
  },
  {
   "cell_type": "code",
   "execution_count": 31,
   "metadata": {
    "collapsed": false
   },
   "outputs": [],
   "source": [
    "data = pd.read_csv(\"../data/atec_nlp_sim_train.csv\", encoding=\"utf-8\", delimiter=\"\\t\", header=None)"
   ]
  },
  {
   "cell_type": "code",
   "execution_count": 32,
   "metadata": {
    "collapsed": true
   },
   "outputs": [],
   "source": [
    "data_add = pd.read_csv(\"../data/atec_nlp_sim_train_add.csv\", encoding=\"utf-8\", delimiter=\"\\t\", header=None)"
   ]
  },
  {
   "cell_type": "code",
   "execution_count": 33,
   "metadata": {
    "collapsed": false
   },
   "outputs": [
    {
     "name": "stdout",
     "output_type": "stream",
     "text": [
      "(63131, 4)\n"
     ]
    },
    {
     "data": {
      "text/html": [
       "<div>\n",
       "<table border=\"1\" class=\"dataframe\">\n",
       "  <thead>\n",
       "    <tr style=\"text-align: right;\">\n",
       "      <th></th>\n",
       "      <th>0</th>\n",
       "      <th>1</th>\n",
       "      <th>2</th>\n",
       "      <th>3</th>\n",
       "    </tr>\n",
       "  </thead>\n",
       "  <tbody>\n",
       "    <tr>\n",
       "      <th>0</th>\n",
       "      <td>1</td>\n",
       "      <td>为何我无法申请开通花呗信用卡收款</td>\n",
       "      <td>支付宝开通信用卡花呗收款不符合条件怎么回事</td>\n",
       "      <td>1</td>\n",
       "    </tr>\n",
       "    <tr>\n",
       "      <th>1</th>\n",
       "      <td>2</td>\n",
       "      <td>花呗分期付款会影响使用吗</td>\n",
       "      <td>花呗分期有什么影响吗</td>\n",
       "      <td>0</td>\n",
       "    </tr>\n",
       "  </tbody>\n",
       "</table>\n",
       "</div>"
      ],
      "text/plain": [
       "   0                 1                      2  3\n",
       "0  1  为何我无法申请开通花呗信用卡收款  支付宝开通信用卡花呗收款不符合条件怎么回事  1\n",
       "1  2      花呗分期付款会影响使用吗             花呗分期有什么影响吗  0"
      ]
     },
     "execution_count": 33,
     "metadata": {},
     "output_type": "execute_result"
    }
   ],
   "source": [
    "print(data_add.shape)\n",
    "data_add.head(2)"
   ]
  },
  {
   "cell_type": "code",
   "execution_count": 34,
   "metadata": {
    "collapsed": false
   },
   "outputs": [
    {
     "name": "stdout",
     "output_type": "stream",
     "text": [
      "(39346, 4)\n"
     ]
    },
    {
     "data": {
      "text/html": [
       "<div>\n",
       "<table border=\"1\" class=\"dataframe\">\n",
       "  <thead>\n",
       "    <tr style=\"text-align: right;\">\n",
       "      <th></th>\n",
       "      <th>0</th>\n",
       "      <th>1</th>\n",
       "      <th>2</th>\n",
       "      <th>3</th>\n",
       "    </tr>\n",
       "  </thead>\n",
       "  <tbody>\n",
       "    <tr>\n",
       "      <th>0</th>\n",
       "      <td>﻿1</td>\n",
       "      <td>﻿怎么更改花呗手机号码</td>\n",
       "      <td>我的花呗是以前的手机号码，怎么更改成现在的支付宝的号码手机号</td>\n",
       "      <td>1</td>\n",
       "    </tr>\n",
       "    <tr>\n",
       "      <th>1</th>\n",
       "      <td>2</td>\n",
       "      <td>也开不了花呗，就这样了？完事了</td>\n",
       "      <td>真的嘛？就是花呗付款</td>\n",
       "      <td>0</td>\n",
       "    </tr>\n",
       "  </tbody>\n",
       "</table>\n",
       "</div>"
      ],
      "text/plain": [
       "    0                1                               2  3\n",
       "0  ﻿1      ﻿怎么更改花呗手机号码  我的花呗是以前的手机号码，怎么更改成现在的支付宝的号码手机号  1\n",
       "1   2  也开不了花呗，就这样了？完事了                      真的嘛？就是花呗付款  0"
      ]
     },
     "execution_count": 34,
     "metadata": {},
     "output_type": "execute_result"
    }
   ],
   "source": [
    "print(data.shape)\n",
    "data.head(2)"
   ]
  },
  {
   "cell_type": "code",
   "execution_count": 35,
   "metadata": {
    "collapsed": false
   },
   "outputs": [
    {
     "name": "stdout",
     "output_type": "stream",
     "text": [
      "(102477, 4)\n"
     ]
    },
    {
     "data": {
      "text/html": [
       "<div>\n",
       "<table border=\"1\" class=\"dataframe\">\n",
       "  <thead>\n",
       "    <tr style=\"text-align: right;\">\n",
       "      <th></th>\n",
       "      <th>0</th>\n",
       "      <th>1</th>\n",
       "      <th>2</th>\n",
       "      <th>3</th>\n",
       "    </tr>\n",
       "  </thead>\n",
       "  <tbody>\n",
       "    <tr>\n",
       "      <th>0</th>\n",
       "      <td>﻿1</td>\n",
       "      <td>﻿怎么更改花呗手机号码</td>\n",
       "      <td>我的花呗是以前的手机号码，怎么更改成现在的支付宝的号码手机号</td>\n",
       "      <td>1</td>\n",
       "    </tr>\n",
       "    <tr>\n",
       "      <th>1</th>\n",
       "      <td>2</td>\n",
       "      <td>也开不了花呗，就这样了？完事了</td>\n",
       "      <td>真的嘛？就是花呗付款</td>\n",
       "      <td>0</td>\n",
       "    </tr>\n",
       "  </tbody>\n",
       "</table>\n",
       "</div>"
      ],
      "text/plain": [
       "    0                1                               2  3\n",
       "0  ﻿1      ﻿怎么更改花呗手机号码  我的花呗是以前的手机号码，怎么更改成现在的支付宝的号码手机号  1\n",
       "1   2  也开不了花呗，就这样了？完事了                      真的嘛？就是花呗付款  0"
      ]
     },
     "execution_count": 35,
     "metadata": {},
     "output_type": "execute_result"
    }
   ],
   "source": [
    "data = pd.concat([data, data_add])\n",
    "\n",
    "print(data.shape)\n",
    "data.head(2)"
   ]
  },
  {
   "cell_type": "code",
   "execution_count": 37,
   "metadata": {
    "collapsed": false
   },
   "outputs": [],
   "source": [
    "data.columns = [\"sent_id\", \"sent_1\", \"sent_2\", \"label\"]\n",
    "data = data[[\"sent_1\", \"sent_2\", \"label\"]]"
   ]
  },
  {
   "cell_type": "code",
   "execution_count": 47,
   "metadata": {
    "collapsed": false
   },
   "outputs": [],
   "source": [
    "data.index = list(range(data.shape[0]))"
   ]
  },
  {
   "cell_type": "code",
   "execution_count": 49,
   "metadata": {
    "collapsed": true
   },
   "outputs": [],
   "source": [
    "data.to_csv(\"../data/sim_train.csv\", sep=\"\\t\")"
   ]
  },
  {
   "cell_type": "code",
   "execution_count": 38,
   "metadata": {
    "collapsed": false
   },
   "outputs": [
    {
     "data": {
      "text/html": [
       "<div>\n",
       "<table border=\"1\" class=\"dataframe\">\n",
       "  <thead>\n",
       "    <tr style=\"text-align: right;\">\n",
       "      <th></th>\n",
       "      <th>sent_1</th>\n",
       "      <th>sent_2</th>\n",
       "      <th>label</th>\n",
       "    </tr>\n",
       "  </thead>\n",
       "  <tbody>\n",
       "    <tr>\n",
       "      <th>0</th>\n",
       "      <td>﻿怎么更改花呗手机号码</td>\n",
       "      <td>我的花呗是以前的手机号码，怎么更改成现在的支付宝的号码手机号</td>\n",
       "      <td>1</td>\n",
       "    </tr>\n",
       "    <tr>\n",
       "      <th>1</th>\n",
       "      <td>也开不了花呗，就这样了？完事了</td>\n",
       "      <td>真的嘛？就是花呗付款</td>\n",
       "      <td>0</td>\n",
       "    </tr>\n",
       "  </tbody>\n",
       "</table>\n",
       "</div>"
      ],
      "text/plain": [
       "            sent_1                          sent_2  label\n",
       "0      ﻿怎么更改花呗手机号码  我的花呗是以前的手机号码，怎么更改成现在的支付宝的号码手机号      1\n",
       "1  也开不了花呗，就这样了？完事了                      真的嘛？就是花呗付款      0"
      ]
     },
     "execution_count": 38,
     "metadata": {},
     "output_type": "execute_result"
    }
   ],
   "source": [
    "data.head(2)"
   ]
  },
  {
   "cell_type": "code",
   "execution_count": 40,
   "metadata": {
    "collapsed": false
   },
   "outputs": [
    {
     "name": "stdout",
     "output_type": "stream",
     "text": [
      "(18685, 3)\n"
     ]
    },
    {
     "data": {
      "text/html": [
       "<div>\n",
       "<table border=\"1\" class=\"dataframe\">\n",
       "  <thead>\n",
       "    <tr style=\"text-align: right;\">\n",
       "      <th></th>\n",
       "      <th>sent_1</th>\n",
       "      <th>sent_2</th>\n",
       "      <th>label</th>\n",
       "    </tr>\n",
       "  </thead>\n",
       "  <tbody>\n",
       "    <tr>\n",
       "      <th>0</th>\n",
       "      <td>﻿怎么更改花呗手机号码</td>\n",
       "      <td>我的花呗是以前的手机号码，怎么更改成现在的支付宝的号码手机号</td>\n",
       "      <td>1</td>\n",
       "    </tr>\n",
       "    <tr>\n",
       "      <th>15</th>\n",
       "      <td>花呗的安全没有验证成功</td>\n",
       "      <td>花呗安全验证没通过怎么回事</td>\n",
       "      <td>1</td>\n",
       "    </tr>\n",
       "    <tr>\n",
       "      <th>17</th>\n",
       "      <td>借呗还款了，额度未恢复</td>\n",
       "      <td>借呗还款后额度没有恢复还显示借款</td>\n",
       "      <td>1</td>\n",
       "    </tr>\n",
       "    <tr>\n",
       "      <th>21</th>\n",
       "      <td>闲鱼可以使用花呗吗</td>\n",
       "      <td>花呗可以在闲鱼上面交易吗</td>\n",
       "      <td>1</td>\n",
       "    </tr>\n",
       "    <tr>\n",
       "      <th>24</th>\n",
       "      <td>花呗更改绑定银行卡</td>\n",
       "      <td>如何更换花呗绑定银行卡</td>\n",
       "      <td>1</td>\n",
       "    </tr>\n",
       "    <tr>\n",
       "      <th>31</th>\n",
       "      <td>花呗***期免息</td>\n",
       "      <td>蚂蚁花呗***期免息什么意思</td>\n",
       "      <td>1</td>\n",
       "    </tr>\n",
       "    <tr>\n",
       "      <th>33</th>\n",
       "      <td>开通花呗不用的话会有费用吗</td>\n",
       "      <td>开通花呗不用，会不会产生费用</td>\n",
       "      <td>1</td>\n",
       "    </tr>\n",
       "    <tr>\n",
       "      <th>41</th>\n",
       "      <td>我蚂蚁借呗放款没有到账</td>\n",
       "      <td>借呗还款为什么没有到帐</td>\n",
       "      <td>1</td>\n",
       "    </tr>\n",
       "    <tr>\n",
       "      <th>47</th>\n",
       "      <td>花呗怎么付款不鸟了</td>\n",
       "      <td>帮忙看一下我花呗怎么用不了</td>\n",
       "      <td>1</td>\n",
       "    </tr>\n",
       "    <tr>\n",
       "      <th>57</th>\n",
       "      <td>支付宝花呗分期还款怎么提前还清</td>\n",
       "      <td>蚂蚁花呗分期付款可以全部提前还款吗</td>\n",
       "      <td>1</td>\n",
       "    </tr>\n",
       "    <tr>\n",
       "      <th>58</th>\n",
       "      <td>注销了一个花呗账号，新账号是否还能再开通花呗了</td>\n",
       "      <td>把以前的帐号注销，现在这个能开通花呗吗</td>\n",
       "      <td>1</td>\n",
       "    </tr>\n",
       "    <tr>\n",
       "      <th>61</th>\n",
       "      <td>为何蚂蚁借呗不能使用了</td>\n",
       "      <td>我的借呗***年能有***年怎么不能用了</td>\n",
       "      <td>1</td>\n",
       "    </tr>\n",
       "    <tr>\n",
       "      <th>63</th>\n",
       "      <td>用了这么久的支付宝也不给开通借呗，哼</td>\n",
       "      <td>我用支付宝三四年了也不见给我开通借呗</td>\n",
       "      <td>1</td>\n",
       "    </tr>\n",
       "    <tr>\n",
       "      <th>66</th>\n",
       "      <td>蚂蚁借呗的额度为什么会下降</td>\n",
       "      <td>为什么借呗额度被降低了，没有不良记录</td>\n",
       "      <td>1</td>\n",
       "    </tr>\n",
       "    <tr>\n",
       "      <th>73</th>\n",
       "      <td>我***月份花呗消费是***元，怎么要我还***元</td>\n",
       "      <td>我原本这个月总的花呗需要还***元，我还了一次***，又还了一个***，剩余的应该是***，...</td>\n",
       "      <td>1</td>\n",
       "    </tr>\n",
       "    <tr>\n",
       "      <th>87</th>\n",
       "      <td>怎么花呗不能支付</td>\n",
       "      <td>花呗付款不了怎么回事</td>\n",
       "      <td>1</td>\n",
       "    </tr>\n",
       "    <tr>\n",
       "      <th>99</th>\n",
       "      <td>花呗支付可以使用购物津贴吗</td>\n",
       "      <td>使用购物津贴的费用可以用花呗吗</td>\n",
       "      <td>1</td>\n",
       "    </tr>\n",
       "    <tr>\n",
       "      <th>101</th>\n",
       "      <td>为什么每个人的借呗日息不一样</td>\n",
       "      <td>为什么借呗利息有的高有的底</td>\n",
       "      <td>1</td>\n",
       "    </tr>\n",
       "    <tr>\n",
       "      <th>108</th>\n",
       "      <td>怎么开通，花呗收款</td>\n",
       "      <td>怎么注册可以花呗收钱的</td>\n",
       "      <td>1</td>\n",
       "    </tr>\n",
       "    <tr>\n",
       "      <th>109</th>\n",
       "      <td>我的花呗怎么用这用这不让用了</td>\n",
       "      <td>我花呗为什么不能用了</td>\n",
       "      <td>1</td>\n",
       "    </tr>\n",
       "  </tbody>\n",
       "</table>\n",
       "</div>"
      ],
      "text/plain": [
       "                        sent_1  \\\n",
       "0                  ﻿怎么更改花呗手机号码   \n",
       "15                 花呗的安全没有验证成功   \n",
       "17                 借呗还款了，额度未恢复   \n",
       "21                   闲鱼可以使用花呗吗   \n",
       "24                   花呗更改绑定银行卡   \n",
       "31                    花呗***期免息   \n",
       "33               开通花呗不用的话会有费用吗   \n",
       "41                 我蚂蚁借呗放款没有到账   \n",
       "47                   花呗怎么付款不鸟了   \n",
       "57             支付宝花呗分期还款怎么提前还清   \n",
       "58     注销了一个花呗账号，新账号是否还能再开通花呗了   \n",
       "61                 为何蚂蚁借呗不能使用了   \n",
       "63          用了这么久的支付宝也不给开通借呗，哼   \n",
       "66               蚂蚁借呗的额度为什么会下降   \n",
       "73   我***月份花呗消费是***元，怎么要我还***元   \n",
       "87                    怎么花呗不能支付   \n",
       "99               花呗支付可以使用购物津贴吗   \n",
       "101             为什么每个人的借呗日息不一样   \n",
       "108                  怎么开通，花呗收款   \n",
       "109             我的花呗怎么用这用这不让用了   \n",
       "\n",
       "                                                sent_2  label  \n",
       "0                       我的花呗是以前的手机号码，怎么更改成现在的支付宝的号码手机号      1  \n",
       "15                                       花呗安全验证没通过怎么回事      1  \n",
       "17                                    借呗还款后额度没有恢复还显示借款      1  \n",
       "21                                        花呗可以在闲鱼上面交易吗      1  \n",
       "24                                         如何更换花呗绑定银行卡      1  \n",
       "31                                      蚂蚁花呗***期免息什么意思      1  \n",
       "33                                      开通花呗不用，会不会产生费用      1  \n",
       "41                                         借呗还款为什么没有到帐      1  \n",
       "47                                       帮忙看一下我花呗怎么用不了      1  \n",
       "57                                   蚂蚁花呗分期付款可以全部提前还款吗      1  \n",
       "58                                 把以前的帐号注销，现在这个能开通花呗吗      1  \n",
       "61                                我的借呗***年能有***年怎么不能用了      1  \n",
       "63                                  我用支付宝三四年了也不见给我开通借呗      1  \n",
       "66                                  为什么借呗额度被降低了，没有不良记录      1  \n",
       "73   我原本这个月总的花呗需要还***元，我还了一次***，又还了一个***，剩余的应该是***，...      1  \n",
       "87                                          花呗付款不了怎么回事      1  \n",
       "99                                     使用购物津贴的费用可以用花呗吗      1  \n",
       "101                                      为什么借呗利息有的高有的底      1  \n",
       "108                                        怎么注册可以花呗收钱的      1  \n",
       "109                                         我花呗为什么不能用了      1  "
      ]
     },
     "execution_count": 40,
     "metadata": {},
     "output_type": "execute_result"
    }
   ],
   "source": [
    "positive_data = data[data[\"label\"] == 1]\n",
    "\n",
    "print(positive_data.shape)\n",
    "positive_data.head(20)"
   ]
  },
  {
   "cell_type": "code",
   "execution_count": 41,
   "metadata": {
    "collapsed": false
   },
   "outputs": [
    {
     "name": "stdout",
     "output_type": "stream",
     "text": [
      "(83792, 3)\n"
     ]
    },
    {
     "data": {
      "text/html": [
       "<div>\n",
       "<table border=\"1\" class=\"dataframe\">\n",
       "  <thead>\n",
       "    <tr style=\"text-align: right;\">\n",
       "      <th></th>\n",
       "      <th>sent_1</th>\n",
       "      <th>sent_2</th>\n",
       "      <th>label</th>\n",
       "    </tr>\n",
       "  </thead>\n",
       "  <tbody>\n",
       "    <tr>\n",
       "      <th>1</th>\n",
       "      <td>也开不了花呗，就这样了？完事了</td>\n",
       "      <td>真的嘛？就是花呗付款</td>\n",
       "      <td>0</td>\n",
       "    </tr>\n",
       "    <tr>\n",
       "      <th>2</th>\n",
       "      <td>花呗冻结以后还能开通吗</td>\n",
       "      <td>我的条件可以开通花呗借款吗</td>\n",
       "      <td>0</td>\n",
       "    </tr>\n",
       "    <tr>\n",
       "      <th>3</th>\n",
       "      <td>如何得知关闭借呗</td>\n",
       "      <td>想永久关闭借呗</td>\n",
       "      <td>0</td>\n",
       "    </tr>\n",
       "    <tr>\n",
       "      <th>4</th>\n",
       "      <td>花呗扫码付钱</td>\n",
       "      <td>二维码扫描可以用花呗吗</td>\n",
       "      <td>0</td>\n",
       "    </tr>\n",
       "    <tr>\n",
       "      <th>5</th>\n",
       "      <td>花呗逾期后不能分期吗</td>\n",
       "      <td>我这个 逾期后还完了 最低还款 后 能分期吗</td>\n",
       "      <td>0</td>\n",
       "    </tr>\n",
       "    <tr>\n",
       "      <th>6</th>\n",
       "      <td>花呗分期清空</td>\n",
       "      <td>花呗分期查询</td>\n",
       "      <td>0</td>\n",
       "    </tr>\n",
       "    <tr>\n",
       "      <th>7</th>\n",
       "      <td>借呗逾期短信通知</td>\n",
       "      <td>如何购买花呗短信通知</td>\n",
       "      <td>0</td>\n",
       "    </tr>\n",
       "    <tr>\n",
       "      <th>8</th>\n",
       "      <td>借呗即将到期要还的账单还能分期吗</td>\n",
       "      <td>借呗要分期还，是吗</td>\n",
       "      <td>0</td>\n",
       "    </tr>\n",
       "    <tr>\n",
       "      <th>9</th>\n",
       "      <td>花呗为什么不能支付手机交易</td>\n",
       "      <td>花呗透支了为什么不可以继续用了</td>\n",
       "      <td>0</td>\n",
       "    </tr>\n",
       "    <tr>\n",
       "      <th>10</th>\n",
       "      <td>在吗，双***有临时花呗额度吗</td>\n",
       "      <td>花呗临时额度到时间怎么办</td>\n",
       "      <td>0</td>\n",
       "    </tr>\n",
       "    <tr>\n",
       "      <th>11</th>\n",
       "      <td>我什么时候开通了花呗</td>\n",
       "      <td>查我什么时候用过，花呗</td>\n",
       "      <td>0</td>\n",
       "    </tr>\n",
       "    <tr>\n",
       "      <th>12</th>\n",
       "      <td>花呗每月还了最低还款后还会有万分之五的利息吗</td>\n",
       "      <td>花呗每个月最低还款怎么算</td>\n",
       "      <td>0</td>\n",
       "    </tr>\n",
       "    <tr>\n",
       "      <th>13</th>\n",
       "      <td>我想用蚂蚁借呗怎么用不了</td>\n",
       "      <td>蚂蚁借呗设置了一次性还款，现在想分期还款，怎么操作</td>\n",
       "      <td>0</td>\n",
       "    </tr>\n",
       "    <tr>\n",
       "      <th>14</th>\n",
       "      <td>花呗也不能用了</td>\n",
       "      <td>花呗没用过</td>\n",
       "      <td>0</td>\n",
       "    </tr>\n",
       "    <tr>\n",
       "      <th>16</th>\n",
       "      <td>我开通不了借呗</td>\n",
       "      <td>我要申请借呗</td>\n",
       "      <td>0</td>\n",
       "    </tr>\n",
       "    <tr>\n",
       "      <th>18</th>\n",
       "      <td>就是我花呗忘记还款了。逾期一天。有事吗</td>\n",
       "      <td>花呗账单在到期当天还款是逾期吗</td>\n",
       "      <td>0</td>\n",
       "    </tr>\n",
       "    <tr>\n",
       "      <th>19</th>\n",
       "      <td>我问你我借呗怎么要还钱</td>\n",
       "      <td>怎么一次性还蚂蚁借呗</td>\n",
       "      <td>0</td>\n",
       "    </tr>\n",
       "    <tr>\n",
       "      <th>20</th>\n",
       "      <td>是否有花呗就不可以借呗</td>\n",
       "      <td>不实用花呗就没有借呗吗</td>\n",
       "      <td>0</td>\n",
       "    </tr>\n",
       "    <tr>\n",
       "      <th>22</th>\n",
       "      <td>花呗可以买手机吗</td>\n",
       "      <td>花呗逾期一天可以么</td>\n",
       "      <td>0</td>\n",
       "    </tr>\n",
       "    <tr>\n",
       "      <th>23</th>\n",
       "      <td>借呗每月还款时间</td>\n",
       "      <td>借呗多少天还款</td>\n",
       "      <td>0</td>\n",
       "    </tr>\n",
       "  </tbody>\n",
       "</table>\n",
       "</div>"
      ],
      "text/plain": [
       "                    sent_1                     sent_2  label\n",
       "1          也开不了花呗，就这样了？完事了                 真的嘛？就是花呗付款      0\n",
       "2              花呗冻结以后还能开通吗              我的条件可以开通花呗借款吗      0\n",
       "3                 如何得知关闭借呗                    想永久关闭借呗      0\n",
       "4                   花呗扫码付钱                二维码扫描可以用花呗吗      0\n",
       "5               花呗逾期后不能分期吗     我这个 逾期后还完了 最低还款 后 能分期吗      0\n",
       "6                   花呗分期清空                     花呗分期查询      0\n",
       "7                 借呗逾期短信通知                 如何购买花呗短信通知      0\n",
       "8         借呗即将到期要还的账单还能分期吗                  借呗要分期还，是吗      0\n",
       "9            花呗为什么不能支付手机交易            花呗透支了为什么不可以继续用了      0\n",
       "10         在吗，双***有临时花呗额度吗               花呗临时额度到时间怎么办      0\n",
       "11              我什么时候开通了花呗                查我什么时候用过，花呗      0\n",
       "12  花呗每月还了最低还款后还会有万分之五的利息吗               花呗每个月最低还款怎么算      0\n",
       "13            我想用蚂蚁借呗怎么用不了  蚂蚁借呗设置了一次性还款，现在想分期还款，怎么操作      0\n",
       "14                 花呗也不能用了                      花呗没用过      0\n",
       "16                 我开通不了借呗                     我要申请借呗      0\n",
       "18     就是我花呗忘记还款了。逾期一天。有事吗            花呗账单在到期当天还款是逾期吗      0\n",
       "19             我问你我借呗怎么要还钱                 怎么一次性还蚂蚁借呗      0\n",
       "20             是否有花呗就不可以借呗                不实用花呗就没有借呗吗      0\n",
       "22                花呗可以买手机吗                  花呗逾期一天可以么      0\n",
       "23                借呗每月还款时间                    借呗多少天还款      0"
      ]
     },
     "execution_count": 41,
     "metadata": {},
     "output_type": "execute_result"
    }
   ],
   "source": [
    "negtive_data = data[data[\"label\"] == 0]\n",
    "\n",
    "print(negtive_data.shape)\n",
    "negtive_data.head(20)"
   ]
  },
  {
   "cell_type": "code",
   "execution_count": 127,
   "metadata": {
    "collapsed": false
   },
   "outputs": [
    {
     "name": "stdout",
     "output_type": "stream",
     "text": [
      "Full Mode:  / 花呗/ 可以/ 付滴/ 车费/ 吗\n",
      "Default Mode:  / 花呗/ 可以/ 付/ 滴/ 车费/ 吗\n",
      "想要, 网商贷, 能, 不能, 切换, 回, 借呗\n",
      "我, 问, 你, 我, 借呗, 怎么, 要, 还, 钱\n"
     ]
    }
   ],
   "source": [
    "jieba.load_userdict(\"../data/dict\")\n",
    "\n",
    "seg_list = jieba.cut(\" 花呗可以付滴车费吗\")\n",
    "print(\"Full Mode: \" + \"/ \".join(seg_list))  # 全模式\n",
    "\n",
    "seg_list = jieba.cut(\" 花呗可以付滴车费吗\", HMM=False)\n",
    "print(\"Default Mode: \" + \"/ \".join(seg_list))  # 精确模式\n",
    "\n",
    "seg_list = jieba.cut(\"想要网商贷能不能切换回借呗\")  # 默认是精确模式\n",
    "print(\", \".join(seg_list))\n",
    "c\n",
    "seg_list = jieba.cut_for_search(\"我问你我借呗怎么要还钱\")  # 搜索引擎模式\n",
    "print(\", \".join(seg_list))"
   ]
  },
  {
   "cell_type": "code",
   "execution_count": 120,
   "metadata": {
    "collapsed": true
   },
   "outputs": [],
   "source": [
    "data[\"sent_1_seg\"] = data[\"sent_1\"].apply(lambda x: \" \".join(jieba.cut(x, HMM=False)))\n",
    "data[\"sent_2_seg\"] = data[\"sent_2\"].apply(lambda x: \" \".join(jieba.cut(x, HMM=False)))"
   ]
  },
  {
   "cell_type": "code",
   "execution_count": 121,
   "metadata": {
    "collapsed": false
   },
   "outputs": [
    {
     "data": {
      "text/html": [
       "<div>\n",
       "<table border=\"1\" class=\"dataframe\">\n",
       "  <thead>\n",
       "    <tr style=\"text-align: right;\">\n",
       "      <th></th>\n",
       "      <th>sent_1</th>\n",
       "      <th>sent_2</th>\n",
       "      <th>label</th>\n",
       "      <th>sent_1_seg</th>\n",
       "      <th>sent_2_seg</th>\n",
       "    </tr>\n",
       "  </thead>\n",
       "  <tbody>\n",
       "    <tr>\n",
       "      <th>0</th>\n",
       "      <td>﻿怎么更改花呗手机号码</td>\n",
       "      <td>我的花呗是以前的手机号码，怎么更改成现在的支付宝的号码手机号</td>\n",
       "      <td>1</td>\n",
       "      <td>﻿ 怎么 更改 花呗 手机号码</td>\n",
       "      <td>我 的 花呗 是 以前 的 手机号码 ， 怎么 更 改成 现在 的 支付宝 的 号码 手机号</td>\n",
       "    </tr>\n",
       "    <tr>\n",
       "      <th>1</th>\n",
       "      <td>也开不了花呗，就这样了？完事了</td>\n",
       "      <td>真的嘛？就是花呗付款</td>\n",
       "      <td>0</td>\n",
       "      <td>也 开 不了 花呗 ， 就 这样 了 ？ 完事 了</td>\n",
       "      <td>真的 嘛 ？ 就是 花呗 付款</td>\n",
       "    </tr>\n",
       "  </tbody>\n",
       "</table>\n",
       "</div>"
      ],
      "text/plain": [
       "            sent_1                          sent_2  label  \\\n",
       "0      ﻿怎么更改花呗手机号码  我的花呗是以前的手机号码，怎么更改成现在的支付宝的号码手机号      1   \n",
       "1  也开不了花呗，就这样了？完事了                      真的嘛？就是花呗付款      0   \n",
       "\n",
       "                  sent_1_seg                                      sent_2_seg  \n",
       "0            ﻿ 怎么 更改 花呗 手机号码  我 的 花呗 是 以前 的 手机号码 ， 怎么 更 改成 现在 的 支付宝 的 号码 手机号  \n",
       "1  也 开 不了 花呗 ， 就 这样 了 ？ 完事 了                                 真的 嘛 ？ 就是 花呗 付款  "
      ]
     },
     "execution_count": 121,
     "metadata": {},
     "output_type": "execute_result"
    }
   ],
   "source": [
    "data.to_csv(\"../data/sim_train_seg.csv\", sep=\"\\t\")\n",
    "\n",
    "data.head(2)"
   ]
  },
  {
   "cell_type": "code",
   "execution_count": 207,
   "metadata": {
    "collapsed": true
   },
   "outputs": [],
   "source": [
    "from sklearn.feature_extraction.text import CountVectorizer\n",
    "\n",
    "def my_tokenizer(x):\n",
    "    return x.split()\n",
    "vectorizer = CountVectorizer(tokenizer=my_tokenizer) \n",
    "# Document-term matrix."
   ]
  },
  {
   "cell_type": "code",
   "execution_count": 208,
   "metadata": {
    "collapsed": false
   },
   "outputs": [
    {
     "name": "stdout",
     "output_type": "stream",
     "text": [
      "['也', '开', '不了', '花呗', '，', '就', '这样', '了', '？', '完事', '了']\n"
     ]
    },
    {
     "data": {
      "text/plain": [
       "True"
      ]
     },
     "execution_count": 208,
     "metadata": {},
     "output_type": "execute_result"
    }
   ],
   "source": [
    "\n",
    "analyze = vectorizer.build_analyzer()\n",
    "\n",
    "print(analyze(\"也 开 不了 花呗 ， 就 这样 了 ？ 完事 了\"))\n",
    "\n",
    "analyze(\"也 开 不了 花呗 ， 就 这样 了 ？ 完事 了\") == (\n",
    "     ['也', '开', '不了', '花呗', '，', '就', '这样', '了', '？', '完事', '了'])"
   ]
  },
  {
   "cell_type": "code",
   "execution_count": 209,
   "metadata": {
    "collapsed": false
   },
   "outputs": [
    {
     "name": "stdout",
     "output_type": "stream",
     "text": [
      "-----the number of sent_1_seg------ 102477\n",
      "-----the number of last corpus------ 204954\n"
     ]
    }
   ],
   "source": [
    "corpus = list(data[\"sent_1_seg\"].values)\n",
    "print(\"-----the number of sent_1_seg------\", len(corpus))\n",
    "corpus.extend(list(data[\"sent_2_seg\"].values))\n",
    "print(\"-----the number of last corpus------\", len(corpus))"
   ]
  },
  {
   "cell_type": "code",
   "execution_count": 210,
   "metadata": {
    "collapsed": false
   },
   "outputs": [
    {
     "data": {
      "text/plain": [
       "'也 开 不了 花呗 ， 就 这样 了 ？ 完事 了'"
      ]
     },
     "execution_count": 210,
     "metadata": {},
     "output_type": "execute_result"
    }
   ],
   "source": [
    "corpus[1]"
   ]
  },
  {
   "cell_type": "code",
   "execution_count": 211,
   "metadata": {
    "collapsed": true
   },
   "outputs": [],
   "source": [
    "corpus_matrix = vectorizer.fit_transform(corpus)"
   ]
  },
  {
   "cell_type": "code",
   "execution_count": 212,
   "metadata": {
    "collapsed": false
   },
   "outputs": [
    {
     "name": "stdout",
     "output_type": "stream",
     "text": [
      "===the len of dictionary is==== 8280\n"
     ]
    }
   ],
   "source": [
    "print(\"===the len of dictionary is====\", len(list(vectorizer.vocabulary_.keys())))\n",
    "\n",
    "with open(\"../data/words.txt\", \"w\") as writer:\n",
    "    for word, index in vectorizer.vocabulary_.items():\n",
    "        writer.write(\"%s\\t%d\\n\" %(word, index))"
   ]
  },
  {
   "cell_type": "code",
   "execution_count": 213,
   "metadata": {
    "collapsed": false
   },
   "outputs": [
    {
     "ename": "MemoryError",
     "evalue": "",
     "output_type": "error",
     "traceback": [
      "\u001b[0;31m---------------------------------------------------------------------------\u001b[0m",
      "\u001b[0;31mMemoryError\u001b[0m                               Traceback (most recent call last)",
      "\u001b[0;32m<ipython-input-213-d0f9cdb28299>\u001b[0m in \u001b[0;36m<module>\u001b[0;34m()\u001b[0m\n\u001b[0;32m----> 1\u001b[0;31m \u001b[0mcorpus_matrix\u001b[0m\u001b[0;34m.\u001b[0m\u001b[0mtoarray\u001b[0m\u001b[0;34m(\u001b[0m\u001b[0;34m)\u001b[0m\u001b[0;34m.\u001b[0m\u001b[0mshape\u001b[0m\u001b[0;34m\u001b[0m\u001b[0m\n\u001b[0m",
      "\u001b[0;32m/home/xueyunzhe/anaconda3/lib/python3.5/site-packages/scipy/sparse/compressed.py\u001b[0m in \u001b[0;36mtoarray\u001b[0;34m(self, order, out)\u001b[0m\n\u001b[1;32m    941\u001b[0m         \u001b[0;32mif\u001b[0m \u001b[0mout\u001b[0m \u001b[0;32mis\u001b[0m \u001b[0;32mNone\u001b[0m \u001b[0;32mand\u001b[0m \u001b[0morder\u001b[0m \u001b[0;32mis\u001b[0m \u001b[0;32mNone\u001b[0m\u001b[0;34m:\u001b[0m\u001b[0;34m\u001b[0m\u001b[0m\n\u001b[1;32m    942\u001b[0m             \u001b[0morder\u001b[0m \u001b[0;34m=\u001b[0m \u001b[0mself\u001b[0m\u001b[0;34m.\u001b[0m\u001b[0m_swap\u001b[0m\u001b[0;34m(\u001b[0m\u001b[0;34m'cf'\u001b[0m\u001b[0;34m)\u001b[0m\u001b[0;34m[\u001b[0m\u001b[0;36m0\u001b[0m\u001b[0;34m]\u001b[0m\u001b[0;34m\u001b[0m\u001b[0m\n\u001b[0;32m--> 943\u001b[0;31m         \u001b[0mout\u001b[0m \u001b[0;34m=\u001b[0m \u001b[0mself\u001b[0m\u001b[0;34m.\u001b[0m\u001b[0m_process_toarray_args\u001b[0m\u001b[0;34m(\u001b[0m\u001b[0morder\u001b[0m\u001b[0;34m,\u001b[0m \u001b[0mout\u001b[0m\u001b[0;34m)\u001b[0m\u001b[0;34m\u001b[0m\u001b[0m\n\u001b[0m\u001b[1;32m    944\u001b[0m         \u001b[0;32mif\u001b[0m \u001b[0;32mnot\u001b[0m \u001b[0;34m(\u001b[0m\u001b[0mout\u001b[0m\u001b[0;34m.\u001b[0m\u001b[0mflags\u001b[0m\u001b[0;34m.\u001b[0m\u001b[0mc_contiguous\u001b[0m \u001b[0;32mor\u001b[0m \u001b[0mout\u001b[0m\u001b[0;34m.\u001b[0m\u001b[0mflags\u001b[0m\u001b[0;34m.\u001b[0m\u001b[0mf_contiguous\u001b[0m\u001b[0;34m)\u001b[0m\u001b[0;34m:\u001b[0m\u001b[0;34m\u001b[0m\u001b[0m\n\u001b[1;32m    945\u001b[0m             \u001b[0;32mraise\u001b[0m \u001b[0mValueError\u001b[0m\u001b[0;34m(\u001b[0m\u001b[0;34m'Output array must be C or F contiguous'\u001b[0m\u001b[0;34m)\u001b[0m\u001b[0;34m\u001b[0m\u001b[0m\n",
      "\u001b[0;32m/home/xueyunzhe/anaconda3/lib/python3.5/site-packages/scipy/sparse/base.py\u001b[0m in \u001b[0;36m_process_toarray_args\u001b[0;34m(self, order, out)\u001b[0m\n\u001b[1;32m   1128\u001b[0m             \u001b[0;32mreturn\u001b[0m \u001b[0mout\u001b[0m\u001b[0;34m\u001b[0m\u001b[0m\n\u001b[1;32m   1129\u001b[0m         \u001b[0;32melse\u001b[0m\u001b[0;34m:\u001b[0m\u001b[0;34m\u001b[0m\u001b[0m\n\u001b[0;32m-> 1130\u001b[0;31m             \u001b[0;32mreturn\u001b[0m \u001b[0mnp\u001b[0m\u001b[0;34m.\u001b[0m\u001b[0mzeros\u001b[0m\u001b[0;34m(\u001b[0m\u001b[0mself\u001b[0m\u001b[0;34m.\u001b[0m\u001b[0mshape\u001b[0m\u001b[0;34m,\u001b[0m \u001b[0mdtype\u001b[0m\u001b[0;34m=\u001b[0m\u001b[0mself\u001b[0m\u001b[0;34m.\u001b[0m\u001b[0mdtype\u001b[0m\u001b[0;34m,\u001b[0m \u001b[0morder\u001b[0m\u001b[0;34m=\u001b[0m\u001b[0morder\u001b[0m\u001b[0;34m)\u001b[0m\u001b[0;34m\u001b[0m\u001b[0m\n\u001b[0m\u001b[1;32m   1131\u001b[0m \u001b[0;34m\u001b[0m\u001b[0m\n\u001b[1;32m   1132\u001b[0m     \u001b[0;32mdef\u001b[0m \u001b[0m__numpy_ufunc__\u001b[0m\u001b[0;34m(\u001b[0m\u001b[0mself\u001b[0m\u001b[0;34m,\u001b[0m \u001b[0mfunc\u001b[0m\u001b[0;34m,\u001b[0m \u001b[0mmethod\u001b[0m\u001b[0;34m,\u001b[0m \u001b[0mpos\u001b[0m\u001b[0;34m,\u001b[0m \u001b[0minputs\u001b[0m\u001b[0;34m,\u001b[0m \u001b[0;34m**\u001b[0m\u001b[0mkwargs\u001b[0m\u001b[0;34m)\u001b[0m\u001b[0;34m:\u001b[0m\u001b[0;34m\u001b[0m\u001b[0m\n",
      "\u001b[0;31mMemoryError\u001b[0m: "
     ]
    }
   ],
   "source": [
    "corpus_matrix.toarray().shape"
   ]
  },
  {
   "cell_type": "code",
   "execution_count": 138,
   "metadata": {
    "collapsed": true
   },
   "outputs": [],
   "source": [
    " from sklearn.feature_extraction.text import TfidfTransformer\n",
    "transformer = TfidfTransformer(smooth_idf=False)\n",
    "corpus_tfidf = transformer.fit_transform(corpus_matrix)"
   ]
  },
  {
   "cell_type": "code",
   "execution_count": 206,
   "metadata": {
    "collapsed": false
   },
   "outputs": [
    {
     "ename": "PicklingError",
     "evalue": "Can't pickle <function <lambda> at 0x7fa42bc1cc80>: attribute lookup <lambda> on __main__ failed",
     "output_type": "error",
     "traceback": [
      "\u001b[0;31m---------------------------------------------------------------------------\u001b[0m",
      "\u001b[0;31mPicklingError\u001b[0m                             Traceback (most recent call last)",
      "\u001b[0;32m<ipython-input-206-a9316f1861de>\u001b[0m in \u001b[0;36m<module>\u001b[0;34m()\u001b[0m\n\u001b[1;32m      1\u001b[0m \u001b[0;32mimport\u001b[0m \u001b[0mpickle\u001b[0m\u001b[0;34m\u001b[0m\u001b[0m\n\u001b[0;32m----> 2\u001b[0;31m \u001b[0mpickle\u001b[0m\u001b[0;34m.\u001b[0m\u001b[0mdump\u001b[0m\u001b[0;34m(\u001b[0m\u001b[0mvectorizer\u001b[0m\u001b[0;34m,\u001b[0m \u001b[0mopen\u001b[0m\u001b[0;34m(\u001b[0m\u001b[0;34m\"../data/countvector.model\"\u001b[0m\u001b[0;34m,\u001b[0m \u001b[0;34m\"wb\"\u001b[0m\u001b[0;34m)\u001b[0m\u001b[0;34m,\u001b[0m \u001b[0;36m2\u001b[0m\u001b[0;34m)\u001b[0m\u001b[0;34m\u001b[0m\u001b[0m\n\u001b[0m\u001b[1;32m      3\u001b[0m \u001b[0mpickle\u001b[0m\u001b[0;34m.\u001b[0m\u001b[0mdump\u001b[0m\u001b[0;34m(\u001b[0m\u001b[0mtransformer\u001b[0m\u001b[0;34m,\u001b[0m \u001b[0mopen\u001b[0m\u001b[0;34m(\u001b[0m\u001b[0;34m\"../data/tfidf.model\"\u001b[0m\u001b[0;34m,\u001b[0m \u001b[0;34m\"wb\"\u001b[0m\u001b[0;34m)\u001b[0m\u001b[0;34m,\u001b[0m \u001b[0;36m2\u001b[0m\u001b[0;34m)\u001b[0m\u001b[0;34m\u001b[0m\u001b[0m\n",
      "\u001b[0;31mPicklingError\u001b[0m: Can't pickle <function <lambda> at 0x7fa42bc1cc80>: attribute lookup <lambda> on __main__ failed"
     ]
    }
   ],
   "source": [
    "import pickle\n",
    "pickle.dump(vectorizer, open(\"../data/countvector.model\", \"wb\"), 2)\n",
    "pickle.dump(transformer, open(\"../data/tfidf.model\", \"wb\"), 2)"
   ]
  },
  {
   "cell_type": "code",
   "execution_count": 141,
   "metadata": {
    "collapsed": false
   },
   "outputs": [],
   "source": [
    "corpus_tfidf_matrix = corpus_tfidf.toarray()"
   ]
  },
  {
   "cell_type": "code",
   "execution_count": 187,
   "metadata": {
    "collapsed": false
   },
   "outputs": [
    {
     "data": {
      "text/plain": [
       "array([0., 0., 0., ..., 0., 0., 0.])"
      ]
     },
     "execution_count": 187,
     "metadata": {},
     "output_type": "execute_result"
    }
   ],
   "source": [
    "corpus_tfidf_matrix[0,:]"
   ]
  },
  {
   "cell_type": "code",
   "execution_count": 193,
   "metadata": {
    "collapsed": false
   },
   "outputs": [],
   "source": [
    "corpus_score = []\n",
    "\n",
    "from scipy.spatial.distance import cosine\n",
    "\n",
    "for index in range(corpus_tfidf_matrix.shape[0] // 2):\n",
    "    score = 1 - cosine (corpus_tfidf_matrix[index], corpus_tfidf_matrix[corpus_tfidf_matrix.shape[0] // 2 + index])\n",
    "    corpus_score.append(score)"
   ]
  },
  {
   "cell_type": "code",
   "execution_count": 194,
   "metadata": {
    "collapsed": false
   },
   "outputs": [
    {
     "name": "stdout",
     "output_type": "stream",
     "text": [
      "102477\n",
      "[0.15332320955500145, 0.13355725898802795, 0.18722636995236308, 0.17166264784952778, 0.01327848353683303, 0.5879363410694937, 0.17244229649057707, 0.6766284643256223, 0.424806605060436, 0.0814398038883708]\n"
     ]
    }
   ],
   "source": [
    "print(len(corpus_score))\n",
    "print(corpus_score[:10])"
   ]
  },
  {
   "cell_type": "code",
   "execution_count": 195,
   "metadata": {
    "collapsed": false
   },
   "outputs": [
    {
     "data": {
      "text/plain": [
       "array([0, 0, 0, 1])"
      ]
     },
     "execution_count": 195,
     "metadata": {},
     "output_type": "execute_result"
    }
   ],
   "source": [
    "s = np.array([1, 2, 3, 4])\n",
    "s = s > 3\n",
    "s.astype(int)"
   ]
  },
  {
   "cell_type": "code",
   "execution_count": 196,
   "metadata": {
    "collapsed": false
   },
   "outputs": [
    {
     "data": {
      "text/plain": [
       "array([0, 0, 0, ..., 0, 0, 0])"
      ]
     },
     "execution_count": 196,
     "metadata": {},
     "output_type": "execute_result"
    }
   ],
   "source": [
    "corpus_score_ = np.array(corpus_score)\n",
    "corpus_score_ = corpus_score_ > 0.5\n",
    "predicted = corpus_score_.astype(int)\n",
    "predicted"
   ]
  },
  {
   "cell_type": "code",
   "execution_count": 197,
   "metadata": {
    "collapsed": false
   },
   "outputs": [
    {
     "name": "stdout",
     "output_type": "stream",
     "text": [
      "15564\n"
     ]
    },
    {
     "data": {
      "text/plain": [
       "array([1, 1, 1, ..., 1, 1, 1])"
      ]
     },
     "execution_count": 197,
     "metadata": {},
     "output_type": "execute_result"
    }
   ],
   "source": [
    "print(len(predicted[predicted == 1]))\n",
    "predicted[predicted == 1]"
   ]
  },
  {
   "cell_type": "code",
   "execution_count": 198,
   "metadata": {
    "collapsed": true
   },
   "outputs": [],
   "source": [
    "label = data[\"label\"].values"
   ]
  },
  {
   "cell_type": "code",
   "execution_count": 199,
   "metadata": {
    "collapsed": false
   },
   "outputs": [
    {
     "name": "stdout",
     "output_type": "stream",
     "text": [
      "             precision    recall  f1-score   support\n",
      "\n",
      "          0       0.85      0.88      0.86     83792\n",
      "          1       0.35      0.29      0.32     18685\n",
      "\n",
      "avg / total       0.76      0.77      0.76    102477\n",
      "\n"
     ]
    }
   ],
   "source": [
    "print(sklearn.metrics.classification_report(label, predicted))"
   ]
  },
  {
   "cell_type": "code",
   "execution_count": 200,
   "metadata": {
    "collapsed": true
   },
   "outputs": [],
   "source": [
    "data[\"sim_score\"] = corpus_score"
   ]
  },
  {
   "cell_type": "code",
   "execution_count": 201,
   "metadata": {
    "collapsed": false
   },
   "outputs": [
    {
     "data": {
      "text/html": [
       "<div>\n",
       "<table border=\"1\" class=\"dataframe\">\n",
       "  <thead>\n",
       "    <tr style=\"text-align: right;\">\n",
       "      <th></th>\n",
       "      <th>sent_1</th>\n",
       "      <th>sent_2</th>\n",
       "      <th>label</th>\n",
       "      <th>sent_1_seg</th>\n",
       "      <th>sent_2_seg</th>\n",
       "      <th>sim_score</th>\n",
       "    </tr>\n",
       "  </thead>\n",
       "  <tbody>\n",
       "    <tr>\n",
       "      <th>0</th>\n",
       "      <td>﻿怎么更改花呗手机号码</td>\n",
       "      <td>我的花呗是以前的手机号码，怎么更改成现在的支付宝的号码手机号</td>\n",
       "      <td>1</td>\n",
       "      <td>﻿ 怎么 更改 花呗 手机号码</td>\n",
       "      <td>我 的 花呗 是 以前 的 手机号码 ， 怎么 更 改成 现在 的 支付宝 的 号码 手机号</td>\n",
       "      <td>0.153323</td>\n",
       "    </tr>\n",
       "    <tr>\n",
       "      <th>1</th>\n",
       "      <td>也开不了花呗，就这样了？完事了</td>\n",
       "      <td>真的嘛？就是花呗付款</td>\n",
       "      <td>0</td>\n",
       "      <td>也 开 不了 花呗 ， 就 这样 了 ？ 完事 了</td>\n",
       "      <td>真的 嘛 ？ 就是 花呗 付款</td>\n",
       "      <td>0.133557</td>\n",
       "    </tr>\n",
       "    <tr>\n",
       "      <th>2</th>\n",
       "      <td>花呗冻结以后还能开通吗</td>\n",
       "      <td>我的条件可以开通花呗借款吗</td>\n",
       "      <td>0</td>\n",
       "      <td>花呗 冻结 以后 还 能 开通 吗</td>\n",
       "      <td>我 的 条件 可以 开通 花呗 借款 吗</td>\n",
       "      <td>0.187226</td>\n",
       "    </tr>\n",
       "    <tr>\n",
       "      <th>3</th>\n",
       "      <td>如何得知关闭借呗</td>\n",
       "      <td>想永久关闭借呗</td>\n",
       "      <td>0</td>\n",
       "      <td>如何 得知 关闭 借呗</td>\n",
       "      <td>想 永久 关闭 借呗</td>\n",
       "      <td>0.171663</td>\n",
       "    </tr>\n",
       "    <tr>\n",
       "      <th>4</th>\n",
       "      <td>花呗扫码付钱</td>\n",
       "      <td>二维码扫描可以用花呗吗</td>\n",
       "      <td>0</td>\n",
       "      <td>花呗 扫 码 付钱</td>\n",
       "      <td>二维码 扫描 可以 用 花呗 吗</td>\n",
       "      <td>0.013278</td>\n",
       "    </tr>\n",
       "    <tr>\n",
       "      <th>5</th>\n",
       "      <td>花呗逾期后不能分期吗</td>\n",
       "      <td>我这个 逾期后还完了 最低还款 后 能分期吗</td>\n",
       "      <td>0</td>\n",
       "      <td>花呗 逾期 后 不能 分期 吗</td>\n",
       "      <td>我 这个   逾期 后 还 完 了   最低 还款   后   能 分期 吗</td>\n",
       "      <td>0.587936</td>\n",
       "    </tr>\n",
       "    <tr>\n",
       "      <th>6</th>\n",
       "      <td>花呗分期清空</td>\n",
       "      <td>花呗分期查询</td>\n",
       "      <td>0</td>\n",
       "      <td>花呗 分期 清空</td>\n",
       "      <td>花呗 分期 查询</td>\n",
       "      <td>0.172442</td>\n",
       "    </tr>\n",
       "    <tr>\n",
       "      <th>7</th>\n",
       "      <td>借呗逾期短信通知</td>\n",
       "      <td>如何购买花呗短信通知</td>\n",
       "      <td>0</td>\n",
       "      <td>借呗 逾期 短信 通知</td>\n",
       "      <td>如何 购买 花呗 短信 通知</td>\n",
       "      <td>0.676628</td>\n",
       "    </tr>\n",
       "    <tr>\n",
       "      <th>8</th>\n",
       "      <td>借呗即将到期要还的账单还能分期吗</td>\n",
       "      <td>借呗要分期还，是吗</td>\n",
       "      <td>0</td>\n",
       "      <td>借呗 即将 到期 要 还 的 账单 还 能 分期 吗</td>\n",
       "      <td>借呗 要 分期 还 ， 是 吗</td>\n",
       "      <td>0.424807</td>\n",
       "    </tr>\n",
       "    <tr>\n",
       "      <th>9</th>\n",
       "      <td>花呗为什么不能支付手机交易</td>\n",
       "      <td>花呗透支了为什么不可以继续用了</td>\n",
       "      <td>0</td>\n",
       "      <td>花呗 为什么 不能 支付 手机 交易</td>\n",
       "      <td>花呗 透支 了 为什么 不 可以 继续 用 了</td>\n",
       "      <td>0.081440</td>\n",
       "    </tr>\n",
       "    <tr>\n",
       "      <th>10</th>\n",
       "      <td>在吗，双***有临时花呗额度吗</td>\n",
       "      <td>花呗临时额度到时间怎么办</td>\n",
       "      <td>0</td>\n",
       "      <td>在 吗 ， 双 * * * 有 临时 花呗 额度 吗</td>\n",
       "      <td>花呗 临时 额度 到 时间 怎么办</td>\n",
       "      <td>0.211745</td>\n",
       "    </tr>\n",
       "    <tr>\n",
       "      <th>11</th>\n",
       "      <td>我什么时候开通了花呗</td>\n",
       "      <td>查我什么时候用过，花呗</td>\n",
       "      <td>0</td>\n",
       "      <td>我 什么 时候 开通 了 花呗</td>\n",
       "      <td>查 我 什么 时候 用 过 ， 花呗</td>\n",
       "      <td>0.479722</td>\n",
       "    </tr>\n",
       "    <tr>\n",
       "      <th>12</th>\n",
       "      <td>花呗每月还了最低还款后还会有万分之五的利息吗</td>\n",
       "      <td>花呗每个月最低还款怎么算</td>\n",
       "      <td>0</td>\n",
       "      <td>花呗 每月 还 了 最低 还款 后 还 会 有 万分之 五 的 利息 吗</td>\n",
       "      <td>花呗 每个 月 最低 还款 怎么 算</td>\n",
       "      <td>0.171973</td>\n",
       "    </tr>\n",
       "    <tr>\n",
       "      <th>13</th>\n",
       "      <td>我想用蚂蚁借呗怎么用不了</td>\n",
       "      <td>蚂蚁借呗设置了一次性还款，现在想分期还款，怎么操作</td>\n",
       "      <td>0</td>\n",
       "      <td>我 想 用 蚂蚁 借呗 怎么 用 不了</td>\n",
       "      <td>蚂蚁 借呗 设置 了 一次性 还款 ， 现在 想 分期 还款 ， 怎么 操作</td>\n",
       "      <td>0.281373</td>\n",
       "    </tr>\n",
       "    <tr>\n",
       "      <th>14</th>\n",
       "      <td>花呗也不能用了</td>\n",
       "      <td>花呗没用过</td>\n",
       "      <td>0</td>\n",
       "      <td>花呗 也 不能 用 了</td>\n",
       "      <td>花呗 没用过</td>\n",
       "      <td>0.028434</td>\n",
       "    </tr>\n",
       "    <tr>\n",
       "      <th>15</th>\n",
       "      <td>花呗的安全没有验证成功</td>\n",
       "      <td>花呗安全验证没通过怎么回事</td>\n",
       "      <td>1</td>\n",
       "      <td>花呗 的 安全 没有 验证 成功</td>\n",
       "      <td>花呗 安全 验证 没 通过 怎么回事</td>\n",
       "      <td>0.571352</td>\n",
       "    </tr>\n",
       "    <tr>\n",
       "      <th>16</th>\n",
       "      <td>我开通不了借呗</td>\n",
       "      <td>我要申请借呗</td>\n",
       "      <td>0</td>\n",
       "      <td>我 开通 不了 借呗</td>\n",
       "      <td>我 要 申请 借呗</td>\n",
       "      <td>0.217774</td>\n",
       "    </tr>\n",
       "    <tr>\n",
       "      <th>17</th>\n",
       "      <td>借呗还款了，额度未恢复</td>\n",
       "      <td>借呗还款后额度没有恢复还显示借款</td>\n",
       "      <td>1</td>\n",
       "      <td>借呗 还款 了 ， 额度 未 恢复</td>\n",
       "      <td>借呗 还款 后 额度 没有 恢复 还 显示 借款</td>\n",
       "      <td>0.431169</td>\n",
       "    </tr>\n",
       "    <tr>\n",
       "      <th>18</th>\n",
       "      <td>就是我花呗忘记还款了。逾期一天。有事吗</td>\n",
       "      <td>花呗账单在到期当天还款是逾期吗</td>\n",
       "      <td>0</td>\n",
       "      <td>就是 我 花呗 忘记 还款 了 。 逾期 一天 。 有事吗</td>\n",
       "      <td>花呗 账单 在 到期 当天 还款 是 逾期 吗</td>\n",
       "      <td>0.112152</td>\n",
       "    </tr>\n",
       "    <tr>\n",
       "      <th>19</th>\n",
       "      <td>我问你我借呗怎么要还钱</td>\n",
       "      <td>怎么一次性还蚂蚁借呗</td>\n",
       "      <td>0</td>\n",
       "      <td>我 问 你 我 借呗 怎么 要 还 钱</td>\n",
       "      <td>怎么 一次性 还 蚂蚁 借呗</td>\n",
       "      <td>0.191452</td>\n",
       "    </tr>\n",
       "    <tr>\n",
       "      <th>20</th>\n",
       "      <td>是否有花呗就不可以借呗</td>\n",
       "      <td>不实用花呗就没有借呗吗</td>\n",
       "      <td>0</td>\n",
       "      <td>是否 有 花呗 就 不 可以 借呗</td>\n",
       "      <td>不 实用 花呗 就 没有 借呗 吗</td>\n",
       "      <td>0.348088</td>\n",
       "    </tr>\n",
       "    <tr>\n",
       "      <th>21</th>\n",
       "      <td>闲鱼可以使用花呗吗</td>\n",
       "      <td>花呗可以在闲鱼上面交易吗</td>\n",
       "      <td>1</td>\n",
       "      <td>闲鱼 可以 使用 花呗 吗</td>\n",
       "      <td>花呗 可以 在 闲鱼 上面 交易 吗</td>\n",
       "      <td>0.658703</td>\n",
       "    </tr>\n",
       "    <tr>\n",
       "      <th>22</th>\n",
       "      <td>花呗可以买手机吗</td>\n",
       "      <td>花呗逾期一天可以么</td>\n",
       "      <td>0</td>\n",
       "      <td>花呗 可以 买手机 吗</td>\n",
       "      <td>花呗 逾期 一天 可以 么</td>\n",
       "      <td>0.131782</td>\n",
       "    </tr>\n",
       "    <tr>\n",
       "      <th>23</th>\n",
       "      <td>借呗每月还款时间</td>\n",
       "      <td>借呗多少天还款</td>\n",
       "      <td>0</td>\n",
       "      <td>借呗 每月 还款 时间</td>\n",
       "      <td>借呗 多少 天 还款</td>\n",
       "      <td>0.167971</td>\n",
       "    </tr>\n",
       "    <tr>\n",
       "      <th>24</th>\n",
       "      <td>花呗更改绑定银行卡</td>\n",
       "      <td>如何更换花呗绑定银行卡</td>\n",
       "      <td>1</td>\n",
       "      <td>花呗 更改 绑定 银行卡</td>\n",
       "      <td>如何 更换 花呗 绑定 银行卡</td>\n",
       "      <td>0.481815</td>\n",
       "    </tr>\n",
       "    <tr>\n",
       "      <th>25</th>\n",
       "      <td>人脸验证开通花呗</td>\n",
       "      <td>花呗怎么验证</td>\n",
       "      <td>0</td>\n",
       "      <td>人脸 验证 开通 花呗</td>\n",
       "      <td>花呗 怎么 验证</td>\n",
       "      <td>0.556790</td>\n",
       "    </tr>\n",
       "    <tr>\n",
       "      <th>26</th>\n",
       "      <td>借呗可以提前还第一期吗</td>\n",
       "      <td>蚂蚁借呗借款可以提前一次性还清吗</td>\n",
       "      <td>0</td>\n",
       "      <td>借呗 可以 提前 还 第一期 吗</td>\n",
       "      <td>蚂蚁 借呗 借款 可以 提前 一次性 还清 吗</td>\n",
       "      <td>0.304141</td>\n",
       "    </tr>\n",
       "    <tr>\n",
       "      <th>27</th>\n",
       "      <td>花呗付款成功为何美团显示支付超时</td>\n",
       "      <td>美团订单没显示付款成功但是花呗显示付了三遍订单</td>\n",
       "      <td>0</td>\n",
       "      <td>花呗 付款 成功 为何 美团 显示 支付 超时</td>\n",
       "      <td>美团 订单 没 显示 付款 成功 但是 花呗 显示 付 了 三遍 订单</td>\n",
       "      <td>0.345792</td>\n",
       "    </tr>\n",
       "    <tr>\n",
       "      <th>28</th>\n",
       "      <td>花呗我已经还了，现在要还借呗</td>\n",
       "      <td>我上个月已经还过的一笔，现在退回来的钱怎么还直接退回花呗</td>\n",
       "      <td>0</td>\n",
       "      <td>花呗 我 已经 还 了 ， 现在 要 还 借呗</td>\n",
       "      <td>我 上个月 已经 还 过 的 一笔 ， 现在 退回来 的 钱 怎么 还 直接 退回 花呗</td>\n",
       "      <td>0.402801</td>\n",
       "    </tr>\n",
       "    <tr>\n",
       "      <th>29</th>\n",
       "      <td>国外账户可以开通借呗吗</td>\n",
       "      <td>借呗逾期还能开通吗</td>\n",
       "      <td>0</td>\n",
       "      <td>国外 账户 可以 开通 借呗 吗</td>\n",
       "      <td>借呗 逾期 还 能 开通 吗</td>\n",
       "      <td>0.234761</td>\n",
       "    </tr>\n",
       "    <tr>\n",
       "      <th>...</th>\n",
       "      <td>...</td>\n",
       "      <td>...</td>\n",
       "      <td>...</td>\n",
       "      <td>...</td>\n",
       "      <td>...</td>\n",
       "      <td>...</td>\n",
       "    </tr>\n",
       "    <tr>\n",
       "      <th>102447</th>\n",
       "      <td>我想提前把花呗还了</td>\n",
       "      <td>花呗逾期提前还</td>\n",
       "      <td>0</td>\n",
       "      <td>我 想 提前 把 花呗 还 了</td>\n",
       "      <td>花呗 逾期 提前 还</td>\n",
       "      <td>0.441847</td>\n",
       "    </tr>\n",
       "    <tr>\n",
       "      <th>102448</th>\n",
       "      <td>商户最多可以有多少花呗收款额度</td>\n",
       "      <td>花呗退款后额度恢复多少</td>\n",
       "      <td>0</td>\n",
       "      <td>商户 最 多 可以 有 多少 花呗 收款 额度</td>\n",
       "      <td>花呗 退款 后 额度 恢复 多少</td>\n",
       "      <td>0.218038</td>\n",
       "    </tr>\n",
       "    <tr>\n",
       "      <th>102449</th>\n",
       "      <td>借呗的按期还款可以设置为手动还款吗</td>\n",
       "      <td>借呗自动还款失败后手动还款</td>\n",
       "      <td>0</td>\n",
       "      <td>借呗 的 按期 还款 可以 设置 为 手动 还款 吗</td>\n",
       "      <td>借呗 自动 还款 失败 后 手动 还款</td>\n",
       "      <td>0.440687</td>\n",
       "    </tr>\n",
       "    <tr>\n",
       "      <th>102450</th>\n",
       "      <td>转账不可以用花呗里面的钱吗</td>\n",
       "      <td>花呗里的钱可以转到支付宝余额里吗</td>\n",
       "      <td>0</td>\n",
       "      <td>转账 不 可以 用 花呗 里面 的 钱 吗</td>\n",
       "      <td>花呗 里 的 钱 可以 转 到 支付宝 余额 里 吗</td>\n",
       "      <td>0.191500</td>\n",
       "    </tr>\n",
       "    <tr>\n",
       "      <th>102451</th>\n",
       "      <td>我为啥没有 花呗和借呗</td>\n",
       "      <td>借呗和花呗为什么用不了</td>\n",
       "      <td>0</td>\n",
       "      <td>我 为啥 没有   花呗 和 借呗</td>\n",
       "      <td>借呗 和 花呗 为什么 用 不了</td>\n",
       "      <td>0.395082</td>\n",
       "    </tr>\n",
       "    <tr>\n",
       "      <th>102452</th>\n",
       "      <td>花呗是使用和借呗的使用冲突吗</td>\n",
       "      <td>花呗和借呗一样的是吗</td>\n",
       "      <td>0</td>\n",
       "      <td>花呗 是 使用 和 借呗 的 使用 冲突 吗</td>\n",
       "      <td>花呗 和 借呗 一样 的 是 吗</td>\n",
       "      <td>0.395644</td>\n",
       "    </tr>\n",
       "    <tr>\n",
       "      <th>102453</th>\n",
       "      <td>为什么本月花呗账单不能分期</td>\n",
       "      <td>花呗分期账单数额错误</td>\n",
       "      <td>0</td>\n",
       "      <td>为什么 本月 花呗 账单 不能 分期</td>\n",
       "      <td>花呗 分期 账单 数额 错误</td>\n",
       "      <td>0.248973</td>\n",
       "    </tr>\n",
       "    <tr>\n",
       "      <th>102454</th>\n",
       "      <td>如何关闭首选花呗</td>\n",
       "      <td>花呗余额关闭</td>\n",
       "      <td>0</td>\n",
       "      <td>如何 关闭 首选 花呗</td>\n",
       "      <td>花呗 余额 关闭</td>\n",
       "      <td>0.309719</td>\n",
       "    </tr>\n",
       "    <tr>\n",
       "      <th>102455</th>\n",
       "      <td>共享单车可以使用蚂蚁花呗吗</td>\n",
       "      <td>用蚂蚁花呗能刷共享单车吗</td>\n",
       "      <td>1</td>\n",
       "      <td>共享 单车 可以 使用 蚂蚁花呗 吗</td>\n",
       "      <td>用 蚂蚁花呗 能 刷 共享 单车 吗</td>\n",
       "      <td>0.747862</td>\n",
       "    </tr>\n",
       "    <tr>\n",
       "      <th>102456</th>\n",
       "      <td>花呗是否可在闲鱼上使用</td>\n",
       "      <td>花呗可以用于闲鱼吗</td>\n",
       "      <td>1</td>\n",
       "      <td>花呗 是否 可 在 闲鱼 上 使用</td>\n",
       "      <td>花呗 可以 用于 闲鱼 吗</td>\n",
       "      <td>0.460735</td>\n",
       "    </tr>\n",
       "    <tr>\n",
       "      <th>102457</th>\n",
       "      <td>我是***月***号用的花呗，是不是只要在***月***号还完就不用利息</td>\n",
       "      <td>不使用花呗是不是就不用还利息</td>\n",
       "      <td>0</td>\n",
       "      <td>我 是 * * * 月 * * * 号 用 的 花呗 ， 是不是 只要 在 * * * 月 ...</td>\n",
       "      <td>不 使用 花呗 是不是 就 不用 还 利息</td>\n",
       "      <td>0.199579</td>\n",
       "    </tr>\n",
       "    <tr>\n",
       "      <th>102458</th>\n",
       "      <td>借呗可逾期多久</td>\n",
       "      <td>逾期了两次还可以借呗不</td>\n",
       "      <td>0</td>\n",
       "      <td>借呗 可 逾期 多久</td>\n",
       "      <td>逾期 了 两次 还 可以 借呗 不</td>\n",
       "      <td>0.230950</td>\n",
       "    </tr>\n",
       "    <tr>\n",
       "      <th>102459</th>\n",
       "      <td>我已经通过淘宝给商家付了七十九，为什么花呗上面显示我还应该还***</td>\n",
       "      <td>我已经用花呗支付过***次了，为什么没显示</td>\n",
       "      <td>0</td>\n",
       "      <td>我 已经 通过 淘宝 给 商家 付 了 七十九 ， 为什么 花呗 上面 显示 我 还 应该 ...</td>\n",
       "      <td>我 已经 用 花呗 支付 过 * * * 次 了 ， 为什么 没 显示</td>\n",
       "      <td>0.433189</td>\n",
       "    </tr>\n",
       "    <tr>\n",
       "      <th>102460</th>\n",
       "      <td>经常花呗分期有什么影响</td>\n",
       "      <td>花呗分期还会对芝麻分有影响吗</td>\n",
       "      <td>1</td>\n",
       "      <td>经常 花呗 分期 有 什么 影响</td>\n",
       "      <td>花呗 分期 还 会 对 芝麻 分 有 影响 吗</td>\n",
       "      <td>0.335353</td>\n",
       "    </tr>\n",
       "    <tr>\n",
       "      <th>102461</th>\n",
       "      <td>直接花呗界面这个账单多好</td>\n",
       "      <td>花呗已经关了，现在这个账户，然后开通不了花呗</td>\n",
       "      <td>0</td>\n",
       "      <td>直接 花呗 界面 这个 账单 多 好</td>\n",
       "      <td>花呗 已经 关 了 ， 现在 这个 账户 ， 然后 开通 不了 花呗</td>\n",
       "      <td>0.108722</td>\n",
       "    </tr>\n",
       "    <tr>\n",
       "      <th>102462</th>\n",
       "      <td>为什么跨店用的购物津贴不能用花呗付款</td>\n",
       "      <td>使用花呗付款的话，还能用购物津贴和红包吗</td>\n",
       "      <td>1</td>\n",
       "      <td>为什么 跨 店 用 的 购物 津贴 不能 用 花呗 付款</td>\n",
       "      <td>使用 花呗 付款 的话 ， 还 能 用 购物 津贴 和 红包 吗</td>\n",
       "      <td>0.416937</td>\n",
       "    </tr>\n",
       "    <tr>\n",
       "      <th>102463</th>\n",
       "      <td>我的花呗什么时候能用</td>\n",
       "      <td>花呗到什么时候收钱</td>\n",
       "      <td>0</td>\n",
       "      <td>我 的 花呗 什么 时候 能 用</td>\n",
       "      <td>花呗 到 什么 时候 收钱</td>\n",
       "      <td>0.466734</td>\n",
       "    </tr>\n",
       "    <tr>\n",
       "      <th>102464</th>\n",
       "      <td>每个商品单独付款都是可以花呗</td>\n",
       "      <td>是不是所有可以支付宝付款的店家都可以用花呗付款</td>\n",
       "      <td>0</td>\n",
       "      <td>每个 商品 单独 付款 都 是 可以 花呗</td>\n",
       "      <td>是不是 所有 可以 支付宝 付款 的 店家 都 可以 用 花呗 付款</td>\n",
       "      <td>0.287773</td>\n",
       "    </tr>\n",
       "    <tr>\n",
       "      <th>102465</th>\n",
       "      <td>为什么不同的人借呗利息不一样</td>\n",
       "      <td>问，为什么我在借呗上借两万，分六期，为什么每期的利息都不一样</td>\n",
       "      <td>1</td>\n",
       "      <td>为什么 不同 的 人 借呗 利息 不 一样</td>\n",
       "      <td>问 ， 为什么 我 在 借呗 上 借 两万 ， 分 六期 ， 为什么 每期 的 利息 都 不 一样</td>\n",
       "      <td>0.302761</td>\n",
       "    </tr>\n",
       "    <tr>\n",
       "      <th>102466</th>\n",
       "      <td>花呗的花呗的款式，确认收货以后才扣的吗</td>\n",
       "      <td>使用花呗付款要点确认收货吗</td>\n",
       "      <td>0</td>\n",
       "      <td>花呗 的 花呗 的 款式 ， 确认 收货 以后 才 扣 的 吗</td>\n",
       "      <td>使用 花呗 付款 要点 确认 收货 吗</td>\n",
       "      <td>0.309850</td>\n",
       "    </tr>\n",
       "    <tr>\n",
       "      <th>102467</th>\n",
       "      <td>花呗分期，影响借呗吗</td>\n",
       "      <td>我的借呗每个月分期准时还会影响信用吗</td>\n",
       "      <td>0</td>\n",
       "      <td>花呗 分期 ， 影响 借呗 吗</td>\n",
       "      <td>我 的 借呗 每个 月 分期 准时 还 会 影响 信用 吗</td>\n",
       "      <td>0.386757</td>\n",
       "    </tr>\n",
       "    <tr>\n",
       "      <th>102468</th>\n",
       "      <td>借呗怎么还款</td>\n",
       "      <td>我想从借唄借两万，按期还款，每月应该还多少，利息怎么算</td>\n",
       "      <td>0</td>\n",
       "      <td>借呗 怎么 还款</td>\n",
       "      <td>我 想 从 借 唄 借 两万 ， 按期 还款 ， 每月 应该 还 多少 ， 利息 怎么 算</td>\n",
       "      <td>0.139405</td>\n",
       "    </tr>\n",
       "    <tr>\n",
       "      <th>102469</th>\n",
       "      <td>如何设置花呗改款顺序</td>\n",
       "      <td>蚂蚁花呗还款顺序</td>\n",
       "      <td>0</td>\n",
       "      <td>如何 设置 花呗 改 款 顺序</td>\n",
       "      <td>蚂蚁花呗 还款 顺序</td>\n",
       "      <td>0.495514</td>\n",
       "    </tr>\n",
       "    <tr>\n",
       "      <th>102470</th>\n",
       "      <td>支付宝客服电话多少</td>\n",
       "      <td>客服电话多少</td>\n",
       "      <td>1</td>\n",
       "      <td>支付宝 客服 电话 多少</td>\n",
       "      <td>客服 电话 多少</td>\n",
       "      <td>0.943845</td>\n",
       "    </tr>\n",
       "    <tr>\n",
       "      <th>102471</th>\n",
       "      <td>我在淘宝买东西的话，钱不够时可以使用花呗吗</td>\n",
       "      <td>我买东西不是在淘宝上买能用花呗吗</td>\n",
       "      <td>0</td>\n",
       "      <td>我 在 淘宝 买 东西 的话 ， 钱 不够 时 可以 使用 花呗 吗</td>\n",
       "      <td>我 买 东西 不是 在 淘宝 上 买 能 用 花呗 吗</td>\n",
       "      <td>0.485152</td>\n",
       "    </tr>\n",
       "    <tr>\n",
       "      <th>102472</th>\n",
       "      <td>花呗分期还一期后能用吗</td>\n",
       "      <td>分期是还花呗吗</td>\n",
       "      <td>0</td>\n",
       "      <td>花呗 分期 还 一期 后 能 用 吗</td>\n",
       "      <td>分期 是 还 花呗 吗</td>\n",
       "      <td>0.410152</td>\n",
       "    </tr>\n",
       "    <tr>\n",
       "      <th>102473</th>\n",
       "      <td>我的支付宝手机号很花呗手机号不一样怎么办</td>\n",
       "      <td>支付宝上的手机号，怎么和花呗上的不一样</td>\n",
       "      <td>1</td>\n",
       "      <td>我 的 支付宝 手机号 很 花呗 手机号 不 一样 怎么办</td>\n",
       "      <td>支付宝 上 的 手机号 ， 怎么 和 花呗 上 的 不 一样</td>\n",
       "      <td>0.528250</td>\n",
       "    </tr>\n",
       "    <tr>\n",
       "      <th>102474</th>\n",
       "      <td>借呗这个月的分期晚几天还可以吗</td>\n",
       "      <td>借呗分期后可以更改分期时间吗</td>\n",
       "      <td>0</td>\n",
       "      <td>借呗 这个 月 的 分期 晚 几天 还 可以 吗</td>\n",
       "      <td>借呗 分期 后 可以 更改 分期 时间 吗</td>\n",
       "      <td>0.261084</td>\n",
       "    </tr>\n",
       "    <tr>\n",
       "      <th>102475</th>\n",
       "      <td>我怎么没有花呗临时额度了</td>\n",
       "      <td>花呗有零时额度吗</td>\n",
       "      <td>0</td>\n",
       "      <td>我 怎么 没有 花呗 临时 额度 了</td>\n",
       "      <td>花呗 有 零时 额度 吗</td>\n",
       "      <td>0.151306</td>\n",
       "    </tr>\n",
       "    <tr>\n",
       "      <th>102476</th>\n",
       "      <td>怎么授权芝麻信用给花呗</td>\n",
       "      <td>花呗授权联系人怎么授权</td>\n",
       "      <td>0</td>\n",
       "      <td>怎么 授权 芝麻 信用 给 花呗</td>\n",
       "      <td>花呗 授权 联系人 怎么 授权</td>\n",
       "      <td>0.470447</td>\n",
       "    </tr>\n",
       "  </tbody>\n",
       "</table>\n",
       "<p>102477 rows × 6 columns</p>\n",
       "</div>"
      ],
      "text/plain": [
       "                                      sent_1                          sent_2  \\\n",
       "0                                ﻿怎么更改花呗手机号码  我的花呗是以前的手机号码，怎么更改成现在的支付宝的号码手机号   \n",
       "1                            也开不了花呗，就这样了？完事了                      真的嘛？就是花呗付款   \n",
       "2                                花呗冻结以后还能开通吗                   我的条件可以开通花呗借款吗   \n",
       "3                                   如何得知关闭借呗                         想永久关闭借呗   \n",
       "4                                     花呗扫码付钱                     二维码扫描可以用花呗吗   \n",
       "5                                 花呗逾期后不能分期吗          我这个 逾期后还完了 最低还款 后 能分期吗   \n",
       "6                                     花呗分期清空                          花呗分期查询   \n",
       "7                                   借呗逾期短信通知                      如何购买花呗短信通知   \n",
       "8                           借呗即将到期要还的账单还能分期吗                       借呗要分期还，是吗   \n",
       "9                              花呗为什么不能支付手机交易                 花呗透支了为什么不可以继续用了   \n",
       "10                           在吗，双***有临时花呗额度吗                    花呗临时额度到时间怎么办   \n",
       "11                                我什么时候开通了花呗                     查我什么时候用过，花呗   \n",
       "12                    花呗每月还了最低还款后还会有万分之五的利息吗                    花呗每个月最低还款怎么算   \n",
       "13                              我想用蚂蚁借呗怎么用不了       蚂蚁借呗设置了一次性还款，现在想分期还款，怎么操作   \n",
       "14                                   花呗也不能用了                           花呗没用过   \n",
       "15                               花呗的安全没有验证成功                   花呗安全验证没通过怎么回事   \n",
       "16                                   我开通不了借呗                          我要申请借呗   \n",
       "17                               借呗还款了，额度未恢复                借呗还款后额度没有恢复还显示借款   \n",
       "18                       就是我花呗忘记还款了。逾期一天。有事吗                 花呗账单在到期当天还款是逾期吗   \n",
       "19                               我问你我借呗怎么要还钱                      怎么一次性还蚂蚁借呗   \n",
       "20                               是否有花呗就不可以借呗                     不实用花呗就没有借呗吗   \n",
       "21                                 闲鱼可以使用花呗吗                    花呗可以在闲鱼上面交易吗   \n",
       "22                                  花呗可以买手机吗                       花呗逾期一天可以么   \n",
       "23                                  借呗每月还款时间                         借呗多少天还款   \n",
       "24                                 花呗更改绑定银行卡                     如何更换花呗绑定银行卡   \n",
       "25                                  人脸验证开通花呗                          花呗怎么验证   \n",
       "26                               借呗可以提前还第一期吗                蚂蚁借呗借款可以提前一次性还清吗   \n",
       "27                          花呗付款成功为何美团显示支付超时         美团订单没显示付款成功但是花呗显示付了三遍订单   \n",
       "28                            花呗我已经还了，现在要还借呗    我上个月已经还过的一笔，现在退回来的钱怎么还直接退回花呗   \n",
       "29                               国外账户可以开通借呗吗                       借呗逾期还能开通吗   \n",
       "...                                      ...                             ...   \n",
       "102447                             我想提前把花呗还了                         花呗逾期提前还   \n",
       "102448                       商户最多可以有多少花呗收款额度                     花呗退款后额度恢复多少   \n",
       "102449                     借呗的按期还款可以设置为手动还款吗                   借呗自动还款失败后手动还款   \n",
       "102450                         转账不可以用花呗里面的钱吗                花呗里的钱可以转到支付宝余额里吗   \n",
       "102451                           我为啥没有 花呗和借呗                     借呗和花呗为什么用不了   \n",
       "102452                        花呗是使用和借呗的使用冲突吗                      花呗和借呗一样的是吗   \n",
       "102453                         为什么本月花呗账单不能分期                      花呗分期账单数额错误   \n",
       "102454                              如何关闭首选花呗                          花呗余额关闭   \n",
       "102455                         共享单车可以使用蚂蚁花呗吗                    用蚂蚁花呗能刷共享单车吗   \n",
       "102456                           花呗是否可在闲鱼上使用                       花呗可以用于闲鱼吗   \n",
       "102457  我是***月***号用的花呗，是不是只要在***月***号还完就不用利息                  不使用花呗是不是就不用还利息   \n",
       "102458                               借呗可逾期多久                     逾期了两次还可以借呗不   \n",
       "102459     我已经通过淘宝给商家付了七十九，为什么花呗上面显示我还应该还***           我已经用花呗支付过***次了，为什么没显示   \n",
       "102460                           经常花呗分期有什么影响                  花呗分期还会对芝麻分有影响吗   \n",
       "102461                          直接花呗界面这个账单多好          花呗已经关了，现在这个账户，然后开通不了花呗   \n",
       "102462                    为什么跨店用的购物津贴不能用花呗付款            使用花呗付款的话，还能用购物津贴和红包吗   \n",
       "102463                            我的花呗什么时候能用                       花呗到什么时候收钱   \n",
       "102464                        每个商品单独付款都是可以花呗         是不是所有可以支付宝付款的店家都可以用花呗付款   \n",
       "102465                        为什么不同的人借呗利息不一样  问，为什么我在借呗上借两万，分六期，为什么每期的利息都不一样   \n",
       "102466                   花呗的花呗的款式，确认收货以后才扣的吗                   使用花呗付款要点确认收货吗   \n",
       "102467                            花呗分期，影响借呗吗              我的借呗每个月分期准时还会影响信用吗   \n",
       "102468                                借呗怎么还款     我想从借唄借两万，按期还款，每月应该还多少，利息怎么算   \n",
       "102469                            如何设置花呗改款顺序                        蚂蚁花呗还款顺序   \n",
       "102470                             支付宝客服电话多少                          客服电话多少   \n",
       "102471                 我在淘宝买东西的话，钱不够时可以使用花呗吗                我买东西不是在淘宝上买能用花呗吗   \n",
       "102472                           花呗分期还一期后能用吗                         分期是还花呗吗   \n",
       "102473                  我的支付宝手机号很花呗手机号不一样怎么办             支付宝上的手机号，怎么和花呗上的不一样   \n",
       "102474                       借呗这个月的分期晚几天还可以吗                  借呗分期后可以更改分期时间吗   \n",
       "102475                          我怎么没有花呗临时额度了                        花呗有零时额度吗   \n",
       "102476                           怎么授权芝麻信用给花呗                     花呗授权联系人怎么授权   \n",
       "\n",
       "        label                                         sent_1_seg  \\\n",
       "0           1                                    ﻿ 怎么 更改 花呗 手机号码   \n",
       "1           0                          也 开 不了 花呗 ， 就 这样 了 ？ 完事 了   \n",
       "2           0                                  花呗 冻结 以后 还 能 开通 吗   \n",
       "3           0                                        如何 得知 关闭 借呗   \n",
       "4           0                                          花呗 扫 码 付钱   \n",
       "5           0                                    花呗 逾期 后 不能 分期 吗   \n",
       "6           0                                           花呗 分期 清空   \n",
       "7           0                                        借呗 逾期 短信 通知   \n",
       "8           0                         借呗 即将 到期 要 还 的 账单 还 能 分期 吗   \n",
       "9           0                                 花呗 为什么 不能 支付 手机 交易   \n",
       "10          0                         在 吗 ， 双 * * * 有 临时 花呗 额度 吗   \n",
       "11          0                                    我 什么 时候 开通 了 花呗   \n",
       "12          0               花呗 每月 还 了 最低 还款 后 还 会 有 万分之 五 的 利息 吗   \n",
       "13          0                                我 想 用 蚂蚁 借呗 怎么 用 不了   \n",
       "14          0                                        花呗 也 不能 用 了   \n",
       "15          1                                   花呗 的 安全 没有 验证 成功   \n",
       "16          0                                         我 开通 不了 借呗   \n",
       "17          1                                  借呗 还款 了 ， 额度 未 恢复   \n",
       "18          0                      就是 我 花呗 忘记 还款 了 。 逾期 一天 。 有事吗   \n",
       "19          0                                我 问 你 我 借呗 怎么 要 还 钱   \n",
       "20          0                                  是否 有 花呗 就 不 可以 借呗   \n",
       "21          1                                      闲鱼 可以 使用 花呗 吗   \n",
       "22          0                                        花呗 可以 买手机 吗   \n",
       "23          0                                        借呗 每月 还款 时间   \n",
       "24          1                                       花呗 更改 绑定 银行卡   \n",
       "25          0                                        人脸 验证 开通 花呗   \n",
       "26          0                                   借呗 可以 提前 还 第一期 吗   \n",
       "27          0                            花呗 付款 成功 为何 美团 显示 支付 超时   \n",
       "28          0                            花呗 我 已经 还 了 ， 现在 要 还 借呗   \n",
       "29          0                                   国外 账户 可以 开通 借呗 吗   \n",
       "...       ...                                                ...   \n",
       "102447      0                                    我 想 提前 把 花呗 还 了   \n",
       "102448      0                            商户 最 多 可以 有 多少 花呗 收款 额度   \n",
       "102449      0                         借呗 的 按期 还款 可以 设置 为 手动 还款 吗   \n",
       "102450      0                              转账 不 可以 用 花呗 里面 的 钱 吗   \n",
       "102451      0                                  我 为啥 没有   花呗 和 借呗   \n",
       "102452      0                             花呗 是 使用 和 借呗 的 使用 冲突 吗   \n",
       "102453      0                                 为什么 本月 花呗 账单 不能 分期   \n",
       "102454      0                                        如何 关闭 首选 花呗   \n",
       "102455      1                                 共享 单车 可以 使用 蚂蚁花呗 吗   \n",
       "102456      1                                  花呗 是否 可 在 闲鱼 上 使用   \n",
       "102457      0  我 是 * * * 月 * * * 号 用 的 花呗 ， 是不是 只要 在 * * * 月 ...   \n",
       "102458      0                                         借呗 可 逾期 多久   \n",
       "102459      0  我 已经 通过 淘宝 给 商家 付 了 七十九 ， 为什么 花呗 上面 显示 我 还 应该 ...   \n",
       "102460      1                                   经常 花呗 分期 有 什么 影响   \n",
       "102461      0                                 直接 花呗 界面 这个 账单 多 好   \n",
       "102462      1                       为什么 跨 店 用 的 购物 津贴 不能 用 花呗 付款   \n",
       "102463      0                                   我 的 花呗 什么 时候 能 用   \n",
       "102464      0                              每个 商品 单独 付款 都 是 可以 花呗   \n",
       "102465      1                              为什么 不同 的 人 借呗 利息 不 一样   \n",
       "102466      0                    花呗 的 花呗 的 款式 ， 确认 收货 以后 才 扣 的 吗   \n",
       "102467      0                                    花呗 分期 ， 影响 借呗 吗   \n",
       "102468      0                                           借呗 怎么 还款   \n",
       "102469      0                                    如何 设置 花呗 改 款 顺序   \n",
       "102470      1                                       支付宝 客服 电话 多少   \n",
       "102471      0                 我 在 淘宝 买 东西 的话 ， 钱 不够 时 可以 使用 花呗 吗   \n",
       "102472      0                                 花呗 分期 还 一期 后 能 用 吗   \n",
       "102473      1                      我 的 支付宝 手机号 很 花呗 手机号 不 一样 怎么办   \n",
       "102474      0                           借呗 这个 月 的 分期 晚 几天 还 可以 吗   \n",
       "102475      0                                 我 怎么 没有 花呗 临时 额度 了   \n",
       "102476      0                                   怎么 授权 芝麻 信用 给 花呗   \n",
       "\n",
       "                                               sent_2_seg  sim_score  \n",
       "0          我 的 花呗 是 以前 的 手机号码 ， 怎么 更 改成 现在 的 支付宝 的 号码 手机号   0.153323  \n",
       "1                                         真的 嘛 ？ 就是 花呗 付款   0.133557  \n",
       "2                                    我 的 条件 可以 开通 花呗 借款 吗   0.187226  \n",
       "3                                              想 永久 关闭 借呗   0.171663  \n",
       "4                                        二维码 扫描 可以 用 花呗 吗   0.013278  \n",
       "5                  我 这个   逾期 后 还 完 了   最低 还款   后   能 分期 吗   0.587936  \n",
       "6                                                花呗 分期 查询   0.172442  \n",
       "7                                          如何 购买 花呗 短信 通知   0.676628  \n",
       "8                                         借呗 要 分期 还 ， 是 吗   0.424807  \n",
       "9                                 花呗 透支 了 为什么 不 可以 继续 用 了   0.081440  \n",
       "10                                      花呗 临时 额度 到 时间 怎么办   0.211745  \n",
       "11                                     查 我 什么 时候 用 过 ， 花呗   0.479722  \n",
       "12                                     花呗 每个 月 最低 还款 怎么 算   0.171973  \n",
       "13                 蚂蚁 借呗 设置 了 一次性 还款 ， 现在 想 分期 还款 ， 怎么 操作   0.281373  \n",
       "14                                                 花呗 没用过   0.028434  \n",
       "15                                     花呗 安全 验证 没 通过 怎么回事   0.571352  \n",
       "16                                              我 要 申请 借呗   0.217774  \n",
       "17                               借呗 还款 后 额度 没有 恢复 还 显示 借款   0.431169  \n",
       "18                                花呗 账单 在 到期 当天 还款 是 逾期 吗   0.112152  \n",
       "19                                         怎么 一次性 还 蚂蚁 借呗   0.191452  \n",
       "20                                      不 实用 花呗 就 没有 借呗 吗   0.348088  \n",
       "21                                     花呗 可以 在 闲鱼 上面 交易 吗   0.658703  \n",
       "22                                          花呗 逾期 一天 可以 么   0.131782  \n",
       "23                                             借呗 多少 天 还款   0.167971  \n",
       "24                                        如何 更换 花呗 绑定 银行卡   0.481815  \n",
       "25                                               花呗 怎么 验证   0.556790  \n",
       "26                                蚂蚁 借呗 借款 可以 提前 一次性 还清 吗   0.304141  \n",
       "27                    美团 订单 没 显示 付款 成功 但是 花呗 显示 付 了 三遍 订单   0.345792  \n",
       "28           我 上个月 已经 还 过 的 一笔 ， 现在 退回来 的 钱 怎么 还 直接 退回 花呗   0.402801  \n",
       "29                                         借呗 逾期 还 能 开通 吗   0.234761  \n",
       "...                                                   ...        ...  \n",
       "102447                                         花呗 逾期 提前 还   0.441847  \n",
       "102448                                   花呗 退款 后 额度 恢复 多少   0.218038  \n",
       "102449                                借呗 自动 还款 失败 后 手动 还款   0.440687  \n",
       "102450                         花呗 里 的 钱 可以 转 到 支付宝 余额 里 吗   0.191500  \n",
       "102451                                   借呗 和 花呗 为什么 用 不了   0.395082  \n",
       "102452                                   花呗 和 借呗 一样 的 是 吗   0.395644  \n",
       "102453                                     花呗 分期 账单 数额 错误   0.248973  \n",
       "102454                                           花呗 余额 关闭   0.309719  \n",
       "102455                                 用 蚂蚁花呗 能 刷 共享 单车 吗   0.747862  \n",
       "102456                                      花呗 可以 用于 闲鱼 吗   0.460735  \n",
       "102457                              不 使用 花呗 是不是 就 不用 还 利息   0.199579  \n",
       "102458                                  逾期 了 两次 还 可以 借呗 不   0.230950  \n",
       "102459                我 已经 用 花呗 支付 过 * * * 次 了 ， 为什么 没 显示   0.433189  \n",
       "102460                            花呗 分期 还 会 对 芝麻 分 有 影响 吗   0.335353  \n",
       "102461                 花呗 已经 关 了 ， 现在 这个 账户 ， 然后 开通 不了 花呗   0.108722  \n",
       "102462                   使用 花呗 付款 的话 ， 还 能 用 购物 津贴 和 红包 吗   0.416937  \n",
       "102463                                      花呗 到 什么 时候 收钱   0.466734  \n",
       "102464                 是不是 所有 可以 支付宝 付款 的 店家 都 可以 用 花呗 付款   0.287773  \n",
       "102465  问 ， 为什么 我 在 借呗 上 借 两万 ， 分 六期 ， 为什么 每期 的 利息 都 不 一样   0.302761  \n",
       "102466                                使用 花呗 付款 要点 确认 收货 吗   0.309850  \n",
       "102467                      我 的 借呗 每个 月 分期 准时 还 会 影响 信用 吗   0.386757  \n",
       "102468      我 想 从 借 唄 借 两万 ， 按期 还款 ， 每月 应该 还 多少 ， 利息 怎么 算   0.139405  \n",
       "102469                                         蚂蚁花呗 还款 顺序   0.495514  \n",
       "102470                                           客服 电话 多少   0.943845  \n",
       "102471                        我 买 东西 不是 在 淘宝 上 买 能 用 花呗 吗   0.485152  \n",
       "102472                                        分期 是 还 花呗 吗   0.410152  \n",
       "102473                     支付宝 上 的 手机号 ， 怎么 和 花呗 上 的 不 一样   0.528250  \n",
       "102474                              借呗 分期 后 可以 更改 分期 时间 吗   0.261084  \n",
       "102475                                       花呗 有 零时 额度 吗   0.151306  \n",
       "102476                                    花呗 授权 联系人 怎么 授权   0.470447  \n",
       "\n",
       "[102477 rows x 6 columns]"
      ]
     },
     "execution_count": 201,
     "metadata": {},
     "output_type": "execute_result"
    }
   ],
   "source": [
    "data"
   ]
  },
  {
   "cell_type": "code",
   "execution_count": null,
   "metadata": {
    "collapsed": true
   },
   "outputs": [],
   "source": []
  }
 ],
 "metadata": {
  "anaconda-cloud": {},
  "kernelspec": {
   "display_name": "Python [default]",
   "language": "python",
   "name": "python3"
  },
  "language_info": {
   "codemirror_mode": {
    "name": "ipython",
    "version": 3
   },
   "file_extension": ".py",
   "mimetype": "text/x-python",
   "name": "python",
   "nbconvert_exporter": "python",
   "pygments_lexer": "ipython3",
   "version": "3.5.2"
  }
 },
 "nbformat": 4,
 "nbformat_minor": 2
}
