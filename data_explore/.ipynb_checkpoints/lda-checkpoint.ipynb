{
 "cells": [
  {
   "cell_type": "code",
   "execution_count": 3,
   "metadata": {
    "collapsed": true
   },
   "outputs": [],
   "source": [
    "import pickle\n",
    "import numpy as np\n",
    "import scipy\n",
    "import gensim\n",
    "import sklearn\n",
    "import pandas as pd"
   ]
  },
  {
   "cell_type": "code",
   "execution_count": 7,
   "metadata": {
    "collapsed": false
   },
   "outputs": [
    {
     "data": {
      "text/html": [
       "<div>\n",
       "<style scoped>\n",
       "    .dataframe tbody tr th:only-of-type {\n",
       "        vertical-align: middle;\n",
       "    }\n",
       "\n",
       "    .dataframe tbody tr th {\n",
       "        vertical-align: top;\n",
       "    }\n",
       "\n",
       "    .dataframe thead th {\n",
       "        text-align: right;\n",
       "    }\n",
       "</style>\n",
       "<table border=\"1\" class=\"dataframe\">\n",
       "  <thead>\n",
       "    <tr style=\"text-align: right;\">\n",
       "      <th></th>\n",
       "      <th>label</th>\n",
       "      <th>sent1</th>\n",
       "      <th>sent2</th>\n",
       "    </tr>\n",
       "  </thead>\n",
       "  <tbody>\n",
       "    <tr>\n",
       "      <th>0</th>\n",
       "      <td>1</td>\n",
       "      <td>﻿ 怎么 更改 花呗 手机号码</td>\n",
       "      <td>我 的 花呗 是 以前 的 手机号码 怎么 更 改成 现在 的 支付宝 的 号码 手机号</td>\n",
       "    </tr>\n",
       "    <tr>\n",
       "      <th>1</th>\n",
       "      <td>0</td>\n",
       "      <td>也 开 不了 花呗 就 这样 了 完事 了</td>\n",
       "      <td>真的 嘛 就是 花呗 付款</td>\n",
       "    </tr>\n",
       "  </tbody>\n",
       "</table>\n",
       "</div>"
      ],
      "text/plain": [
       "   label                  sent1                                         sent2\n",
       "0      1        ﻿ 怎么 更改 花呗 手机号码  我 的 花呗 是 以前 的 手机号码 怎么 更 改成 现在 的 支付宝 的 号码 手机号\n",
       "1      0  也 开 不了 花呗 就 这样 了 完事 了                                 真的 嘛 就是 花呗 付款"
      ]
     },
     "execution_count": 7,
     "metadata": {},
     "output_type": "execute_result"
    }
   ],
   "source": [
    "data = pd.read_csv(\"../data/sim_train_seg_process.csv\", sep=\"\\t\", header=None)\n",
    "data.columns = [\"label\", \"sent1\", \"sent2\"]\n",
    "data.head(2)"
   ]
  },
  {
   "cell_type": "code",
   "execution_count": 17,
   "metadata": {
    "collapsed": false
   },
   "outputs": [
    {
     "name": "stdout",
     "output_type": "stream",
     "text": [
      "﻿ 怎么 更改 花呗 手机号码\n",
      "('===the len of corpus===', 1)\n",
      "[['\\xef\\xbb\\xbf', '\\xe6\\x80\\x8e\\xe4\\xb9\\x88', '\\xe6\\x9b\\xb4\\xe6\\x94\\xb9', '\\xe8\\x8a\\xb1\\xe5\\x91\\x97', '\\xe6\\x89\\x8b\\xe6\\x9c\\xba\\xe5\\x8f\\xb7\\xe7\\xa0\\x81']]\n"
     ]
    }
   ],
   "source": [
    "doc_list = []\n",
    "for line in (list(data.sent1.values) + list(data.sent2.values)):\n",
    "    print(line)\n",
    "    doc_list.append(line.split(\" \"))\n",
    "    break\n",
    "print(\"===the len of corpus===\", len(doc_list))\n",
    "print(doc_list[:2])"
   ]
  },
  {
   "cell_type": "code",
   "execution_count": 9,
   "metadata": {
    "collapsed": true
   },
   "outputs": [],
   "source": [
    "from gensim.models import LdaModel\n",
    "from gensim import corpora\n",
    "from gensim.corpora import Dictionary\n",
    "\n",
    "dictionary = corpora.Dictionary(doc_list)\n",
    "corpus = [ dictionary.doc2bow(text) for text in doc_list ]"
   ]
  },
  {
   "cell_type": "code",
   "execution_count": 10,
   "metadata": {
    "collapsed": false
   },
   "outputs": [
    {
     "name": "stdout",
     "output_type": "stream",
     "text": [
      "(51, u'')\n",
      "('===dictionary length===', 8297)\n",
      "('======', u'\\u5f00')\n"
     ]
    }
   ],
   "source": [
    "for key, value in dictionary.items():\n",
    "    print(key, value)\n",
    "    break\n",
    "print(\"===dictionary length===\", len(dictionary))\n",
    "print(\"======\", dictionary.get(20))"
   ]
  },
  {
   "cell_type": "code",
   "execution_count": null,
   "metadata": {
    "collapsed": true
   },
   "outputs": [],
   "source": []
  }
 ],
 "metadata": {
  "anaconda-cloud": {},
  "kernelspec": {
   "display_name": "Python [conda env:python2]",
   "language": "python",
   "name": "conda-env-python2-py"
  },
  "language_info": {
   "codemirror_mode": {
    "name": "ipython",
    "version": 2
   },
   "file_extension": ".py",
   "mimetype": "text/x-python",
   "name": "python",
   "nbconvert_exporter": "python",
   "pygments_lexer": "ipython2",
   "version": "2.7.13"
  }
 },
 "nbformat": 4,
 "nbformat_minor": 2
}
