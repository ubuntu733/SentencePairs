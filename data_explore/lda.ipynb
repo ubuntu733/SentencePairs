{
 "cells": [
  {
   "cell_type": "code",
   "execution_count": 1,
   "metadata": {
    "collapsed": true
   },
   "outputs": [],
   "source": [
    "import pickle\n",
    "import numpy as np\n",
    "import scipy\n",
    "import gensim\n",
    "import sklearn\n",
    "import pandas as pd"
   ]
  },
  {
   "cell_type": "code",
   "execution_count": 2,
   "metadata": {
    "collapsed": true
   },
   "outputs": [],
   "source": [
    "datamatrix = pickle.load(open(\"../data/featurematrix.data\", \"rb\"))"
   ]
  },
  {
   "cell_type": "code",
   "execution_count": 4,
   "metadata": {
    "collapsed": false
   },
   "outputs": [
    {
     "data": {
      "text/plain": [
       "array([[ 1.23809488,  2.6       ,  0.8125    , ...,  0.41102522,\n",
       "        22.        , 15.        ],\n",
       "       [-4.00000046, -3.11111111, -5.6       , ...,  0.34216169,\n",
       "        17.        , 12.        ],\n",
       "       [-0.66666716, -0.71428571, -0.625     , ...,  0.07804434,\n",
       "        18.        , 12.        ],\n",
       "       ...,\n",
       "       [-2.88888938, -2.6       , -3.25      , ...,  0.82995183,\n",
       "        20.        , 13.        ],\n",
       "       [-2.16666715, -1.85714286, -2.6       , ...,  0.17947173,\n",
       "        14.        , 10.        ],\n",
       "       [-2.0000005 , -1.83333333, -2.2       , ...,  0.24473729,\n",
       "        14.        ,  7.        ]])"
      ]
     },
     "execution_count": 4,
     "metadata": {},
     "output_type": "execute_result"
    }
   ],
   "source": [
    "datamatrix"
   ]
  },
  {
   "cell_type": "code",
   "execution_count": 5,
   "metadata": {
    "collapsed": true
   },
   "outputs": [],
   "source": [
    "np.save(\"../data/datamatrix.npz\", datamatrix)"
   ]
  },
  {
   "cell_type": "code",
   "execution_count": null,
   "metadata": {
    "collapsed": true
   },
   "outputs": [],
   "source": []
  }
 ],
 "metadata": {
  "anaconda-cloud": {},
  "kernelspec": {
   "display_name": "Python [conda env:python2]",
   "language": "python",
   "name": "conda-env-python2-py"
  },
  "language_info": {
   "codemirror_mode": {
    "name": "ipython",
    "version": 2
   },
   "file_extension": ".py",
   "mimetype": "text/x-python",
   "name": "python",
   "nbconvert_exporter": "python",
   "pygments_lexer": "ipython2",
   "version": "2.7.13"
  }
 },
 "nbformat": 4,
 "nbformat_minor": 2
}
